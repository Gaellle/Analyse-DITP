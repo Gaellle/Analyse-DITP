{
  "nbformat": 4,
  "nbformat_minor": 0,
  "metadata": {
    "colab": {
      "name": "Analyse des écarts d’avancement de réformes prioritaires entre départements .ipynb",
      "provenance": [],
      "collapsed_sections": [
        "CKp6YEQNousd",
        "h5WYAhPIvyrq",
        "BNmXE-RKv9Pq"
      ],
      "toc_visible": true,
      "authorship_tag": "ABX9TyONNls2JfptY3A3ppEsTTDj",
      "include_colab_link": true
    },
    "kernelspec": {
      "name": "python3",
      "display_name": "Python 3"
    },
    "language_info": {
      "name": "python"
    }
  },
  "cells": [
    {
      "cell_type": "markdown",
      "metadata": {
        "id": "view-in-github",
        "colab_type": "text"
      },
      "source": [
        "<a href=\"https://colab.research.google.com/github/Gaellle/Analyse-DITP/blob/main/Analyse_des_%C3%A9carts_d%E2%80%99avancement_de_r%C3%A9formes_prioritaires_entre_d%C3%A9partements_.ipynb\" target=\"_parent\"><img src=\"https://colab.research.google.com/assets/colab-badge.svg\" alt=\"Open In Colab\"/></a>"
      ]
    },
    {
      "cell_type": "code",
      "execution_count": null,
      "metadata": {
        "id": "9VK9PyxJ23Bq"
      },
      "outputs": [],
      "source": [
        "import matplotlib.pyplot as plt\n",
        "import pandas as pd\n",
        "import numpy as np\n",
        "import seaborn as sns\n",
        "from datetime import datetime\n",
        "import plotly.graph_objects as go"
      ]
    },
    {
      "cell_type": "code",
      "source": [
        "synthese = 'https://www.data.gouv.fr/fr/datasets/r/8bf5f992-ce2b-40a2-9bc8-0bfec3bdef47'\n",
        "detail = 'https://raw.githubusercontent.com/etalab/barometre-resultats-donnees/master/barometre-resultats-detail-departemental.csv'"
      ],
      "metadata": {
        "id": "W3qiApgc6sd6"
      },
      "execution_count": null,
      "outputs": []
    },
    {
      "cell_type": "code",
      "source": [
        "df = pd.read_excel(synthese, sheet_name = 'synthese-departemental')\n",
        "df.head(2)"
      ],
      "metadata": {
        "colab": {
          "base_uri": "https://localhost:8080/",
          "height": 332
        },
        "id": "aCMpIMZx4RHh",
        "outputId": "434357af-cf5c-43cc-8d77-09a4f13bef31"
      },
      "execution_count": null,
      "outputs": [
        {
          "output_type": "execute_result",
          "data": {
            "text/html": [
              "\n",
              "  <div id=\"df-f99e73a1-59c0-4588-bb10-4ebf00372ebf\">\n",
              "    <div class=\"colab-df-container\">\n",
              "      <div>\n",
              "<style scoped>\n",
              "    .dataframe tbody tr th:only-of-type {\n",
              "        vertical-align: middle;\n",
              "    }\n",
              "\n",
              "    .dataframe tbody tr th {\n",
              "        vertical-align: top;\n",
              "    }\n",
              "\n",
              "    .dataframe thead th {\n",
              "        text-align: right;\n",
              "    }\n",
              "</style>\n",
              "<table border=\"1\" class=\"dataframe\">\n",
              "  <thead>\n",
              "    <tr style=\"text-align: right;\">\n",
              "      <th></th>\n",
              "      <th>mesure</th>\n",
              "      <th>indicateur</th>\n",
              "      <th>id_indicateur</th>\n",
              "      <th>code_departement</th>\n",
              "      <th>libelle_departement</th>\n",
              "      <th>valeur_actuelle</th>\n",
              "      <th>date_valeur_actuelle</th>\n",
              "      <th>valeur_initiale</th>\n",
              "      <th>date_valeur_initiale</th>\n",
              "      <th>progression</th>\n",
              "      <th>pourcentage_progression</th>\n",
              "      <th>progression_derniere_maj</th>\n",
              "      <th>pourcentage_progression_derniere_maj</th>\n",
              "      <th>progression_derniere_maj_date</th>\n",
              "      <th>cible</th>\n",
              "      <th>pourcentage_cible</th>\n",
              "      <th>date_cible</th>\n",
              "      <th>unite</th>\n",
              "    </tr>\n",
              "  </thead>\n",
              "  <tbody>\n",
              "    <tr>\n",
              "      <th>0</th>\n",
              "      <td>Dédoubler les classes en éducation prioritaire...</td>\n",
              "      <td>Part des classes de CP et CE1 en éducation pri...</td>\n",
              "      <td>tx-classes-cp-ce1-rep</td>\n",
              "      <td>01</td>\n",
              "      <td>Ain</td>\n",
              "      <td>100.0</td>\n",
              "      <td>2021-10-31</td>\n",
              "      <td>98.0</td>\n",
              "      <td>2019-10-31</td>\n",
              "      <td>2.0</td>\n",
              "      <td>2.0</td>\n",
              "      <td>100.0</td>\n",
              "      <td>0.0</td>\n",
              "      <td>2020-10-31</td>\n",
              "      <td>100.0</td>\n",
              "      <td>100.0</td>\n",
              "      <td>2021-10-31</td>\n",
              "      <td>% des classes</td>\n",
              "    </tr>\n",
              "    <tr>\n",
              "      <th>1</th>\n",
              "      <td>Dédoubler les classes en éducation prioritaire...</td>\n",
              "      <td>Part des classes de grande section en éducatio...</td>\n",
              "      <td>tx-gs-rep</td>\n",
              "      <td>01</td>\n",
              "      <td>Ain</td>\n",
              "      <td>88.0</td>\n",
              "      <td>2021-10-31</td>\n",
              "      <td>24.0</td>\n",
              "      <td>2019-11-30</td>\n",
              "      <td>64.0</td>\n",
              "      <td>267.0</td>\n",
              "      <td>36.0</td>\n",
              "      <td>144.0</td>\n",
              "      <td>2020-11-30</td>\n",
              "      <td>92.0</td>\n",
              "      <td>94.0</td>\n",
              "      <td>2022-11-30</td>\n",
              "      <td>% des classes</td>\n",
              "    </tr>\n",
              "  </tbody>\n",
              "</table>\n",
              "</div>\n",
              "      <button class=\"colab-df-convert\" onclick=\"convertToInteractive('df-f99e73a1-59c0-4588-bb10-4ebf00372ebf')\"\n",
              "              title=\"Convert this dataframe to an interactive table.\"\n",
              "              style=\"display:none;\">\n",
              "        \n",
              "  <svg xmlns=\"http://www.w3.org/2000/svg\" height=\"24px\"viewBox=\"0 0 24 24\"\n",
              "       width=\"24px\">\n",
              "    <path d=\"M0 0h24v24H0V0z\" fill=\"none\"/>\n",
              "    <path d=\"M18.56 5.44l.94 2.06.94-2.06 2.06-.94-2.06-.94-.94-2.06-.94 2.06-2.06.94zm-11 1L8.5 8.5l.94-2.06 2.06-.94-2.06-.94L8.5 2.5l-.94 2.06-2.06.94zm10 10l.94 2.06.94-2.06 2.06-.94-2.06-.94-.94-2.06-.94 2.06-2.06.94z\"/><path d=\"M17.41 7.96l-1.37-1.37c-.4-.4-.92-.59-1.43-.59-.52 0-1.04.2-1.43.59L10.3 9.45l-7.72 7.72c-.78.78-.78 2.05 0 2.83L4 21.41c.39.39.9.59 1.41.59.51 0 1.02-.2 1.41-.59l7.78-7.78 2.81-2.81c.8-.78.8-2.07 0-2.86zM5.41 20L4 18.59l7.72-7.72 1.47 1.35L5.41 20z\"/>\n",
              "  </svg>\n",
              "      </button>\n",
              "      \n",
              "  <style>\n",
              "    .colab-df-container {\n",
              "      display:flex;\n",
              "      flex-wrap:wrap;\n",
              "      gap: 12px;\n",
              "    }\n",
              "\n",
              "    .colab-df-convert {\n",
              "      background-color: #E8F0FE;\n",
              "      border: none;\n",
              "      border-radius: 50%;\n",
              "      cursor: pointer;\n",
              "      display: none;\n",
              "      fill: #1967D2;\n",
              "      height: 32px;\n",
              "      padding: 0 0 0 0;\n",
              "      width: 32px;\n",
              "    }\n",
              "\n",
              "    .colab-df-convert:hover {\n",
              "      background-color: #E2EBFA;\n",
              "      box-shadow: 0px 1px 2px rgba(60, 64, 67, 0.3), 0px 1px 3px 1px rgba(60, 64, 67, 0.15);\n",
              "      fill: #174EA6;\n",
              "    }\n",
              "\n",
              "    [theme=dark] .colab-df-convert {\n",
              "      background-color: #3B4455;\n",
              "      fill: #D2E3FC;\n",
              "    }\n",
              "\n",
              "    [theme=dark] .colab-df-convert:hover {\n",
              "      background-color: #434B5C;\n",
              "      box-shadow: 0px 1px 3px 1px rgba(0, 0, 0, 0.15);\n",
              "      filter: drop-shadow(0px 1px 2px rgba(0, 0, 0, 0.3));\n",
              "      fill: #FFFFFF;\n",
              "    }\n",
              "  </style>\n",
              "\n",
              "      <script>\n",
              "        const buttonEl =\n",
              "          document.querySelector('#df-f99e73a1-59c0-4588-bb10-4ebf00372ebf button.colab-df-convert');\n",
              "        buttonEl.style.display =\n",
              "          google.colab.kernel.accessAllowed ? 'block' : 'none';\n",
              "\n",
              "        async function convertToInteractive(key) {\n",
              "          const element = document.querySelector('#df-f99e73a1-59c0-4588-bb10-4ebf00372ebf');\n",
              "          const dataTable =\n",
              "            await google.colab.kernel.invokeFunction('convertToInteractive',\n",
              "                                                     [key], {});\n",
              "          if (!dataTable) return;\n",
              "\n",
              "          const docLinkHtml = 'Like what you see? Visit the ' +\n",
              "            '<a target=\"_blank\" href=https://colab.research.google.com/notebooks/data_table.ipynb>data table notebook</a>'\n",
              "            + ' to learn more about interactive tables.';\n",
              "          element.innerHTML = '';\n",
              "          dataTable['output_type'] = 'display_data';\n",
              "          await google.colab.output.renderOutput(dataTable, element);\n",
              "          const docLink = document.createElement('div');\n",
              "          docLink.innerHTML = docLinkHtml;\n",
              "          element.appendChild(docLink);\n",
              "        }\n",
              "      </script>\n",
              "    </div>\n",
              "  </div>\n",
              "  "
            ],
            "text/plain": [
              "                                              mesure  ...          unite\n",
              "0  Dédoubler les classes en éducation prioritaire...  ...  % des classes\n",
              "1  Dédoubler les classes en éducation prioritaire...  ...  % des classes\n",
              "\n",
              "[2 rows x 18 columns]"
            ]
          },
          "metadata": {},
          "execution_count": 3
        }
      ]
    },
    {
      "cell_type": "code",
      "source": [
        "detail = pd.read_csv(detail)\n",
        "detail"
      ],
      "metadata": {
        "id": "i5eMuiXm7Jpn",
        "colab": {
          "base_uri": "https://localhost:8080/",
          "height": 641
        },
        "outputId": "a23c3e1e-2fe1-4593-8d8d-f102d31ddd66"
      },
      "execution_count": null,
      "outputs": [
        {
          "output_type": "execute_result",
          "data": {
            "text/html": [
              "\n",
              "  <div id=\"df-17e43d08-e944-4ef7-962c-3c9eb64731de\">\n",
              "    <div class=\"colab-df-container\">\n",
              "      <div>\n",
              "<style scoped>\n",
              "    .dataframe tbody tr th:only-of-type {\n",
              "        vertical-align: middle;\n",
              "    }\n",
              "\n",
              "    .dataframe tbody tr th {\n",
              "        vertical-align: top;\n",
              "    }\n",
              "\n",
              "    .dataframe thead th {\n",
              "        text-align: right;\n",
              "    }\n",
              "</style>\n",
              "<table border=\"1\" class=\"dataframe\">\n",
              "  <thead>\n",
              "    <tr style=\"text-align: right;\">\n",
              "      <th></th>\n",
              "      <th>mesure</th>\n",
              "      <th>indicateur</th>\n",
              "      <th>id_indicateur</th>\n",
              "      <th>code_departement</th>\n",
              "      <th>libelle_departement</th>\n",
              "      <th>date</th>\n",
              "      <th>valeur</th>\n",
              "      <th>unite</th>\n",
              "    </tr>\n",
              "  </thead>\n",
              "  <tbody>\n",
              "    <tr>\n",
              "      <th>0</th>\n",
              "      <td>Lutter contre la récidive par une meilleure in...</td>\n",
              "      <td>Postes de travail d’intérêt général proposés s...</td>\n",
              "      <td>nb-postes-tig</td>\n",
              "      <td>01</td>\n",
              "      <td>Ain</td>\n",
              "      <td>2021-03-31</td>\n",
              "      <td>161.0</td>\n",
              "      <td>postes</td>\n",
              "    </tr>\n",
              "    <tr>\n",
              "      <th>1</th>\n",
              "      <td>Lutter contre la récidive par une meilleure in...</td>\n",
              "      <td>Postes de travail d’intérêt général proposés s...</td>\n",
              "      <td>nb-postes-tig</td>\n",
              "      <td>01</td>\n",
              "      <td>Ain</td>\n",
              "      <td>2021-09-30</td>\n",
              "      <td>157.0</td>\n",
              "      <td>postes</td>\n",
              "    </tr>\n",
              "    <tr>\n",
              "      <th>2</th>\n",
              "      <td>Lutter contre la récidive par une meilleure in...</td>\n",
              "      <td>Postes de travail d’intérêt général proposés s...</td>\n",
              "      <td>nb-postes-tig</td>\n",
              "      <td>01</td>\n",
              "      <td>Ain</td>\n",
              "      <td>2021-11-30</td>\n",
              "      <td>161.0</td>\n",
              "      <td>postes</td>\n",
              "    </tr>\n",
              "    <tr>\n",
              "      <th>3</th>\n",
              "      <td>Lutter contre la récidive par une meilleure in...</td>\n",
              "      <td>Taux de personnes détenues ayant bénéficié d'u...</td>\n",
              "      <td>tx-detenus-formation</td>\n",
              "      <td>01</td>\n",
              "      <td>Ain</td>\n",
              "      <td>2021-06-30</td>\n",
              "      <td>7.0</td>\n",
              "      <td>% de détenus</td>\n",
              "    </tr>\n",
              "    <tr>\n",
              "      <th>4</th>\n",
              "      <td>Lutter contre la récidive par une meilleure in...</td>\n",
              "      <td>Taux de personnes détenues ayant bénéficié d'u...</td>\n",
              "      <td>tx-detenus-formation</td>\n",
              "      <td>01</td>\n",
              "      <td>Ain</td>\n",
              "      <td>2021-09-30</td>\n",
              "      <td>7.0</td>\n",
              "      <td>% de détenus</td>\n",
              "    </tr>\n",
              "    <tr>\n",
              "      <th>...</th>\n",
              "      <td>...</td>\n",
              "      <td>...</td>\n",
              "      <td>...</td>\n",
              "      <td>...</td>\n",
              "      <td>...</td>\n",
              "      <td>...</td>\n",
              "      <td>...</td>\n",
              "      <td>...</td>\n",
              "    </tr>\n",
              "    <tr>\n",
              "      <th>81570</th>\n",
              "      <td>Développer l’apprentissage</td>\n",
              "      <td>Nombre de contrats d’apprentissage</td>\n",
              "      <td>nombre-contrats-apprentissage</td>\n",
              "      <td>976</td>\n",
              "      <td>Mayotte</td>\n",
              "      <td>2017-12-31</td>\n",
              "      <td>14.0</td>\n",
              "      <td>contrats</td>\n",
              "    </tr>\n",
              "    <tr>\n",
              "      <th>81571</th>\n",
              "      <td>Développer l’apprentissage</td>\n",
              "      <td>Nombre de contrats d’apprentissage</td>\n",
              "      <td>nombre-contrats-apprentissage</td>\n",
              "      <td>976</td>\n",
              "      <td>Mayotte</td>\n",
              "      <td>2018-12-31</td>\n",
              "      <td>126.0</td>\n",
              "      <td>contrats</td>\n",
              "    </tr>\n",
              "    <tr>\n",
              "      <th>81572</th>\n",
              "      <td>Développer l’apprentissage</td>\n",
              "      <td>Nombre de contrats d’apprentissage</td>\n",
              "      <td>nombre-contrats-apprentissage</td>\n",
              "      <td>976</td>\n",
              "      <td>Mayotte</td>\n",
              "      <td>2019-12-31</td>\n",
              "      <td>131.0</td>\n",
              "      <td>contrats</td>\n",
              "    </tr>\n",
              "    <tr>\n",
              "      <th>81573</th>\n",
              "      <td>Développer l’apprentissage</td>\n",
              "      <td>Nombre de contrats d’apprentissage</td>\n",
              "      <td>nombre-contrats-apprentissage</td>\n",
              "      <td>976</td>\n",
              "      <td>Mayotte</td>\n",
              "      <td>2020-12-31</td>\n",
              "      <td>271.0</td>\n",
              "      <td>contrats</td>\n",
              "    </tr>\n",
              "    <tr>\n",
              "      <th>81574</th>\n",
              "      <td>Développer l’apprentissage</td>\n",
              "      <td>Nombre de contrats d’apprentissage</td>\n",
              "      <td>nombre-contrats-apprentissage</td>\n",
              "      <td>976</td>\n",
              "      <td>Mayotte</td>\n",
              "      <td>2021-09-30</td>\n",
              "      <td>148.0</td>\n",
              "      <td>contrats</td>\n",
              "    </tr>\n",
              "  </tbody>\n",
              "</table>\n",
              "<p>81575 rows × 8 columns</p>\n",
              "</div>\n",
              "      <button class=\"colab-df-convert\" onclick=\"convertToInteractive('df-17e43d08-e944-4ef7-962c-3c9eb64731de')\"\n",
              "              title=\"Convert this dataframe to an interactive table.\"\n",
              "              style=\"display:none;\">\n",
              "        \n",
              "  <svg xmlns=\"http://www.w3.org/2000/svg\" height=\"24px\"viewBox=\"0 0 24 24\"\n",
              "       width=\"24px\">\n",
              "    <path d=\"M0 0h24v24H0V0z\" fill=\"none\"/>\n",
              "    <path d=\"M18.56 5.44l.94 2.06.94-2.06 2.06-.94-2.06-.94-.94-2.06-.94 2.06-2.06.94zm-11 1L8.5 8.5l.94-2.06 2.06-.94-2.06-.94L8.5 2.5l-.94 2.06-2.06.94zm10 10l.94 2.06.94-2.06 2.06-.94-2.06-.94-.94-2.06-.94 2.06-2.06.94z\"/><path d=\"M17.41 7.96l-1.37-1.37c-.4-.4-.92-.59-1.43-.59-.52 0-1.04.2-1.43.59L10.3 9.45l-7.72 7.72c-.78.78-.78 2.05 0 2.83L4 21.41c.39.39.9.59 1.41.59.51 0 1.02-.2 1.41-.59l7.78-7.78 2.81-2.81c.8-.78.8-2.07 0-2.86zM5.41 20L4 18.59l7.72-7.72 1.47 1.35L5.41 20z\"/>\n",
              "  </svg>\n",
              "      </button>\n",
              "      \n",
              "  <style>\n",
              "    .colab-df-container {\n",
              "      display:flex;\n",
              "      flex-wrap:wrap;\n",
              "      gap: 12px;\n",
              "    }\n",
              "\n",
              "    .colab-df-convert {\n",
              "      background-color: #E8F0FE;\n",
              "      border: none;\n",
              "      border-radius: 50%;\n",
              "      cursor: pointer;\n",
              "      display: none;\n",
              "      fill: #1967D2;\n",
              "      height: 32px;\n",
              "      padding: 0 0 0 0;\n",
              "      width: 32px;\n",
              "    }\n",
              "\n",
              "    .colab-df-convert:hover {\n",
              "      background-color: #E2EBFA;\n",
              "      box-shadow: 0px 1px 2px rgba(60, 64, 67, 0.3), 0px 1px 3px 1px rgba(60, 64, 67, 0.15);\n",
              "      fill: #174EA6;\n",
              "    }\n",
              "\n",
              "    [theme=dark] .colab-df-convert {\n",
              "      background-color: #3B4455;\n",
              "      fill: #D2E3FC;\n",
              "    }\n",
              "\n",
              "    [theme=dark] .colab-df-convert:hover {\n",
              "      background-color: #434B5C;\n",
              "      box-shadow: 0px 1px 3px 1px rgba(0, 0, 0, 0.15);\n",
              "      filter: drop-shadow(0px 1px 2px rgba(0, 0, 0, 0.3));\n",
              "      fill: #FFFFFF;\n",
              "    }\n",
              "  </style>\n",
              "\n",
              "      <script>\n",
              "        const buttonEl =\n",
              "          document.querySelector('#df-17e43d08-e944-4ef7-962c-3c9eb64731de button.colab-df-convert');\n",
              "        buttonEl.style.display =\n",
              "          google.colab.kernel.accessAllowed ? 'block' : 'none';\n",
              "\n",
              "        async function convertToInteractive(key) {\n",
              "          const element = document.querySelector('#df-17e43d08-e944-4ef7-962c-3c9eb64731de');\n",
              "          const dataTable =\n",
              "            await google.colab.kernel.invokeFunction('convertToInteractive',\n",
              "                                                     [key], {});\n",
              "          if (!dataTable) return;\n",
              "\n",
              "          const docLinkHtml = 'Like what you see? Visit the ' +\n",
              "            '<a target=\"_blank\" href=https://colab.research.google.com/notebooks/data_table.ipynb>data table notebook</a>'\n",
              "            + ' to learn more about interactive tables.';\n",
              "          element.innerHTML = '';\n",
              "          dataTable['output_type'] = 'display_data';\n",
              "          await google.colab.output.renderOutput(dataTable, element);\n",
              "          const docLink = document.createElement('div');\n",
              "          docLink.innerHTML = docLinkHtml;\n",
              "          element.appendChild(docLink);\n",
              "        }\n",
              "      </script>\n",
              "    </div>\n",
              "  </div>\n",
              "  "
            ],
            "text/plain": [
              "                                                  mesure  ...         unite\n",
              "0      Lutter contre la récidive par une meilleure in...  ...        postes\n",
              "1      Lutter contre la récidive par une meilleure in...  ...        postes\n",
              "2      Lutter contre la récidive par une meilleure in...  ...        postes\n",
              "3      Lutter contre la récidive par une meilleure in...  ...  % de détenus\n",
              "4      Lutter contre la récidive par une meilleure in...  ...  % de détenus\n",
              "...                                                  ...  ...           ...\n",
              "81570                         Développer l’apprentissage  ...      contrats\n",
              "81571                         Développer l’apprentissage  ...      contrats\n",
              "81572                         Développer l’apprentissage  ...      contrats\n",
              "81573                         Développer l’apprentissage  ...      contrats\n",
              "81574                         Développer l’apprentissage  ...      contrats\n",
              "\n",
              "[81575 rows x 8 columns]"
            ]
          },
          "metadata": {},
          "execution_count": 4
        }
      ]
    },
    {
      "cell_type": "code",
      "source": [
        "# je convertis valeur en numeric pour detail et date pour date\n",
        "detail.valeur = detail.valeur.apply(int)\n",
        "detail['date']= pd.to_datetime(detail['date'])"
      ],
      "metadata": {
        "id": "SvoPaaE9pAwc"
      },
      "execution_count": null,
      "outputs": []
    },
    {
      "cell_type": "code",
      "source": [
        "# j'exporte en excel\n",
        "detail.to_excel('detail-dept.xlsx', index = False)"
      ],
      "metadata": {
        "id": "LECTAR9spUey"
      },
      "execution_count": null,
      "outputs": []
    },
    {
      "cell_type": "code",
      "source": [
        "df.mesure.unique()"
      ],
      "metadata": {
        "colab": {
          "base_uri": "https://localhost:8080/"
        },
        "id": "qtrWW-7v7o4I",
        "outputId": "16e8c30b-54f5-478a-d4d3-b0fd803e516d"
      },
      "execution_count": null,
      "outputs": [
        {
          "output_type": "execute_result",
          "data": {
            "text/plain": [
              "array(['Dédoubler les classes en éducation prioritaire (grande section, CP, CE1) ',\n",
              "       'Limiter les classes à 24 en grande section, CP, CE1',\n",
              "       'Devoirs faits au collège',\n",
              "       'Offrir une scolarisation inclusive à tous les enfants handicapés',\n",
              "       'Déployer Parcoursup ', \"Promouvoir l'engagement chez les jeunes\",\n",
              "       'Aide de France Relance aux entreprises',\n",
              "       'Numérisation des petites et moyennes entreprises',\n",
              "       'Développer l’apprentissage', 'Plan 1 jeune 1 solution',\n",
              "       \"Pacte d'ambition pour l'insertion par l'activité économique\",\n",
              "       'Supprimer la taxe d’habitation sur les résidences principales',\n",
              "       'Déployer le plan vélo', 'Verdir le parc automobile',\n",
              "       'Mettre en œuvre la sortie du plastique à usage unique et lutter contre le gaspillage',\n",
              "       \"Réduire l'utilisation des produits phytosanitaires et accélérer la transition écologique\",\n",
              "       'Sécuriser le paiement des aides PAC',\n",
              "       'Renforcer la sécurité du quotidien',\n",
              "       'Lutter contre les stupéfiants',\n",
              "       'Lutter contre les violences faites aux femmes',\n",
              "       'Lutter contre les atteintes aux principes républicains',\n",
              "       'Réduire la mortalité sur les routes',\n",
              "       'Lutter contre la récidive par une meilleure insertion professionnelle des condamnés',\n",
              "       'Lutter contre les impayés de pensions alimentaires',\n",
              "       'Proposer une offre de lunettes, appareils auditifs et prothèses dentaires remboursée à 100%',\n",
              "       'Doubler le nombre de maisons de santé et de centres de santé dans les territoires',\n",
              "       'Allonger le congé paternité pour un meilleur développement de l’enfant',\n",
              "       'Simplifier l’accès aux droits des personnes handicapées',\n",
              "       \"MaPrimeRénov'\",\n",
              "       'Faciliter l’accès au logement des personnes sans-abri',\n",
              "       'Améliorer la qualité du service rendu à l’usager',\n",
              "       \"Assurer une bonne couverture en internet fixe et en téléphonie mobile pour tous les Français d'ici 2022\",\n",
              "       'Déployer une offre France Services dans tous les territoires ',\n",
              "       'Déployer le Pass culture', 'Accompagner les aidants',\n",
              "       'Redynamiser les cœurs de ville',\n",
              "       'Apprendre à nager et à circuler à vélo en toute sécurité',\n",
              "       'Simplifier l’accès à l’aide juridictionnelle',\n",
              "       \"Garantir l'égalité professionnelle entre les femmes et les hommes\",\n",
              "       'Instaurer des zones à faibles émissions'], dtype=object)"
            ]
          },
          "metadata": {},
          "execution_count": 5
        }
      ]
    },
    {
      "cell_type": "code",
      "source": [
        "df.isna().sum()"
      ],
      "metadata": {
        "colab": {
          "base_uri": "https://localhost:8080/"
        },
        "id": "4pM7eCOfDNoe",
        "outputId": "bb3d75bc-cca0-426f-b965-eef1766f9dc9"
      },
      "execution_count": null,
      "outputs": [
        {
          "output_type": "execute_result",
          "data": {
            "text/plain": [
              "mesure                                     0\n",
              "indicateur                                 0\n",
              "id_indicateur                              0\n",
              "code_departement                           0\n",
              "libelle_departement                        0\n",
              "valeur_actuelle                            0\n",
              "date_valeur_actuelle                       0\n",
              "valeur_initiale                          117\n",
              "date_valeur_initiale                     117\n",
              "progression                              117\n",
              "pourcentage_progression                 2290\n",
              "progression_derniere_maj                2098\n",
              "pourcentage_progression_derniere_maj    2098\n",
              "progression_derniere_maj_date           2098\n",
              "cible                                   1714\n",
              "pourcentage_cible                       1793\n",
              "date_cible                              1714\n",
              "unite                                      0\n",
              "dtype: int64"
            ]
          },
          "metadata": {},
          "execution_count": 6
        }
      ]
    },
    {
      "cell_type": "markdown",
      "source": [
        "# Assurer une bonne couverture en internet fixe et en téléphonie mobile pour tous les Français d’ici 2022 (indicateur : Taux de déploiement de la fibre)"
      ],
      "metadata": {
        "id": "mO2fgKh77TjE"
      }
    },
    {
      "cell_type": "code",
      "source": [
        "df_1 = df[df['mesure']== \"Assurer une bonne couverture en internet fixe et en téléphonie mobile pour tous les Français d'ici 2022\"].reset_index(drop = True)\n",
        "df_1.head(2)"
      ],
      "metadata": {
        "colab": {
          "base_uri": "https://localhost:8080/",
          "height": 349
        },
        "id": "XLONn7NQ7XDi",
        "outputId": "455c5f3c-7eb3-4544-ba5d-930b6f1f6c3a"
      },
      "execution_count": null,
      "outputs": [
        {
          "output_type": "execute_result",
          "data": {
            "text/html": [
              "\n",
              "  <div id=\"df-d14a634a-3540-485b-b0e3-f283806b6902\">\n",
              "    <div class=\"colab-df-container\">\n",
              "      <div>\n",
              "<style scoped>\n",
              "    .dataframe tbody tr th:only-of-type {\n",
              "        vertical-align: middle;\n",
              "    }\n",
              "\n",
              "    .dataframe tbody tr th {\n",
              "        vertical-align: top;\n",
              "    }\n",
              "\n",
              "    .dataframe thead th {\n",
              "        text-align: right;\n",
              "    }\n",
              "</style>\n",
              "<table border=\"1\" class=\"dataframe\">\n",
              "  <thead>\n",
              "    <tr style=\"text-align: right;\">\n",
              "      <th></th>\n",
              "      <th>mesure</th>\n",
              "      <th>indicateur</th>\n",
              "      <th>id_indicateur</th>\n",
              "      <th>code_departement</th>\n",
              "      <th>libelle_departement</th>\n",
              "      <th>valeur_actuelle</th>\n",
              "      <th>date_valeur_actuelle</th>\n",
              "      <th>valeur_initiale</th>\n",
              "      <th>date_valeur_initiale</th>\n",
              "      <th>progression</th>\n",
              "      <th>pourcentage_progression</th>\n",
              "      <th>progression_derniere_maj</th>\n",
              "      <th>pourcentage_progression_derniere_maj</th>\n",
              "      <th>progression_derniere_maj_date</th>\n",
              "      <th>cible</th>\n",
              "      <th>pourcentage_cible</th>\n",
              "      <th>date_cible</th>\n",
              "      <th>unite</th>\n",
              "    </tr>\n",
              "  </thead>\n",
              "  <tbody>\n",
              "    <tr>\n",
              "      <th>0</th>\n",
              "      <td>Assurer une bonne couverture en internet fixe ...</td>\n",
              "      <td>Taux de déploiement de la fibre</td>\n",
              "      <td>taux-deploiement-fibre</td>\n",
              "      <td>01</td>\n",
              "      <td>Ain</td>\n",
              "      <td>50.0</td>\n",
              "      <td>2021-09-30</td>\n",
              "      <td>36.0</td>\n",
              "      <td>2017-12-31</td>\n",
              "      <td>14.0</td>\n",
              "      <td>39.0</td>\n",
              "      <td>48.0</td>\n",
              "      <td>4.0</td>\n",
              "      <td>2020-09-30</td>\n",
              "      <td>NaN</td>\n",
              "      <td>NaN</td>\n",
              "      <td>NaN</td>\n",
              "      <td>% de déploiement</td>\n",
              "    </tr>\n",
              "    <tr>\n",
              "      <th>1</th>\n",
              "      <td>Assurer une bonne couverture en internet fixe ...</td>\n",
              "      <td>Taux de déploiement de la fibre</td>\n",
              "      <td>taux-deploiement-fibre</td>\n",
              "      <td>02</td>\n",
              "      <td>Aisne</td>\n",
              "      <td>88.0</td>\n",
              "      <td>2021-09-30</td>\n",
              "      <td>20.0</td>\n",
              "      <td>2017-12-31</td>\n",
              "      <td>68.0</td>\n",
              "      <td>340.0</td>\n",
              "      <td>75.0</td>\n",
              "      <td>17.0</td>\n",
              "      <td>2020-09-30</td>\n",
              "      <td>NaN</td>\n",
              "      <td>NaN</td>\n",
              "      <td>NaN</td>\n",
              "      <td>% de déploiement</td>\n",
              "    </tr>\n",
              "  </tbody>\n",
              "</table>\n",
              "</div>\n",
              "      <button class=\"colab-df-convert\" onclick=\"convertToInteractive('df-d14a634a-3540-485b-b0e3-f283806b6902')\"\n",
              "              title=\"Convert this dataframe to an interactive table.\"\n",
              "              style=\"display:none;\">\n",
              "        \n",
              "  <svg xmlns=\"http://www.w3.org/2000/svg\" height=\"24px\"viewBox=\"0 0 24 24\"\n",
              "       width=\"24px\">\n",
              "    <path d=\"M0 0h24v24H0V0z\" fill=\"none\"/>\n",
              "    <path d=\"M18.56 5.44l.94 2.06.94-2.06 2.06-.94-2.06-.94-.94-2.06-.94 2.06-2.06.94zm-11 1L8.5 8.5l.94-2.06 2.06-.94-2.06-.94L8.5 2.5l-.94 2.06-2.06.94zm10 10l.94 2.06.94-2.06 2.06-.94-2.06-.94-.94-2.06-.94 2.06-2.06.94z\"/><path d=\"M17.41 7.96l-1.37-1.37c-.4-.4-.92-.59-1.43-.59-.52 0-1.04.2-1.43.59L10.3 9.45l-7.72 7.72c-.78.78-.78 2.05 0 2.83L4 21.41c.39.39.9.59 1.41.59.51 0 1.02-.2 1.41-.59l7.78-7.78 2.81-2.81c.8-.78.8-2.07 0-2.86zM5.41 20L4 18.59l7.72-7.72 1.47 1.35L5.41 20z\"/>\n",
              "  </svg>\n",
              "      </button>\n",
              "      \n",
              "  <style>\n",
              "    .colab-df-container {\n",
              "      display:flex;\n",
              "      flex-wrap:wrap;\n",
              "      gap: 12px;\n",
              "    }\n",
              "\n",
              "    .colab-df-convert {\n",
              "      background-color: #E8F0FE;\n",
              "      border: none;\n",
              "      border-radius: 50%;\n",
              "      cursor: pointer;\n",
              "      display: none;\n",
              "      fill: #1967D2;\n",
              "      height: 32px;\n",
              "      padding: 0 0 0 0;\n",
              "      width: 32px;\n",
              "    }\n",
              "\n",
              "    .colab-df-convert:hover {\n",
              "      background-color: #E2EBFA;\n",
              "      box-shadow: 0px 1px 2px rgba(60, 64, 67, 0.3), 0px 1px 3px 1px rgba(60, 64, 67, 0.15);\n",
              "      fill: #174EA6;\n",
              "    }\n",
              "\n",
              "    [theme=dark] .colab-df-convert {\n",
              "      background-color: #3B4455;\n",
              "      fill: #D2E3FC;\n",
              "    }\n",
              "\n",
              "    [theme=dark] .colab-df-convert:hover {\n",
              "      background-color: #434B5C;\n",
              "      box-shadow: 0px 1px 3px 1px rgba(0, 0, 0, 0.15);\n",
              "      filter: drop-shadow(0px 1px 2px rgba(0, 0, 0, 0.3));\n",
              "      fill: #FFFFFF;\n",
              "    }\n",
              "  </style>\n",
              "\n",
              "      <script>\n",
              "        const buttonEl =\n",
              "          document.querySelector('#df-d14a634a-3540-485b-b0e3-f283806b6902 button.colab-df-convert');\n",
              "        buttonEl.style.display =\n",
              "          google.colab.kernel.accessAllowed ? 'block' : 'none';\n",
              "\n",
              "        async function convertToInteractive(key) {\n",
              "          const element = document.querySelector('#df-d14a634a-3540-485b-b0e3-f283806b6902');\n",
              "          const dataTable =\n",
              "            await google.colab.kernel.invokeFunction('convertToInteractive',\n",
              "                                                     [key], {});\n",
              "          if (!dataTable) return;\n",
              "\n",
              "          const docLinkHtml = 'Like what you see? Visit the ' +\n",
              "            '<a target=\"_blank\" href=https://colab.research.google.com/notebooks/data_table.ipynb>data table notebook</a>'\n",
              "            + ' to learn more about interactive tables.';\n",
              "          element.innerHTML = '';\n",
              "          dataTable['output_type'] = 'display_data';\n",
              "          await google.colab.output.renderOutput(dataTable, element);\n",
              "          const docLink = document.createElement('div');\n",
              "          docLink.innerHTML = docLinkHtml;\n",
              "          element.appendChild(docLink);\n",
              "        }\n",
              "      </script>\n",
              "    </div>\n",
              "  </div>\n",
              "  "
            ],
            "text/plain": [
              "                                              mesure  ...             unite\n",
              "0  Assurer une bonne couverture en internet fixe ...  ...  % de déploiement\n",
              "1  Assurer une bonne couverture en internet fixe ...  ...  % de déploiement\n",
              "\n",
              "[2 rows x 18 columns]"
            ]
          },
          "metadata": {},
          "execution_count": 364
        }
      ]
    },
    {
      "cell_type": "markdown",
      "source": [
        "## Fillna, dtypes"
      ],
      "metadata": {
        "id": "ix67EzkSr-GP"
      }
    },
    {
      "cell_type": "code",
      "source": [
        "df_1.isna().sum()"
      ],
      "metadata": {
        "id": "1wC005pBDl2V",
        "colab": {
          "base_uri": "https://localhost:8080/"
        },
        "outputId": "b5f68e28-85e0-4eb4-d3e8-8fa12f5e04f0"
      },
      "execution_count": null,
      "outputs": [
        {
          "output_type": "execute_result",
          "data": {
            "text/plain": [
              "mesure                                    0\n",
              "indicateur                                0\n",
              "id_indicateur                             0\n",
              "code_departement                          0\n",
              "libelle_departement                       0\n",
              "valeur_actuelle                           0\n",
              "date_valeur_actuelle                      0\n",
              "valeur_initiale                           0\n",
              "date_valeur_initiale                      0\n",
              "progression                               0\n",
              "pourcentage_progression                   1\n",
              "progression_derniere_maj                  1\n",
              "pourcentage_progression_derniere_maj      1\n",
              "progression_derniere_maj_date             1\n",
              "cible                                   101\n",
              "pourcentage_cible                       101\n",
              "date_cible                              101\n",
              "unite                                     0\n",
              "dtype: int64"
            ]
          },
          "metadata": {},
          "execution_count": 365
        }
      ]
    },
    {
      "cell_type": "code",
      "source": [
        "# Je vérifie les types de données des colonnes\n",
        "df_1.dtypes"
      ],
      "metadata": {
        "colab": {
          "base_uri": "https://localhost:8080/"
        },
        "id": "xhRnCM5T77_P",
        "outputId": "14fd06b1-0fe4-4ded-aef6-5556bb04a6fc"
      },
      "execution_count": null,
      "outputs": [
        {
          "output_type": "execute_result",
          "data": {
            "text/plain": [
              "mesure                                   object\n",
              "indicateur                               object\n",
              "id_indicateur                            object\n",
              "code_departement                         object\n",
              "libelle_departement                      object\n",
              "valeur_actuelle                         float64\n",
              "date_valeur_actuelle                     object\n",
              "valeur_initiale                         float64\n",
              "date_valeur_initiale                     object\n",
              "progression                             float64\n",
              "pourcentage_progression                 float64\n",
              "progression_derniere_maj                float64\n",
              "pourcentage_progression_derniere_maj    float64\n",
              "progression_derniere_maj_date            object\n",
              "cible                                   float64\n",
              "pourcentage_cible                       float64\n",
              "date_cible                               object\n",
              "unite                                    object\n",
              "dtype: object"
            ]
          },
          "metadata": {},
          "execution_count": 130
        }
      ]
    },
    {
      "cell_type": "code",
      "source": [
        "df_1.fillna(0, inplace=True)"
      ],
      "metadata": {
        "id": "K4gWesYnDJ71"
      },
      "execution_count": null,
      "outputs": []
    },
    {
      "cell_type": "code",
      "source": [
        "df_1.cible = df_1.cible.apply(int)\n",
        "df_1.pourcentage_cible = df_1.pourcentage_cible.apply(int)\n",
        "df_1.valeur_actuelle = df_1.valeur_actuelle.apply(int)\n",
        "df_1.valeur_initiale  = df_1.valeur_initiale .apply(int)"
      ],
      "metadata": {
        "id": "7DyZZXBYCyJ3"
      },
      "execution_count": null,
      "outputs": []
    },
    {
      "cell_type": "code",
      "source": [
        "df_1['date_valeur_initiale'] = df_1['date_valeur_initiale'].apply(lambda x : datetime.strptime(str(x),'%Y-%m-%d') if x !=0 else 0)\n",
        "df_1['date_valeur_actuelle'] = df_1['date_valeur_actuelle'].apply(lambda x : datetime.strptime(str(x),'%Y-%m-%d')if x !=0 else 0)\n",
        "df_1['progression_derniere_maj_date'] = df_1['progression_derniere_maj_date'].apply(lambda x : datetime.strptime(str(x),'%Y-%m-%d')if x !=0 else 0)\n",
        "df_1['date_valeur_initiale'] = df_1['date_valeur_initiale'].apply(lambda x : x.year if x !=0 else 0)\n",
        "df_1['date_valeur_actuelle'] = df_1['date_valeur_actuelle'].apply(lambda x : x.year if x !=0 else 0)\n",
        "df_1['progression_derniere_maj_date'] = df_1['progression_derniere_maj_date'].apply(lambda x : x.year if x !=0 else 0)"
      ],
      "metadata": {
        "id": "9rXsK5VNUUhU"
      },
      "execution_count": null,
      "outputs": []
    },
    {
      "cell_type": "code",
      "source": [
        "n = input('Entrer le numéro du département :')\n",
        "\n",
        "df_fibre = df_1[df_1['code_departement']==n].reset_index(drop = True)\n",
        "\n",
        "# Taux d'avancement\n",
        "value1 = int(df_fibre['pourcentage_cible'])\n",
        "\n",
        "# progression 20/21\n",
        "value3 = int(df_fibre['pourcentage_progression_derniere_maj'])\n",
        "\n",
        "# Nombre de km\n",
        "dates_a = [df_fibre.loc[0,'date_valeur_initiale'], df_fibre.loc[0,'date_valeur_actuelle'],df_fibre.loc[0,'progression_derniere_maj_date']]\n",
        "\n",
        "values_a = [int(df_fibre.loc[0,'valeur_initiale']), int(df_fibre.loc[0,'valeur_actuelle']),int(df_fibre.loc[0,'progression_derniere_maj'])]"
      ],
      "metadata": {
        "colab": {
          "base_uri": "https://localhost:8080/"
        },
        "id": "0y7zjKLnU2AV",
        "outputId": "9cb37ec6-cf64-4ac6-a7ff-72ad6da8379c"
      },
      "execution_count": null,
      "outputs": [
        {
          "name": "stdout",
          "output_type": "stream",
          "text": [
            "Entrer le numéro du département :33\n"
          ]
        }
      ]
    },
    {
      "cell_type": "code",
      "source": [
        "\n",
        "\n",
        "fig = go.Figure()\n",
        "\n",
        "fig.add_trace(go.Indicator(\n",
        "    value = value3,\n",
        "    title = {'text': \"Taux de progression 20/21\"},\n",
        "    domain = {'row': 0, 'column': 0},\n",
        "    gauge_axis_range=[0,100]))\n",
        "\n",
        "fig.update_layout(\n",
        "    grid = {'rows': 1, 'columns': 2, 'pattern': \"independent\"},\n",
        "    title= {'text': 'Assurer une bonne couverture en internet fixe et en téléphonie mobile', 'xanchor':'left'},\n",
        "    template = {'data' : {'indicator': [{\n",
        "                                'mode' : \"number+gauge\",\n",
        "                                'delta' : {'reference': 90},\n",
        "                                'number':{'suffix':'%'}}]},\n",
        "                                })\n",
        "fig.show()"
      ],
      "metadata": {
        "colab": {
          "base_uri": "https://localhost:8080/",
          "height": 542
        },
        "outputId": "802d8ac7-9660-44c7-80f6-fcd98a423a7d",
        "id": "NhOTyossVJhv"
      },
      "execution_count": null,
      "outputs": [
        {
          "output_type": "display_data",
          "data": {
            "text/html": [
              "<html>\n",
              "<head><meta charset=\"utf-8\" /></head>\n",
              "<body>\n",
              "    <div>            <script src=\"https://cdnjs.cloudflare.com/ajax/libs/mathjax/2.7.5/MathJax.js?config=TeX-AMS-MML_SVG\"></script><script type=\"text/javascript\">if (window.MathJax) {MathJax.Hub.Config({SVG: {font: \"STIX-Web\"}});}</script>                <script type=\"text/javascript\">window.PlotlyConfig = {MathJaxConfig: 'local'};</script>\n",
              "        <script src=\"https://cdn.plot.ly/plotly-2.8.3.min.js\"></script>                <div id=\"978a3121-6dea-4320-b84e-74a87a15a574\" class=\"plotly-graph-div\" style=\"height:525px; width:100%;\"></div>            <script type=\"text/javascript\">                                    window.PLOTLYENV=window.PLOTLYENV || {};                                    if (document.getElementById(\"978a3121-6dea-4320-b84e-74a87a15a574\")) {                    Plotly.newPlot(                        \"978a3121-6dea-4320-b84e-74a87a15a574\",                        [{\"domain\":{\"column\":0,\"row\":0},\"gauge\":{\"axis\":{\"range\":[0,100]}},\"title\":{\"text\":\"Taux de progression 20/21\"},\"value\":20,\"type\":\"indicator\"}],                        {\"template\":{\"data\":{\"bar\":[{\"error_x\":{\"color\":\"#2a3f5f\"},\"error_y\":{\"color\":\"#2a3f5f\"},\"marker\":{\"line\":{\"color\":\"#E5ECF6\",\"width\":0.5},\"pattern\":{\"fillmode\":\"overlay\",\"size\":10,\"solidity\":0.2}},\"type\":\"bar\"}],\"barpolar\":[{\"marker\":{\"line\":{\"color\":\"#E5ECF6\",\"width\":0.5},\"pattern\":{\"fillmode\":\"overlay\",\"size\":10,\"solidity\":0.2}},\"type\":\"barpolar\"}],\"carpet\":[{\"aaxis\":{\"endlinecolor\":\"#2a3f5f\",\"gridcolor\":\"white\",\"linecolor\":\"white\",\"minorgridcolor\":\"white\",\"startlinecolor\":\"#2a3f5f\"},\"baxis\":{\"endlinecolor\":\"#2a3f5f\",\"gridcolor\":\"white\",\"linecolor\":\"white\",\"minorgridcolor\":\"white\",\"startlinecolor\":\"#2a3f5f\"},\"type\":\"carpet\"}],\"choropleth\":[{\"colorbar\":{\"outlinewidth\":0,\"ticks\":\"\"},\"type\":\"choropleth\"}],\"contour\":[{\"colorbar\":{\"outlinewidth\":0,\"ticks\":\"\"},\"colorscale\":[[0.0,\"#0d0887\"],[0.1111111111111111,\"#46039f\"],[0.2222222222222222,\"#7201a8\"],[0.3333333333333333,\"#9c179e\"],[0.4444444444444444,\"#bd3786\"],[0.5555555555555556,\"#d8576b\"],[0.6666666666666666,\"#ed7953\"],[0.7777777777777778,\"#fb9f3a\"],[0.8888888888888888,\"#fdca26\"],[1.0,\"#f0f921\"]],\"type\":\"contour\"}],\"contourcarpet\":[{\"colorbar\":{\"outlinewidth\":0,\"ticks\":\"\"},\"type\":\"contourcarpet\"}],\"heatmap\":[{\"colorbar\":{\"outlinewidth\":0,\"ticks\":\"\"},\"colorscale\":[[0.0,\"#0d0887\"],[0.1111111111111111,\"#46039f\"],[0.2222222222222222,\"#7201a8\"],[0.3333333333333333,\"#9c179e\"],[0.4444444444444444,\"#bd3786\"],[0.5555555555555556,\"#d8576b\"],[0.6666666666666666,\"#ed7953\"],[0.7777777777777778,\"#fb9f3a\"],[0.8888888888888888,\"#fdca26\"],[1.0,\"#f0f921\"]],\"type\":\"heatmap\"}],\"heatmapgl\":[{\"colorbar\":{\"outlinewidth\":0,\"ticks\":\"\"},\"colorscale\":[[0.0,\"#0d0887\"],[0.1111111111111111,\"#46039f\"],[0.2222222222222222,\"#7201a8\"],[0.3333333333333333,\"#9c179e\"],[0.4444444444444444,\"#bd3786\"],[0.5555555555555556,\"#d8576b\"],[0.6666666666666666,\"#ed7953\"],[0.7777777777777778,\"#fb9f3a\"],[0.8888888888888888,\"#fdca26\"],[1.0,\"#f0f921\"]],\"type\":\"heatmapgl\"}],\"histogram\":[{\"marker\":{\"pattern\":{\"fillmode\":\"overlay\",\"size\":10,\"solidity\":0.2}},\"type\":\"histogram\"}],\"histogram2d\":[{\"colorbar\":{\"outlinewidth\":0,\"ticks\":\"\"},\"colorscale\":[[0.0,\"#0d0887\"],[0.1111111111111111,\"#46039f\"],[0.2222222222222222,\"#7201a8\"],[0.3333333333333333,\"#9c179e\"],[0.4444444444444444,\"#bd3786\"],[0.5555555555555556,\"#d8576b\"],[0.6666666666666666,\"#ed7953\"],[0.7777777777777778,\"#fb9f3a\"],[0.8888888888888888,\"#fdca26\"],[1.0,\"#f0f921\"]],\"type\":\"histogram2d\"}],\"histogram2dcontour\":[{\"colorbar\":{\"outlinewidth\":0,\"ticks\":\"\"},\"colorscale\":[[0.0,\"#0d0887\"],[0.1111111111111111,\"#46039f\"],[0.2222222222222222,\"#7201a8\"],[0.3333333333333333,\"#9c179e\"],[0.4444444444444444,\"#bd3786\"],[0.5555555555555556,\"#d8576b\"],[0.6666666666666666,\"#ed7953\"],[0.7777777777777778,\"#fb9f3a\"],[0.8888888888888888,\"#fdca26\"],[1.0,\"#f0f921\"]],\"type\":\"histogram2dcontour\"}],\"mesh3d\":[{\"colorbar\":{\"outlinewidth\":0,\"ticks\":\"\"},\"type\":\"mesh3d\"}],\"parcoords\":[{\"line\":{\"colorbar\":{\"outlinewidth\":0,\"ticks\":\"\"}},\"type\":\"parcoords\"}],\"pie\":[{\"automargin\":true,\"type\":\"pie\"}],\"scatter\":[{\"marker\":{\"colorbar\":{\"outlinewidth\":0,\"ticks\":\"\"}},\"type\":\"scatter\"}],\"scatter3d\":[{\"line\":{\"colorbar\":{\"outlinewidth\":0,\"ticks\":\"\"}},\"marker\":{\"colorbar\":{\"outlinewidth\":0,\"ticks\":\"\"}},\"type\":\"scatter3d\"}],\"scattercarpet\":[{\"marker\":{\"colorbar\":{\"outlinewidth\":0,\"ticks\":\"\"}},\"type\":\"scattercarpet\"}],\"scattergeo\":[{\"marker\":{\"colorbar\":{\"outlinewidth\":0,\"ticks\":\"\"}},\"type\":\"scattergeo\"}],\"scattergl\":[{\"marker\":{\"colorbar\":{\"outlinewidth\":0,\"ticks\":\"\"}},\"type\":\"scattergl\"}],\"scattermapbox\":[{\"marker\":{\"colorbar\":{\"outlinewidth\":0,\"ticks\":\"\"}},\"type\":\"scattermapbox\"}],\"scatterpolar\":[{\"marker\":{\"colorbar\":{\"outlinewidth\":0,\"ticks\":\"\"}},\"type\":\"scatterpolar\"}],\"scatterpolargl\":[{\"marker\":{\"colorbar\":{\"outlinewidth\":0,\"ticks\":\"\"}},\"type\":\"scatterpolargl\"}],\"scatterternary\":[{\"marker\":{\"colorbar\":{\"outlinewidth\":0,\"ticks\":\"\"}},\"type\":\"scatterternary\"}],\"surface\":[{\"colorbar\":{\"outlinewidth\":0,\"ticks\":\"\"},\"colorscale\":[[0.0,\"#0d0887\"],[0.1111111111111111,\"#46039f\"],[0.2222222222222222,\"#7201a8\"],[0.3333333333333333,\"#9c179e\"],[0.4444444444444444,\"#bd3786\"],[0.5555555555555556,\"#d8576b\"],[0.6666666666666666,\"#ed7953\"],[0.7777777777777778,\"#fb9f3a\"],[0.8888888888888888,\"#fdca26\"],[1.0,\"#f0f921\"]],\"type\":\"surface\"}],\"table\":[{\"cells\":{\"fill\":{\"color\":\"#EBF0F8\"},\"line\":{\"color\":\"white\"}},\"header\":{\"fill\":{\"color\":\"#C8D4E3\"},\"line\":{\"color\":\"white\"}},\"type\":\"table\"}],\"indicator\":[{\"delta\":{\"reference\":90},\"mode\":\"number+gauge\",\"number\":{\"suffix\":\"%\"},\"type\":\"indicator\"}]},\"layout\":{\"annotationdefaults\":{\"arrowcolor\":\"#2a3f5f\",\"arrowhead\":0,\"arrowwidth\":1},\"autotypenumbers\":\"strict\",\"coloraxis\":{\"colorbar\":{\"outlinewidth\":0,\"ticks\":\"\"}},\"colorscale\":{\"diverging\":[[0,\"#8e0152\"],[0.1,\"#c51b7d\"],[0.2,\"#de77ae\"],[0.3,\"#f1b6da\"],[0.4,\"#fde0ef\"],[0.5,\"#f7f7f7\"],[0.6,\"#e6f5d0\"],[0.7,\"#b8e186\"],[0.8,\"#7fbc41\"],[0.9,\"#4d9221\"],[1,\"#276419\"]],\"sequential\":[[0.0,\"#0d0887\"],[0.1111111111111111,\"#46039f\"],[0.2222222222222222,\"#7201a8\"],[0.3333333333333333,\"#9c179e\"],[0.4444444444444444,\"#bd3786\"],[0.5555555555555556,\"#d8576b\"],[0.6666666666666666,\"#ed7953\"],[0.7777777777777778,\"#fb9f3a\"],[0.8888888888888888,\"#fdca26\"],[1.0,\"#f0f921\"]],\"sequentialminus\":[[0.0,\"#0d0887\"],[0.1111111111111111,\"#46039f\"],[0.2222222222222222,\"#7201a8\"],[0.3333333333333333,\"#9c179e\"],[0.4444444444444444,\"#bd3786\"],[0.5555555555555556,\"#d8576b\"],[0.6666666666666666,\"#ed7953\"],[0.7777777777777778,\"#fb9f3a\"],[0.8888888888888888,\"#fdca26\"],[1.0,\"#f0f921\"]]},\"colorway\":[\"#636efa\",\"#EF553B\",\"#00cc96\",\"#ab63fa\",\"#FFA15A\",\"#19d3f3\",\"#FF6692\",\"#B6E880\",\"#FF97FF\",\"#FECB52\"],\"font\":{\"color\":\"#2a3f5f\"},\"geo\":{\"bgcolor\":\"white\",\"lakecolor\":\"white\",\"landcolor\":\"#E5ECF6\",\"showlakes\":true,\"showland\":true,\"subunitcolor\":\"white\"},\"hoverlabel\":{\"align\":\"left\"},\"hovermode\":\"closest\",\"mapbox\":{\"style\":\"light\"},\"paper_bgcolor\":\"white\",\"plot_bgcolor\":\"#E5ECF6\",\"polar\":{\"angularaxis\":{\"gridcolor\":\"white\",\"linecolor\":\"white\",\"ticks\":\"\"},\"bgcolor\":\"#E5ECF6\",\"radialaxis\":{\"gridcolor\":\"white\",\"linecolor\":\"white\",\"ticks\":\"\"}},\"scene\":{\"xaxis\":{\"backgroundcolor\":\"#E5ECF6\",\"gridcolor\":\"white\",\"gridwidth\":2,\"linecolor\":\"white\",\"showbackground\":true,\"ticks\":\"\",\"zerolinecolor\":\"white\"},\"yaxis\":{\"backgroundcolor\":\"#E5ECF6\",\"gridcolor\":\"white\",\"gridwidth\":2,\"linecolor\":\"white\",\"showbackground\":true,\"ticks\":\"\",\"zerolinecolor\":\"white\"},\"zaxis\":{\"backgroundcolor\":\"#E5ECF6\",\"gridcolor\":\"white\",\"gridwidth\":2,\"linecolor\":\"white\",\"showbackground\":true,\"ticks\":\"\",\"zerolinecolor\":\"white\"}},\"shapedefaults\":{\"line\":{\"color\":\"#2a3f5f\"}},\"ternary\":{\"aaxis\":{\"gridcolor\":\"white\",\"linecolor\":\"white\",\"ticks\":\"\"},\"baxis\":{\"gridcolor\":\"white\",\"linecolor\":\"white\",\"ticks\":\"\"},\"bgcolor\":\"#E5ECF6\",\"caxis\":{\"gridcolor\":\"white\",\"linecolor\":\"white\",\"ticks\":\"\"}},\"title\":{\"x\":0.05},\"xaxis\":{\"automargin\":true,\"gridcolor\":\"white\",\"linecolor\":\"white\",\"ticks\":\"\",\"title\":{\"standoff\":15},\"zerolinecolor\":\"white\",\"zerolinewidth\":2},\"yaxis\":{\"automargin\":true,\"gridcolor\":\"white\",\"linecolor\":\"white\",\"ticks\":\"\",\"title\":{\"standoff\":15},\"zerolinecolor\":\"white\",\"zerolinewidth\":2}}},\"grid\":{\"rows\":1,\"columns\":2,\"pattern\":\"independent\"},\"title\":{\"text\":\"Assurer une bonne couverture en internet fixe et en t\\u00e9l\\u00e9phonie mobile\",\"xanchor\":\"left\"}},                        {\"responsive\": true}                    ).then(function(){\n",
              "                            \n",
              "var gd = document.getElementById('978a3121-6dea-4320-b84e-74a87a15a574');\n",
              "var x = new MutationObserver(function (mutations, observer) {{\n",
              "        var display = window.getComputedStyle(gd).display;\n",
              "        if (!display || display === 'none') {{\n",
              "            console.log([gd, 'removed!']);\n",
              "            Plotly.purge(gd);\n",
              "            observer.disconnect();\n",
              "        }}\n",
              "}});\n",
              "\n",
              "// Listen for the removal of the full notebook cells\n",
              "var notebookContainer = gd.closest('#notebook-container');\n",
              "if (notebookContainer) {{\n",
              "    x.observe(notebookContainer, {childList: true});\n",
              "}}\n",
              "\n",
              "// Listen for the clearing of the current output cell\n",
              "var outputEl = gd.closest('.output');\n",
              "if (outputEl) {{\n",
              "    x.observe(outputEl, {childList: true});\n",
              "}}\n",
              "\n",
              "                        })                };                            </script>        </div>\n",
              "</body>\n",
              "</html>"
            ]
          },
          "metadata": {}
        }
      ]
    },
    {
      "cell_type": "code",
      "source": [
        "fig = go.Figure(data=[\n",
        "    go.Bar(x=dates_a, y=values_a)\n",
        "])\n",
        "\n",
        "fig.update_layout(barmode='stack',\n",
        "    title=\"Taux de déploiement de la fibre\",\n",
        "    font=dict(\n",
        "        size=18,\n",
        "        color=\"forestgreen\"\n",
        "    )\n",
        ")\n",
        "fig.update_xaxes(range=[2016,2023])\n",
        "fig.update_yaxes(range=[0,100])\n",
        "\n",
        "fig.show()"
      ],
      "metadata": {
        "colab": {
          "base_uri": "https://localhost:8080/",
          "height": 542
        },
        "id": "27nRBjR2V27k",
        "outputId": "8f31655e-a501-4096-afda-dc6ef67f1ac6"
      },
      "execution_count": null,
      "outputs": [
        {
          "output_type": "display_data",
          "data": {
            "text/html": [
              "<html>\n",
              "<head><meta charset=\"utf-8\" /></head>\n",
              "<body>\n",
              "    <div>            <script src=\"https://cdnjs.cloudflare.com/ajax/libs/mathjax/2.7.5/MathJax.js?config=TeX-AMS-MML_SVG\"></script><script type=\"text/javascript\">if (window.MathJax) {MathJax.Hub.Config({SVG: {font: \"STIX-Web\"}});}</script>                <script type=\"text/javascript\">window.PlotlyConfig = {MathJaxConfig: 'local'};</script>\n",
              "        <script src=\"https://cdn.plot.ly/plotly-2.8.3.min.js\"></script>                <div id=\"3207ffa9-7ef1-4680-a0c6-eae236cfe85f\" class=\"plotly-graph-div\" style=\"height:525px; width:100%;\"></div>            <script type=\"text/javascript\">                                    window.PLOTLYENV=window.PLOTLYENV || {};                                    if (document.getElementById(\"3207ffa9-7ef1-4680-a0c6-eae236cfe85f\")) {                    Plotly.newPlot(                        \"3207ffa9-7ef1-4680-a0c6-eae236cfe85f\",                        [{\"x\":[2017,2021,2020],\"y\":[31,65,54],\"type\":\"bar\"}],                        {\"template\":{\"data\":{\"bar\":[{\"error_x\":{\"color\":\"#2a3f5f\"},\"error_y\":{\"color\":\"#2a3f5f\"},\"marker\":{\"line\":{\"color\":\"#E5ECF6\",\"width\":0.5},\"pattern\":{\"fillmode\":\"overlay\",\"size\":10,\"solidity\":0.2}},\"type\":\"bar\"}],\"barpolar\":[{\"marker\":{\"line\":{\"color\":\"#E5ECF6\",\"width\":0.5},\"pattern\":{\"fillmode\":\"overlay\",\"size\":10,\"solidity\":0.2}},\"type\":\"barpolar\"}],\"carpet\":[{\"aaxis\":{\"endlinecolor\":\"#2a3f5f\",\"gridcolor\":\"white\",\"linecolor\":\"white\",\"minorgridcolor\":\"white\",\"startlinecolor\":\"#2a3f5f\"},\"baxis\":{\"endlinecolor\":\"#2a3f5f\",\"gridcolor\":\"white\",\"linecolor\":\"white\",\"minorgridcolor\":\"white\",\"startlinecolor\":\"#2a3f5f\"},\"type\":\"carpet\"}],\"choropleth\":[{\"colorbar\":{\"outlinewidth\":0,\"ticks\":\"\"},\"type\":\"choropleth\"}],\"contour\":[{\"colorbar\":{\"outlinewidth\":0,\"ticks\":\"\"},\"colorscale\":[[0.0,\"#0d0887\"],[0.1111111111111111,\"#46039f\"],[0.2222222222222222,\"#7201a8\"],[0.3333333333333333,\"#9c179e\"],[0.4444444444444444,\"#bd3786\"],[0.5555555555555556,\"#d8576b\"],[0.6666666666666666,\"#ed7953\"],[0.7777777777777778,\"#fb9f3a\"],[0.8888888888888888,\"#fdca26\"],[1.0,\"#f0f921\"]],\"type\":\"contour\"}],\"contourcarpet\":[{\"colorbar\":{\"outlinewidth\":0,\"ticks\":\"\"},\"type\":\"contourcarpet\"}],\"heatmap\":[{\"colorbar\":{\"outlinewidth\":0,\"ticks\":\"\"},\"colorscale\":[[0.0,\"#0d0887\"],[0.1111111111111111,\"#46039f\"],[0.2222222222222222,\"#7201a8\"],[0.3333333333333333,\"#9c179e\"],[0.4444444444444444,\"#bd3786\"],[0.5555555555555556,\"#d8576b\"],[0.6666666666666666,\"#ed7953\"],[0.7777777777777778,\"#fb9f3a\"],[0.8888888888888888,\"#fdca26\"],[1.0,\"#f0f921\"]],\"type\":\"heatmap\"}],\"heatmapgl\":[{\"colorbar\":{\"outlinewidth\":0,\"ticks\":\"\"},\"colorscale\":[[0.0,\"#0d0887\"],[0.1111111111111111,\"#46039f\"],[0.2222222222222222,\"#7201a8\"],[0.3333333333333333,\"#9c179e\"],[0.4444444444444444,\"#bd3786\"],[0.5555555555555556,\"#d8576b\"],[0.6666666666666666,\"#ed7953\"],[0.7777777777777778,\"#fb9f3a\"],[0.8888888888888888,\"#fdca26\"],[1.0,\"#f0f921\"]],\"type\":\"heatmapgl\"}],\"histogram\":[{\"marker\":{\"pattern\":{\"fillmode\":\"overlay\",\"size\":10,\"solidity\":0.2}},\"type\":\"histogram\"}],\"histogram2d\":[{\"colorbar\":{\"outlinewidth\":0,\"ticks\":\"\"},\"colorscale\":[[0.0,\"#0d0887\"],[0.1111111111111111,\"#46039f\"],[0.2222222222222222,\"#7201a8\"],[0.3333333333333333,\"#9c179e\"],[0.4444444444444444,\"#bd3786\"],[0.5555555555555556,\"#d8576b\"],[0.6666666666666666,\"#ed7953\"],[0.7777777777777778,\"#fb9f3a\"],[0.8888888888888888,\"#fdca26\"],[1.0,\"#f0f921\"]],\"type\":\"histogram2d\"}],\"histogram2dcontour\":[{\"colorbar\":{\"outlinewidth\":0,\"ticks\":\"\"},\"colorscale\":[[0.0,\"#0d0887\"],[0.1111111111111111,\"#46039f\"],[0.2222222222222222,\"#7201a8\"],[0.3333333333333333,\"#9c179e\"],[0.4444444444444444,\"#bd3786\"],[0.5555555555555556,\"#d8576b\"],[0.6666666666666666,\"#ed7953\"],[0.7777777777777778,\"#fb9f3a\"],[0.8888888888888888,\"#fdca26\"],[1.0,\"#f0f921\"]],\"type\":\"histogram2dcontour\"}],\"mesh3d\":[{\"colorbar\":{\"outlinewidth\":0,\"ticks\":\"\"},\"type\":\"mesh3d\"}],\"parcoords\":[{\"line\":{\"colorbar\":{\"outlinewidth\":0,\"ticks\":\"\"}},\"type\":\"parcoords\"}],\"pie\":[{\"automargin\":true,\"type\":\"pie\"}],\"scatter\":[{\"marker\":{\"colorbar\":{\"outlinewidth\":0,\"ticks\":\"\"}},\"type\":\"scatter\"}],\"scatter3d\":[{\"line\":{\"colorbar\":{\"outlinewidth\":0,\"ticks\":\"\"}},\"marker\":{\"colorbar\":{\"outlinewidth\":0,\"ticks\":\"\"}},\"type\":\"scatter3d\"}],\"scattercarpet\":[{\"marker\":{\"colorbar\":{\"outlinewidth\":0,\"ticks\":\"\"}},\"type\":\"scattercarpet\"}],\"scattergeo\":[{\"marker\":{\"colorbar\":{\"outlinewidth\":0,\"ticks\":\"\"}},\"type\":\"scattergeo\"}],\"scattergl\":[{\"marker\":{\"colorbar\":{\"outlinewidth\":0,\"ticks\":\"\"}},\"type\":\"scattergl\"}],\"scattermapbox\":[{\"marker\":{\"colorbar\":{\"outlinewidth\":0,\"ticks\":\"\"}},\"type\":\"scattermapbox\"}],\"scatterpolar\":[{\"marker\":{\"colorbar\":{\"outlinewidth\":0,\"ticks\":\"\"}},\"type\":\"scatterpolar\"}],\"scatterpolargl\":[{\"marker\":{\"colorbar\":{\"outlinewidth\":0,\"ticks\":\"\"}},\"type\":\"scatterpolargl\"}],\"scatterternary\":[{\"marker\":{\"colorbar\":{\"outlinewidth\":0,\"ticks\":\"\"}},\"type\":\"scatterternary\"}],\"surface\":[{\"colorbar\":{\"outlinewidth\":0,\"ticks\":\"\"},\"colorscale\":[[0.0,\"#0d0887\"],[0.1111111111111111,\"#46039f\"],[0.2222222222222222,\"#7201a8\"],[0.3333333333333333,\"#9c179e\"],[0.4444444444444444,\"#bd3786\"],[0.5555555555555556,\"#d8576b\"],[0.6666666666666666,\"#ed7953\"],[0.7777777777777778,\"#fb9f3a\"],[0.8888888888888888,\"#fdca26\"],[1.0,\"#f0f921\"]],\"type\":\"surface\"}],\"table\":[{\"cells\":{\"fill\":{\"color\":\"#EBF0F8\"},\"line\":{\"color\":\"white\"}},\"header\":{\"fill\":{\"color\":\"#C8D4E3\"},\"line\":{\"color\":\"white\"}},\"type\":\"table\"}]},\"layout\":{\"annotationdefaults\":{\"arrowcolor\":\"#2a3f5f\",\"arrowhead\":0,\"arrowwidth\":1},\"autotypenumbers\":\"strict\",\"coloraxis\":{\"colorbar\":{\"outlinewidth\":0,\"ticks\":\"\"}},\"colorscale\":{\"diverging\":[[0,\"#8e0152\"],[0.1,\"#c51b7d\"],[0.2,\"#de77ae\"],[0.3,\"#f1b6da\"],[0.4,\"#fde0ef\"],[0.5,\"#f7f7f7\"],[0.6,\"#e6f5d0\"],[0.7,\"#b8e186\"],[0.8,\"#7fbc41\"],[0.9,\"#4d9221\"],[1,\"#276419\"]],\"sequential\":[[0.0,\"#0d0887\"],[0.1111111111111111,\"#46039f\"],[0.2222222222222222,\"#7201a8\"],[0.3333333333333333,\"#9c179e\"],[0.4444444444444444,\"#bd3786\"],[0.5555555555555556,\"#d8576b\"],[0.6666666666666666,\"#ed7953\"],[0.7777777777777778,\"#fb9f3a\"],[0.8888888888888888,\"#fdca26\"],[1.0,\"#f0f921\"]],\"sequentialminus\":[[0.0,\"#0d0887\"],[0.1111111111111111,\"#46039f\"],[0.2222222222222222,\"#7201a8\"],[0.3333333333333333,\"#9c179e\"],[0.4444444444444444,\"#bd3786\"],[0.5555555555555556,\"#d8576b\"],[0.6666666666666666,\"#ed7953\"],[0.7777777777777778,\"#fb9f3a\"],[0.8888888888888888,\"#fdca26\"],[1.0,\"#f0f921\"]]},\"colorway\":[\"#636efa\",\"#EF553B\",\"#00cc96\",\"#ab63fa\",\"#FFA15A\",\"#19d3f3\",\"#FF6692\",\"#B6E880\",\"#FF97FF\",\"#FECB52\"],\"font\":{\"color\":\"#2a3f5f\"},\"geo\":{\"bgcolor\":\"white\",\"lakecolor\":\"white\",\"landcolor\":\"#E5ECF6\",\"showlakes\":true,\"showland\":true,\"subunitcolor\":\"white\"},\"hoverlabel\":{\"align\":\"left\"},\"hovermode\":\"closest\",\"mapbox\":{\"style\":\"light\"},\"paper_bgcolor\":\"white\",\"plot_bgcolor\":\"#E5ECF6\",\"polar\":{\"angularaxis\":{\"gridcolor\":\"white\",\"linecolor\":\"white\",\"ticks\":\"\"},\"bgcolor\":\"#E5ECF6\",\"radialaxis\":{\"gridcolor\":\"white\",\"linecolor\":\"white\",\"ticks\":\"\"}},\"scene\":{\"xaxis\":{\"backgroundcolor\":\"#E5ECF6\",\"gridcolor\":\"white\",\"gridwidth\":2,\"linecolor\":\"white\",\"showbackground\":true,\"ticks\":\"\",\"zerolinecolor\":\"white\"},\"yaxis\":{\"backgroundcolor\":\"#E5ECF6\",\"gridcolor\":\"white\",\"gridwidth\":2,\"linecolor\":\"white\",\"showbackground\":true,\"ticks\":\"\",\"zerolinecolor\":\"white\"},\"zaxis\":{\"backgroundcolor\":\"#E5ECF6\",\"gridcolor\":\"white\",\"gridwidth\":2,\"linecolor\":\"white\",\"showbackground\":true,\"ticks\":\"\",\"zerolinecolor\":\"white\"}},\"shapedefaults\":{\"line\":{\"color\":\"#2a3f5f\"}},\"ternary\":{\"aaxis\":{\"gridcolor\":\"white\",\"linecolor\":\"white\",\"ticks\":\"\"},\"baxis\":{\"gridcolor\":\"white\",\"linecolor\":\"white\",\"ticks\":\"\"},\"bgcolor\":\"#E5ECF6\",\"caxis\":{\"gridcolor\":\"white\",\"linecolor\":\"white\",\"ticks\":\"\"}},\"title\":{\"x\":0.05},\"xaxis\":{\"automargin\":true,\"gridcolor\":\"white\",\"linecolor\":\"white\",\"ticks\":\"\",\"title\":{\"standoff\":15},\"zerolinecolor\":\"white\",\"zerolinewidth\":2},\"yaxis\":{\"automargin\":true,\"gridcolor\":\"white\",\"linecolor\":\"white\",\"ticks\":\"\",\"title\":{\"standoff\":15},\"zerolinecolor\":\"white\",\"zerolinewidth\":2}}},\"font\":{\"size\":18,\"color\":\"forestgreen\"},\"barmode\":\"stack\",\"title\":{\"text\":\"Taux de d\\u00e9ploiement de la fibre\"},\"xaxis\":{\"range\":[2016,2023]},\"yaxis\":{\"range\":[0,100]}},                        {\"responsive\": true}                    ).then(function(){\n",
              "                            \n",
              "var gd = document.getElementById('3207ffa9-7ef1-4680-a0c6-eae236cfe85f');\n",
              "var x = new MutationObserver(function (mutations, observer) {{\n",
              "        var display = window.getComputedStyle(gd).display;\n",
              "        if (!display || display === 'none') {{\n",
              "            console.log([gd, 'removed!']);\n",
              "            Plotly.purge(gd);\n",
              "            observer.disconnect();\n",
              "        }}\n",
              "}});\n",
              "\n",
              "// Listen for the removal of the full notebook cells\n",
              "var notebookContainer = gd.closest('#notebook-container');\n",
              "if (notebookContainer) {{\n",
              "    x.observe(notebookContainer, {childList: true});\n",
              "}}\n",
              "\n",
              "// Listen for the clearing of the current output cell\n",
              "var outputEl = gd.closest('.output');\n",
              "if (outputEl) {{\n",
              "    x.observe(outputEl, {childList: true});\n",
              "}}\n",
              "\n",
              "                        })                };                            </script>        </div>\n",
              "</body>\n",
              "</html>"
            ]
          },
          "metadata": {}
        }
      ]
    },
    {
      "cell_type": "code",
      "source": [
        "detail_1 = detail[detail['mesure']== \"Assurer une bonne couverture en internet fixe et en téléphonie mobile pour tous les Français d'ici 2022\"].reset_index(drop = True)\n",
        "detail_1"
      ],
      "metadata": {
        "id": "12ebOQO68DtR",
        "colab": {
          "base_uri": "https://localhost:8080/",
          "height": 424
        },
        "outputId": "6700bc9f-6934-44b7-a90a-7a9d9feb65c0"
      },
      "execution_count": null,
      "outputs": [
        {
          "output_type": "execute_result",
          "data": {
            "text/html": [
              "\n",
              "  <div id=\"df-525cc0e7-c238-4563-8fb7-2e543eb83547\">\n",
              "    <div class=\"colab-df-container\">\n",
              "      <div>\n",
              "<style scoped>\n",
              "    .dataframe tbody tr th:only-of-type {\n",
              "        vertical-align: middle;\n",
              "    }\n",
              "\n",
              "    .dataframe tbody tr th {\n",
              "        vertical-align: top;\n",
              "    }\n",
              "\n",
              "    .dataframe thead th {\n",
              "        text-align: right;\n",
              "    }\n",
              "</style>\n",
              "<table border=\"1\" class=\"dataframe\">\n",
              "  <thead>\n",
              "    <tr style=\"text-align: right;\">\n",
              "      <th></th>\n",
              "      <th>mesure</th>\n",
              "      <th>indicateur</th>\n",
              "      <th>id_indicateur</th>\n",
              "      <th>code_departement</th>\n",
              "      <th>libelle_departement</th>\n",
              "      <th>date</th>\n",
              "      <th>valeur</th>\n",
              "      <th>unite</th>\n",
              "    </tr>\n",
              "  </thead>\n",
              "  <tbody>\n",
              "    <tr>\n",
              "      <th>0</th>\n",
              "      <td>Assurer une bonne couverture en internet fixe ...</td>\n",
              "      <td>Taux de déploiement de la fibre</td>\n",
              "      <td>taux-deploiement-fibre</td>\n",
              "      <td>01</td>\n",
              "      <td>Ain</td>\n",
              "      <td>2017-12-31</td>\n",
              "      <td>36</td>\n",
              "      <td>% de déploiement</td>\n",
              "    </tr>\n",
              "    <tr>\n",
              "      <th>1</th>\n",
              "      <td>Assurer une bonne couverture en internet fixe ...</td>\n",
              "      <td>Taux de déploiement de la fibre</td>\n",
              "      <td>taux-deploiement-fibre</td>\n",
              "      <td>01</td>\n",
              "      <td>Ain</td>\n",
              "      <td>2018-03-31</td>\n",
              "      <td>37</td>\n",
              "      <td>% de déploiement</td>\n",
              "    </tr>\n",
              "    <tr>\n",
              "      <th>2</th>\n",
              "      <td>Assurer une bonne couverture en internet fixe ...</td>\n",
              "      <td>Taux de déploiement de la fibre</td>\n",
              "      <td>taux-deploiement-fibre</td>\n",
              "      <td>01</td>\n",
              "      <td>Ain</td>\n",
              "      <td>2018-06-30</td>\n",
              "      <td>38</td>\n",
              "      <td>% de déploiement</td>\n",
              "    </tr>\n",
              "    <tr>\n",
              "      <th>3</th>\n",
              "      <td>Assurer une bonne couverture en internet fixe ...</td>\n",
              "      <td>Taux de déploiement de la fibre</td>\n",
              "      <td>taux-deploiement-fibre</td>\n",
              "      <td>01</td>\n",
              "      <td>Ain</td>\n",
              "      <td>2018-09-30</td>\n",
              "      <td>41</td>\n",
              "      <td>% de déploiement</td>\n",
              "    </tr>\n",
              "    <tr>\n",
              "      <th>4</th>\n",
              "      <td>Assurer une bonne couverture en internet fixe ...</td>\n",
              "      <td>Taux de déploiement de la fibre</td>\n",
              "      <td>taux-deploiement-fibre</td>\n",
              "      <td>01</td>\n",
              "      <td>Ain</td>\n",
              "      <td>2018-12-31</td>\n",
              "      <td>44</td>\n",
              "      <td>% de déploiement</td>\n",
              "    </tr>\n",
              "    <tr>\n",
              "      <th>...</th>\n",
              "      <td>...</td>\n",
              "      <td>...</td>\n",
              "      <td>...</td>\n",
              "      <td>...</td>\n",
              "      <td>...</td>\n",
              "      <td>...</td>\n",
              "      <td>...</td>\n",
              "      <td>...</td>\n",
              "    </tr>\n",
              "    <tr>\n",
              "      <th>1608</th>\n",
              "      <td>Assurer une bonne couverture en internet fixe ...</td>\n",
              "      <td>Taux de déploiement de la fibre</td>\n",
              "      <td>taux-deploiement-fibre</td>\n",
              "      <td>976</td>\n",
              "      <td>Mayotte</td>\n",
              "      <td>2019-12-31</td>\n",
              "      <td>0</td>\n",
              "      <td>% de déploiement</td>\n",
              "    </tr>\n",
              "    <tr>\n",
              "      <th>1609</th>\n",
              "      <td>Assurer une bonne couverture en internet fixe ...</td>\n",
              "      <td>Taux de déploiement de la fibre</td>\n",
              "      <td>taux-deploiement-fibre</td>\n",
              "      <td>976</td>\n",
              "      <td>Mayotte</td>\n",
              "      <td>2020-03-31</td>\n",
              "      <td>0</td>\n",
              "      <td>% de déploiement</td>\n",
              "    </tr>\n",
              "    <tr>\n",
              "      <th>1610</th>\n",
              "      <td>Assurer une bonne couverture en internet fixe ...</td>\n",
              "      <td>Taux de déploiement de la fibre</td>\n",
              "      <td>taux-deploiement-fibre</td>\n",
              "      <td>976</td>\n",
              "      <td>Mayotte</td>\n",
              "      <td>2020-06-30</td>\n",
              "      <td>0</td>\n",
              "      <td>% de déploiement</td>\n",
              "    </tr>\n",
              "    <tr>\n",
              "      <th>1611</th>\n",
              "      <td>Assurer une bonne couverture en internet fixe ...</td>\n",
              "      <td>Taux de déploiement de la fibre</td>\n",
              "      <td>taux-deploiement-fibre</td>\n",
              "      <td>976</td>\n",
              "      <td>Mayotte</td>\n",
              "      <td>2020-09-30</td>\n",
              "      <td>0</td>\n",
              "      <td>% de déploiement</td>\n",
              "    </tr>\n",
              "    <tr>\n",
              "      <th>1612</th>\n",
              "      <td>Assurer une bonne couverture en internet fixe ...</td>\n",
              "      <td>Taux de déploiement de la fibre</td>\n",
              "      <td>taux-deploiement-fibre</td>\n",
              "      <td>976</td>\n",
              "      <td>Mayotte</td>\n",
              "      <td>2020-12-31</td>\n",
              "      <td>0</td>\n",
              "      <td>% de déploiement</td>\n",
              "    </tr>\n",
              "  </tbody>\n",
              "</table>\n",
              "<p>1613 rows × 8 columns</p>\n",
              "</div>\n",
              "      <button class=\"colab-df-convert\" onclick=\"convertToInteractive('df-525cc0e7-c238-4563-8fb7-2e543eb83547')\"\n",
              "              title=\"Convert this dataframe to an interactive table.\"\n",
              "              style=\"display:none;\">\n",
              "        \n",
              "  <svg xmlns=\"http://www.w3.org/2000/svg\" height=\"24px\"viewBox=\"0 0 24 24\"\n",
              "       width=\"24px\">\n",
              "    <path d=\"M0 0h24v24H0V0z\" fill=\"none\"/>\n",
              "    <path d=\"M18.56 5.44l.94 2.06.94-2.06 2.06-.94-2.06-.94-.94-2.06-.94 2.06-2.06.94zm-11 1L8.5 8.5l.94-2.06 2.06-.94-2.06-.94L8.5 2.5l-.94 2.06-2.06.94zm10 10l.94 2.06.94-2.06 2.06-.94-2.06-.94-.94-2.06-.94 2.06-2.06.94z\"/><path d=\"M17.41 7.96l-1.37-1.37c-.4-.4-.92-.59-1.43-.59-.52 0-1.04.2-1.43.59L10.3 9.45l-7.72 7.72c-.78.78-.78 2.05 0 2.83L4 21.41c.39.39.9.59 1.41.59.51 0 1.02-.2 1.41-.59l7.78-7.78 2.81-2.81c.8-.78.8-2.07 0-2.86zM5.41 20L4 18.59l7.72-7.72 1.47 1.35L5.41 20z\"/>\n",
              "  </svg>\n",
              "      </button>\n",
              "      \n",
              "  <style>\n",
              "    .colab-df-container {\n",
              "      display:flex;\n",
              "      flex-wrap:wrap;\n",
              "      gap: 12px;\n",
              "    }\n",
              "\n",
              "    .colab-df-convert {\n",
              "      background-color: #E8F0FE;\n",
              "      border: none;\n",
              "      border-radius: 50%;\n",
              "      cursor: pointer;\n",
              "      display: none;\n",
              "      fill: #1967D2;\n",
              "      height: 32px;\n",
              "      padding: 0 0 0 0;\n",
              "      width: 32px;\n",
              "    }\n",
              "\n",
              "    .colab-df-convert:hover {\n",
              "      background-color: #E2EBFA;\n",
              "      box-shadow: 0px 1px 2px rgba(60, 64, 67, 0.3), 0px 1px 3px 1px rgba(60, 64, 67, 0.15);\n",
              "      fill: #174EA6;\n",
              "    }\n",
              "\n",
              "    [theme=dark] .colab-df-convert {\n",
              "      background-color: #3B4455;\n",
              "      fill: #D2E3FC;\n",
              "    }\n",
              "\n",
              "    [theme=dark] .colab-df-convert:hover {\n",
              "      background-color: #434B5C;\n",
              "      box-shadow: 0px 1px 3px 1px rgba(0, 0, 0, 0.15);\n",
              "      filter: drop-shadow(0px 1px 2px rgba(0, 0, 0, 0.3));\n",
              "      fill: #FFFFFF;\n",
              "    }\n",
              "  </style>\n",
              "\n",
              "      <script>\n",
              "        const buttonEl =\n",
              "          document.querySelector('#df-525cc0e7-c238-4563-8fb7-2e543eb83547 button.colab-df-convert');\n",
              "        buttonEl.style.display =\n",
              "          google.colab.kernel.accessAllowed ? 'block' : 'none';\n",
              "\n",
              "        async function convertToInteractive(key) {\n",
              "          const element = document.querySelector('#df-525cc0e7-c238-4563-8fb7-2e543eb83547');\n",
              "          const dataTable =\n",
              "            await google.colab.kernel.invokeFunction('convertToInteractive',\n",
              "                                                     [key], {});\n",
              "          if (!dataTable) return;\n",
              "\n",
              "          const docLinkHtml = 'Like what you see? Visit the ' +\n",
              "            '<a target=\"_blank\" href=https://colab.research.google.com/notebooks/data_table.ipynb>data table notebook</a>'\n",
              "            + ' to learn more about interactive tables.';\n",
              "          element.innerHTML = '';\n",
              "          dataTable['output_type'] = 'display_data';\n",
              "          await google.colab.output.renderOutput(dataTable, element);\n",
              "          const docLink = document.createElement('div');\n",
              "          docLink.innerHTML = docLinkHtml;\n",
              "          element.appendChild(docLink);\n",
              "        }\n",
              "      </script>\n",
              "    </div>\n",
              "  </div>\n",
              "  "
            ],
            "text/plain": [
              "                                                 mesure  ...             unite\n",
              "0     Assurer une bonne couverture en internet fixe ...  ...  % de déploiement\n",
              "1     Assurer une bonne couverture en internet fixe ...  ...  % de déploiement\n",
              "2     Assurer une bonne couverture en internet fixe ...  ...  % de déploiement\n",
              "3     Assurer une bonne couverture en internet fixe ...  ...  % de déploiement\n",
              "4     Assurer une bonne couverture en internet fixe ...  ...  % de déploiement\n",
              "...                                                 ...  ...               ...\n",
              "1608  Assurer une bonne couverture en internet fixe ...  ...  % de déploiement\n",
              "1609  Assurer une bonne couverture en internet fixe ...  ...  % de déploiement\n",
              "1610  Assurer une bonne couverture en internet fixe ...  ...  % de déploiement\n",
              "1611  Assurer une bonne couverture en internet fixe ...  ...  % de déploiement\n",
              "1612  Assurer une bonne couverture en internet fixe ...  ...  % de déploiement\n",
              "\n",
              "[1613 rows x 8 columns]"
            ]
          },
          "metadata": {},
          "execution_count": 7
        }
      ]
    },
    {
      "cell_type": "code",
      "source": [
        "# Evolution de la couverture par département\n",
        "\n",
        "n = input('Entrer le numéro du département :')\n",
        "\n",
        "df_det_dept = detail_1[detail_1['code_departement']==n].reset_index(drop = True)\n",
        "\n",
        "fig3 = plt.figure(figsize= (10,8))\n",
        "fig3 = sns.lineplot(data=df_det_dept, x = 'date', y = 'valeur', hue = 'code_departement', palette= 'magma')\n",
        "fig3 = sns.lineplot(data = pd.DataFrame(detail_1.groupby(by='date').valeur.agg('mean')), x = 'date', y = 'valeur' )\n",
        "fig3 = plt.title (f'Evolution du taux de déploiement de la fibre dans le département - {n}', size = 16)\n",
        "fig3 = plt.legend([f'{n}','moyenne nationale'])\n",
        "fig3 = plt.xlabel('')\n",
        "fig3 = plt.ylabel('Taux de déploiement en % du territoire')\n",
        "fig3 = plt.xticks(rotation='vertical')\n",
        "plt.show\n"
      ],
      "metadata": {
        "colab": {
          "base_uri": "https://localhost:8080/",
          "height": 585
        },
        "id": "hFiHcpV2Zu1_",
        "outputId": "897747ca-2e7a-4c49-c393-9faa28a70671"
      },
      "execution_count": null,
      "outputs": [
        {
          "name": "stdout",
          "output_type": "stream",
          "text": [
            "Entrer le numéro du département :33\n"
          ]
        },
        {
          "output_type": "execute_result",
          "data": {
            "text/plain": [
              "<function matplotlib.pyplot.show>"
            ]
          },
          "metadata": {},
          "execution_count": 59
        },
        {
          "output_type": "display_data",
          "data": {
            "image/png": "[encoded data removed]",
            "text/plain": [
              "<Figure size 720x576 with 1 Axes>"
            ]
          },
          "metadata": {
            "needs_background": "light"
          }
        }
      ]
    },
    {
      "cell_type": "markdown",
      "source": [
        "## Analyse des écarts entre départements"
      ],
      "metadata": {
        "id": "C9qlH4TT6jcS"
      }
    },
    {
      "cell_type": "code",
      "source": [
        "# je compare la moyenne de couverture entre valeur_actuelle (2021 ou 31/12/2020) et valeur_progression (30/09/2020) (la mediane donne un résultat équivalent)\n",
        "print('le taux moyen de couverture en 2020 :', df_1.progression_derniere_maj.mean())\n",
        "print('le taux moyen de couverture en 2021 :', round(df_1.valeur_actuelle.mean(),2))"
      ],
      "metadata": {
        "colab": {
          "base_uri": "https://localhost:8080/"
        },
        "id": "PJXn2XNk3hMm",
        "outputId": "950ac87a-3218-4abe-ccd2-d14beb29f92b"
      },
      "execution_count": null,
      "outputs": [
        {
          "output_type": "stream",
          "name": "stdout",
          "text": [
            "le taux moyen de couverture en 2020 : 44.65\n",
            "le taux moyen de couverture en 2021 : 59.1\n"
          ]
        }
      ]
    },
    {
      "cell_type": "code",
      "source": [
        "# # je compare la moyenne de du taux de progression :\n",
        "moy=df_1.pourcentage_progression_derniere_maj.mean()\n",
        "print('en moyenne, quelle est le taux de progression', moy)"
      ],
      "metadata": {
        "colab": {
          "base_uri": "https://localhost:8080/"
        },
        "id": "HQIMrIBY6ohC",
        "outputId": "b1ae287f-48b5-44cd-c0a7-ec7e0caf8a48"
      },
      "execution_count": null,
      "outputs": [
        {
          "output_type": "stream",
          "name": "stdout",
          "text": [
            "en moyenne, quelle est le taux de progression 47.1\n"
          ]
        }
      ]
    },
    {
      "cell_type": "code",
      "source": [
        "# quels sont les départements avec le plus fort taux de progression récent et quelle est leur taux de couverture\n",
        "# en dehors de la Corrèze, ce sont des départements avec une faible couverture comparée au 80% d'objectif national.\n",
        "\n",
        "top_progression = df_1[df_1['pourcentage_progression_derniere_maj']>moy].sort_values(by='pourcentage_progression_derniere_maj',ascending = False)\\\n",
        "                  [['libelle_departement','pourcentage_progression_derniere_maj','valeur_actuelle']].reset_index(drop=True)\n",
        "\n",
        "top_progression"
      ],
      "metadata": {
        "colab": {
          "base_uri": "https://localhost:8080/",
          "height": 1000
        },
        "id": "0McAbsRB8h5a",
        "outputId": "71c42700-7ae5-423b-bd65-ad203717b55c"
      },
      "execution_count": null,
      "outputs": [
        {
          "output_type": "execute_result",
          "data": {
            "text/html": [
              "\n",
              "  <div id=\"df-1983e599-58a1-4b1f-96d1-7098f5b31cde\">\n",
              "    <div class=\"colab-df-container\">\n",
              "      <div>\n",
              "<style scoped>\n",
              "    .dataframe tbody tr th:only-of-type {\n",
              "        vertical-align: middle;\n",
              "    }\n",
              "\n",
              "    .dataframe tbody tr th {\n",
              "        vertical-align: top;\n",
              "    }\n",
              "\n",
              "    .dataframe thead th {\n",
              "        text-align: right;\n",
              "    }\n",
              "</style>\n",
              "<table border=\"1\" class=\"dataframe\">\n",
              "  <thead>\n",
              "    <tr style=\"text-align: right;\">\n",
              "      <th></th>\n",
              "      <th>libelle_departement</th>\n",
              "      <th>pourcentage_progression_derniere_maj</th>\n",
              "      <th>valeur_actuelle</th>\n",
              "    </tr>\n",
              "  </thead>\n",
              "  <tbody>\n",
              "    <tr>\n",
              "      <th>0</th>\n",
              "      <td>Corrèze</td>\n",
              "      <td>241.0</td>\n",
              "      <td>92.0</td>\n",
              "    </tr>\n",
              "    <tr>\n",
              "      <th>1</th>\n",
              "      <td>Alpes-de-Haute-Provence</td>\n",
              "      <td>180.0</td>\n",
              "      <td>42.0</td>\n",
              "    </tr>\n",
              "    <tr>\n",
              "      <th>2</th>\n",
              "      <td>Creuse</td>\n",
              "      <td>164.0</td>\n",
              "      <td>37.0</td>\n",
              "    </tr>\n",
              "    <tr>\n",
              "      <th>3</th>\n",
              "      <td>Hautes-Alpes</td>\n",
              "      <td>160.0</td>\n",
              "      <td>39.0</td>\n",
              "    </tr>\n",
              "    <tr>\n",
              "      <th>4</th>\n",
              "      <td>Ardèche</td>\n",
              "      <td>144.0</td>\n",
              "      <td>22.0</td>\n",
              "    </tr>\n",
              "    <tr>\n",
              "      <th>5</th>\n",
              "      <td>Haute-Saône</td>\n",
              "      <td>133.0</td>\n",
              "      <td>28.0</td>\n",
              "    </tr>\n",
              "    <tr>\n",
              "      <th>6</th>\n",
              "      <td>Vosges</td>\n",
              "      <td>123.0</td>\n",
              "      <td>49.0</td>\n",
              "    </tr>\n",
              "    <tr>\n",
              "      <th>7</th>\n",
              "      <td>Haute-Marne</td>\n",
              "      <td>121.0</td>\n",
              "      <td>53.0</td>\n",
              "    </tr>\n",
              "    <tr>\n",
              "      <th>8</th>\n",
              "      <td>Tarn</td>\n",
              "      <td>104.0</td>\n",
              "      <td>51.0</td>\n",
              "    </tr>\n",
              "    <tr>\n",
              "      <th>9</th>\n",
              "      <td>Aude</td>\n",
              "      <td>103.0</td>\n",
              "      <td>59.0</td>\n",
              "    </tr>\n",
              "    <tr>\n",
              "      <th>10</th>\n",
              "      <td>Tarn-et-Garonne</td>\n",
              "      <td>100.0</td>\n",
              "      <td>56.0</td>\n",
              "    </tr>\n",
              "    <tr>\n",
              "      <th>11</th>\n",
              "      <td>Guyane</td>\n",
              "      <td>95.0</td>\n",
              "      <td>41.0</td>\n",
              "    </tr>\n",
              "    <tr>\n",
              "      <th>12</th>\n",
              "      <td>Eure</td>\n",
              "      <td>92.0</td>\n",
              "      <td>50.0</td>\n",
              "    </tr>\n",
              "    <tr>\n",
              "      <th>13</th>\n",
              "      <td>Nièvre</td>\n",
              "      <td>87.0</td>\n",
              "      <td>28.0</td>\n",
              "    </tr>\n",
              "    <tr>\n",
              "      <th>14</th>\n",
              "      <td>Loir-et-Cher</td>\n",
              "      <td>78.0</td>\n",
              "      <td>48.0</td>\n",
              "    </tr>\n",
              "    <tr>\n",
              "      <th>15</th>\n",
              "      <td>Gard</td>\n",
              "      <td>74.0</td>\n",
              "      <td>61.0</td>\n",
              "    </tr>\n",
              "    <tr>\n",
              "      <th>16</th>\n",
              "      <td>Aube</td>\n",
              "      <td>74.0</td>\n",
              "      <td>66.0</td>\n",
              "    </tr>\n",
              "    <tr>\n",
              "      <th>17</th>\n",
              "      <td>Dordogne</td>\n",
              "      <td>73.0</td>\n",
              "      <td>19.0</td>\n",
              "    </tr>\n",
              "    <tr>\n",
              "      <th>18</th>\n",
              "      <td>Saône-et-Loire</td>\n",
              "      <td>72.0</td>\n",
              "      <td>43.0</td>\n",
              "    </tr>\n",
              "    <tr>\n",
              "      <th>19</th>\n",
              "      <td>Lot-et-Garonne</td>\n",
              "      <td>71.0</td>\n",
              "      <td>41.0</td>\n",
              "    </tr>\n",
              "    <tr>\n",
              "      <th>20</th>\n",
              "      <td>Lozère</td>\n",
              "      <td>71.0</td>\n",
              "      <td>53.0</td>\n",
              "    </tr>\n",
              "    <tr>\n",
              "      <th>21</th>\n",
              "      <td>Haute-Corse</td>\n",
              "      <td>70.0</td>\n",
              "      <td>46.0</td>\n",
              "    </tr>\n",
              "    <tr>\n",
              "      <th>22</th>\n",
              "      <td>Aveyron</td>\n",
              "      <td>69.0</td>\n",
              "      <td>59.0</td>\n",
              "    </tr>\n",
              "    <tr>\n",
              "      <th>23</th>\n",
              "      <td>Charente</td>\n",
              "      <td>68.0</td>\n",
              "      <td>52.0</td>\n",
              "    </tr>\n",
              "    <tr>\n",
              "      <th>24</th>\n",
              "      <td>Meuse</td>\n",
              "      <td>65.0</td>\n",
              "      <td>51.0</td>\n",
              "    </tr>\n",
              "    <tr>\n",
              "      <th>25</th>\n",
              "      <td>Lot</td>\n",
              "      <td>62.0</td>\n",
              "      <td>60.0</td>\n",
              "    </tr>\n",
              "    <tr>\n",
              "      <th>26</th>\n",
              "      <td>Jura</td>\n",
              "      <td>62.0</td>\n",
              "      <td>26.0</td>\n",
              "    </tr>\n",
              "    <tr>\n",
              "      <th>27</th>\n",
              "      <td>Ariège</td>\n",
              "      <td>54.0</td>\n",
              "      <td>54.0</td>\n",
              "    </tr>\n",
              "    <tr>\n",
              "      <th>28</th>\n",
              "      <td>Yonne</td>\n",
              "      <td>53.0</td>\n",
              "      <td>29.0</td>\n",
              "    </tr>\n",
              "    <tr>\n",
              "      <th>29</th>\n",
              "      <td>Pyrénées-Orientales</td>\n",
              "      <td>51.0</td>\n",
              "      <td>59.0</td>\n",
              "    </tr>\n",
              "    <tr>\n",
              "      <th>30</th>\n",
              "      <td>Deux-Sèvres</td>\n",
              "      <td>50.0</td>\n",
              "      <td>39.0</td>\n",
              "    </tr>\n",
              "    <tr>\n",
              "      <th>31</th>\n",
              "      <td>Ardennes</td>\n",
              "      <td>50.0</td>\n",
              "      <td>60.0</td>\n",
              "    </tr>\n",
              "    <tr>\n",
              "      <th>32</th>\n",
              "      <td>Guadeloupe</td>\n",
              "      <td>50.0</td>\n",
              "      <td>30.0</td>\n",
              "    </tr>\n",
              "    <tr>\n",
              "      <th>33</th>\n",
              "      <td>Maine-et-Loire</td>\n",
              "      <td>49.0</td>\n",
              "      <td>64.0</td>\n",
              "    </tr>\n",
              "    <tr>\n",
              "      <th>34</th>\n",
              "      <td>Drôme</td>\n",
              "      <td>48.0</td>\n",
              "      <td>46.0</td>\n",
              "    </tr>\n",
              "  </tbody>\n",
              "</table>\n",
              "</div>\n",
              "      <button class=\"colab-df-convert\" onclick=\"convertToInteractive('df-1983e599-58a1-4b1f-96d1-7098f5b31cde')\"\n",
              "              title=\"Convert this dataframe to an interactive table.\"\n",
              "              style=\"display:none;\">\n",
              "        \n",
              "  <svg xmlns=\"http://www.w3.org/2000/svg\" height=\"24px\"viewBox=\"0 0 24 24\"\n",
              "       width=\"24px\">\n",
              "    <path d=\"M0 0h24v24H0V0z\" fill=\"none\"/>\n",
              "    <path d=\"M18.56 5.44l.94 2.06.94-2.06 2.06-.94-2.06-.94-.94-2.06-.94 2.06-2.06.94zm-11 1L8.5 8.5l.94-2.06 2.06-.94-2.06-.94L8.5 2.5l-.94 2.06-2.06.94zm10 10l.94 2.06.94-2.06 2.06-.94-2.06-.94-.94-2.06-.94 2.06-2.06.94z\"/><path d=\"M17.41 7.96l-1.37-1.37c-.4-.4-.92-.59-1.43-.59-.52 0-1.04.2-1.43.59L10.3 9.45l-7.72 7.72c-.78.78-.78 2.05 0 2.83L4 21.41c.39.39.9.59 1.41.59.51 0 1.02-.2 1.41-.59l7.78-7.78 2.81-2.81c.8-.78.8-2.07 0-2.86zM5.41 20L4 18.59l7.72-7.72 1.47 1.35L5.41 20z\"/>\n",
              "  </svg>\n",
              "      </button>\n",
              "      \n",
              "  <style>\n",
              "    .colab-df-container {\n",
              "      display:flex;\n",
              "      flex-wrap:wrap;\n",
              "      gap: 12px;\n",
              "    }\n",
              "\n",
              "    .colab-df-convert {\n",
              "      background-color: #E8F0FE;\n",
              "      border: none;\n",
              "      border-radius: 50%;\n",
              "      cursor: pointer;\n",
              "      display: none;\n",
              "      fill: #1967D2;\n",
              "      height: 32px;\n",
              "      padding: 0 0 0 0;\n",
              "      width: 32px;\n",
              "    }\n",
              "\n",
              "    .colab-df-convert:hover {\n",
              "      background-color: #E2EBFA;\n",
              "      box-shadow: 0px 1px 2px rgba(60, 64, 67, 0.3), 0px 1px 3px 1px rgba(60, 64, 67, 0.15);\n",
              "      fill: #174EA6;\n",
              "    }\n",
              "\n",
              "    [theme=dark] .colab-df-convert {\n",
              "      background-color: #3B4455;\n",
              "      fill: #D2E3FC;\n",
              "    }\n",
              "\n",
              "    [theme=dark] .colab-df-convert:hover {\n",
              "      background-color: #434B5C;\n",
              "      box-shadow: 0px 1px 3px 1px rgba(0, 0, 0, 0.15);\n",
              "      filter: drop-shadow(0px 1px 2px rgba(0, 0, 0, 0.3));\n",
              "      fill: #FFFFFF;\n",
              "    }\n",
              "  </style>\n",
              "\n",
              "      <script>\n",
              "        const buttonEl =\n",
              "          document.querySelector('#df-1983e599-58a1-4b1f-96d1-7098f5b31cde button.colab-df-convert');\n",
              "        buttonEl.style.display =\n",
              "          google.colab.kernel.accessAllowed ? 'block' : 'none';\n",
              "\n",
              "        async function convertToInteractive(key) {\n",
              "          const element = document.querySelector('#df-1983e599-58a1-4b1f-96d1-7098f5b31cde');\n",
              "          const dataTable =\n",
              "            await google.colab.kernel.invokeFunction('convertToInteractive',\n",
              "                                                     [key], {});\n",
              "          if (!dataTable) return;\n",
              "\n",
              "          const docLinkHtml = 'Like what you see? Visit the ' +\n",
              "            '<a target=\"_blank\" href=https://colab.research.google.com/notebooks/data_table.ipynb>data table notebook</a>'\n",
              "            + ' to learn more about interactive tables.';\n",
              "          element.innerHTML = '';\n",
              "          dataTable['output_type'] = 'display_data';\n",
              "          await google.colab.output.renderOutput(dataTable, element);\n",
              "          const docLink = document.createElement('div');\n",
              "          docLink.innerHTML = docLinkHtml;\n",
              "          element.appendChild(docLink);\n",
              "        }\n",
              "      </script>\n",
              "    </div>\n",
              "  </div>\n",
              "  "
            ],
            "text/plain": [
              "        libelle_departement  ...  valeur_actuelle\n",
              "0                   Corrèze  ...             92.0\n",
              "1   Alpes-de-Haute-Provence  ...             42.0\n",
              "2                    Creuse  ...             37.0\n",
              "3              Hautes-Alpes  ...             39.0\n",
              "4                   Ardèche  ...             22.0\n",
              "5               Haute-Saône  ...             28.0\n",
              "6                    Vosges  ...             49.0\n",
              "7               Haute-Marne  ...             53.0\n",
              "8                      Tarn  ...             51.0\n",
              "9                      Aude  ...             59.0\n",
              "10          Tarn-et-Garonne  ...             56.0\n",
              "11                   Guyane  ...             41.0\n",
              "12                     Eure  ...             50.0\n",
              "13                   Nièvre  ...             28.0\n",
              "14             Loir-et-Cher  ...             48.0\n",
              "15                     Gard  ...             61.0\n",
              "16                     Aube  ...             66.0\n",
              "17                 Dordogne  ...             19.0\n",
              "18           Saône-et-Loire  ...             43.0\n",
              "19           Lot-et-Garonne  ...             41.0\n",
              "20                   Lozère  ...             53.0\n",
              "21              Haute-Corse  ...             46.0\n",
              "22                  Aveyron  ...             59.0\n",
              "23                 Charente  ...             52.0\n",
              "24                    Meuse  ...             51.0\n",
              "25                      Lot  ...             60.0\n",
              "26                     Jura  ...             26.0\n",
              "27                   Ariège  ...             54.0\n",
              "28                    Yonne  ...             29.0\n",
              "29      Pyrénées-Orientales  ...             59.0\n",
              "30              Deux-Sèvres  ...             39.0\n",
              "31                 Ardennes  ...             60.0\n",
              "32               Guadeloupe  ...             30.0\n",
              "33           Maine-et-Loire  ...             64.0\n",
              "34                    Drôme  ...             46.0\n",
              "\n",
              "[35 rows x 3 columns]"
            ]
          },
          "metadata": {},
          "execution_count": 53
        }
      ]
    },
    {
      "cell_type": "code",
      "source": [
        "# moins d'écart à la moyenne, des progressions et couvertures donc plus ressemblantes et taux de couverture moins élevés\n",
        "np.std(top_progression[1:].valeur_actuelle)"
      ],
      "metadata": {
        "colab": {
          "base_uri": "https://localhost:8080/"
        },
        "id": "J6MGBNwh-wO6",
        "outputId": "46f66f59-c27c-4e16-863d-3c41e2c1e221"
      },
      "execution_count": null,
      "outputs": [
        {
          "output_type": "execute_result",
          "data": {
            "text/plain": [
              "12.575343866328323"
            ]
          },
          "metadata": {},
          "execution_count": 56
        }
      ]
    },
    {
      "cell_type": "code",
      "source": [
        "np.std(df_1.valeur_actuelle)"
      ],
      "metadata": {
        "colab": {
          "base_uri": "https://localhost:8080/"
        },
        "id": "u0FVuaT6BKlf",
        "outputId": "ed44dc5c-3065-4963-c8d0-ecf375dc996b"
      },
      "execution_count": null,
      "outputs": [
        {
          "output_type": "execute_result",
          "data": {
            "text/plain": [
              "20.30583243068041"
            ]
          },
          "metadata": {},
          "execution_count": 71
        }
      ]
    },
    {
      "cell_type": "code",
      "source": [
        "plt.boxplot(top_progression[1:].valeur_actuelle)\n",
        "plt.show()"
      ],
      "metadata": {
        "colab": {
          "base_uri": "https://localhost:8080/",
          "height": 265
        },
        "id": "pwA4J298AAlB",
        "outputId": "ded273e2-e6b2-461a-842b-1f6214f1d645"
      },
      "execution_count": null,
      "outputs": [
        {
          "output_type": "display_data",
          "data": {
            "image/png": "[encoded data removed]",
            "text/plain": [
              "<Figure size 432x288 with 1 Axes>"
            ]
          },
          "metadata": {
            "needs_background": "light"
          }
        }
      ]
    },
    {
      "cell_type": "code",
      "source": [
        "plt.boxplot(df_1.valeur_actuelle)\n",
        "plt.show"
      ],
      "metadata": {
        "colab": {
          "base_uri": "https://localhost:8080/",
          "height": 285
        },
        "id": "P0DZPs2aAfmN",
        "outputId": "b9d4f5ab-62b6-4a31-e53c-7710398a2a4a"
      },
      "execution_count": null,
      "outputs": [
        {
          "output_type": "execute_result",
          "data": {
            "text/plain": [
              "<function matplotlib.pyplot.show>"
            ]
          },
          "metadata": {},
          "execution_count": 61
        },
        {
          "output_type": "display_data",
          "data": {
            "image/png": "[encoded data removed]",
            "text/plain": [
              "<Figure size 432x288 with 1 Axes>"
            ]
          },
          "metadata": {
            "needs_background": "light"
          }
        }
      ]
    },
    {
      "cell_type": "code",
      "source": [
        "df_1.columns"
      ],
      "metadata": {
        "colab": {
          "base_uri": "https://localhost:8080/"
        },
        "id": "HsC5BqfC4ggy",
        "outputId": "8ce9a298-ba52-4365-bbdd-7a8dd51392b6"
      },
      "execution_count": null,
      "outputs": [
        {
          "output_type": "execute_result",
          "data": {
            "text/plain": [
              "Index(['mesure', 'indicateur', 'id_indicateur', 'code_departement',\n",
              "       'libelle_departement', 'valeur_actuelle', 'date_valeur_actuelle',\n",
              "       'valeur_initiale', 'date_valeur_initiale', 'progression',\n",
              "       'pourcentage_progression', 'progression_derniere_maj',\n",
              "       'pourcentage_progression_derniere_maj', 'progression_derniere_maj_date',\n",
              "       'cible', 'pourcentage_cible', 'date_cible', 'unite'],\n",
              "      dtype='object')"
            ]
          },
          "metadata": {},
          "execution_count": 26
        }
      ]
    },
    {
      "cell_type": "code",
      "source": [
        "print(df_1.date_valeur_initiale.unique())\n",
        "print(df_1.progression_derniere_maj_date.unique())\n",
        "print(df_1.date_valeur_actuelle.unique())"
      ],
      "metadata": {
        "colab": {
          "base_uri": "https://localhost:8080/"
        },
        "id": "61U4TgfaG32D",
        "outputId": "2f8dc869-25ad-4971-f83c-c4126f23e5e3"
      },
      "execution_count": null,
      "outputs": [
        {
          "output_type": "stream",
          "name": "stdout",
          "text": [
            "[2017]\n",
            "[2020    0]\n",
            "[2021 2020]\n"
          ]
        }
      ]
    },
    {
      "cell_type": "code",
      "source": [
        "fig1, ax = plt.subplots(figsize = (30,10))\n",
        "fig1.suptitle(\"Répartition des départements en fonction du taux de couverture\", fontsize=16)\n",
        "\n",
        "ax1 = plt.subplot(131)\n",
        "ax1 = sns.histplot(data = df_1, x = \"valeur_actuelle\", color = 'red', bins = 40)\n",
        "ax1.set_title(\"Actuellement\")\n",
        "\n",
        "ax2 = plt.subplot(132)\n",
        "ax2 = sns.histplot(data = df_1, x = \"progression_derniere_maj\", color = 'orangered', bins = 40)\n",
        "ax2.set_title(\"En 2020\")\n",
        "\n",
        "ax3 = plt.subplot(133)\n",
        "ax3 = sns.histplot(data = df_1, x = \"valeur_initiale\", color = 'orange', bins = 40)\n",
        "ax3.set_title(\"En 2017\")\n",
        "\n",
        "fig1.show()"
      ],
      "metadata": {
        "colab": {
          "base_uri": "https://localhost:8080/",
          "height": 669
        },
        "id": "os5i8rV2GRfi",
        "outputId": "f5dd0185-f67f-430a-c611-175e3aee456c"
      },
      "execution_count": null,
      "outputs": [
        {
          "output_type": "display_data",
          "data": {
            "image/png": "[encoded data removed]",
            "text/plain": [
              "<Figure size 2160x720 with 3 Axes>"
            ]
          },
          "metadata": {
            "needs_background": "light"
          }
        }
      ]
    },
    {
      "cell_type": "markdown",
      "source": [
        "pour cette mesure, il semble que les départements qui avaient un certain retard concernant l'atteinte des objectifs nationaux ont tendance à progresser plus vite."
      ],
      "metadata": {
        "id": "o80YbnwOBh67"
      }
    },
    {
      "cell_type": "markdown",
      "source": [
        "## export des bases nettoyées et avec données num"
      ],
      "metadata": {
        "id": "CKp6YEQNousd"
      }
    },
    {
      "cell_type": "code",
      "source": [
        "detail_1.to_csv('internet-detail.csv', index = False)"
      ],
      "metadata": {
        "id": "A1KB0kNbvcIi"
      },
      "execution_count": null,
      "outputs": []
    },
    {
      "cell_type": "code",
      "source": [
        "df_1.to_csv('internet.csv', index = False)"
      ],
      "metadata": {
        "id": "tDfzcK93A5q6"
      },
      "execution_count": null,
      "outputs": []
    },
    {
      "cell_type": "markdown",
      "source": [
        "# Doubler le nombre de maisons de santé et de centres de santé dans les territoires (2 indicateurs : Nombre de centres de santé + Nombre de maisons de santé pluri-professionnelles)"
      ],
      "metadata": {
        "id": "dKHwS00JIYDA"
      }
    },
    {
      "cell_type": "code",
      "source": [
        "df_2 = df[df['mesure']== 'Doubler le nombre de maisons de santé et de centres de santé dans les territoires'].reset_index(drop = True)\n",
        "df_2.head(2)"
      ],
      "metadata": {
        "colab": {
          "base_uri": "https://localhost:8080/",
          "height": 420
        },
        "id": "Vb2frBrCIm6X",
        "outputId": "3c00c499-0d07-4ff8-ce98-4e6f00a8448a"
      },
      "execution_count": null,
      "outputs": [
        {
          "output_type": "execute_result",
          "data": {
            "text/html": [
              "\n",
              "  <div id=\"df-11f32348-127a-4454-bfdf-d72ce403db17\">\n",
              "    <div class=\"colab-df-container\">\n",
              "      <div>\n",
              "<style scoped>\n",
              "    .dataframe tbody tr th:only-of-type {\n",
              "        vertical-align: middle;\n",
              "    }\n",
              "\n",
              "    .dataframe tbody tr th {\n",
              "        vertical-align: top;\n",
              "    }\n",
              "\n",
              "    .dataframe thead th {\n",
              "        text-align: right;\n",
              "    }\n",
              "</style>\n",
              "<table border=\"1\" class=\"dataframe\">\n",
              "  <thead>\n",
              "    <tr style=\"text-align: right;\">\n",
              "      <th></th>\n",
              "      <th>mesure</th>\n",
              "      <th>indicateur</th>\n",
              "      <th>id_indicateur</th>\n",
              "      <th>code_departement</th>\n",
              "      <th>libelle_departement</th>\n",
              "      <th>valeur_actuelle</th>\n",
              "      <th>date_valeur_actuelle</th>\n",
              "      <th>valeur_initiale</th>\n",
              "      <th>date_valeur_initiale</th>\n",
              "      <th>progression</th>\n",
              "      <th>pourcentage_progression</th>\n",
              "      <th>progression_derniere_maj</th>\n",
              "      <th>pourcentage_progression_derniere_maj</th>\n",
              "      <th>progression_derniere_maj_date</th>\n",
              "      <th>cible</th>\n",
              "      <th>pourcentage_cible</th>\n",
              "      <th>date_cible</th>\n",
              "      <th>unite</th>\n",
              "    </tr>\n",
              "  </thead>\n",
              "  <tbody>\n",
              "    <tr>\n",
              "      <th>0</th>\n",
              "      <td>Doubler le nombre de maisons de santé et de ce...</td>\n",
              "      <td>Nombre de maisons de santé pluri-professionnelles</td>\n",
              "      <td>nb-maisons-sante</td>\n",
              "      <td>01</td>\n",
              "      <td>Ain</td>\n",
              "      <td>31.0</td>\n",
              "      <td>2021-06-30</td>\n",
              "      <td>21.0</td>\n",
              "      <td>2017-06-30</td>\n",
              "      <td>10.0</td>\n",
              "      <td>48.0</td>\n",
              "      <td>30.0</td>\n",
              "      <td>3.0</td>\n",
              "      <td>2020-06-30</td>\n",
              "      <td>30.0</td>\n",
              "      <td>100.0</td>\n",
              "      <td>2022-12-31</td>\n",
              "      <td>maisons de santé</td>\n",
              "    </tr>\n",
              "    <tr>\n",
              "      <th>1</th>\n",
              "      <td>Doubler le nombre de maisons de santé et de ce...</td>\n",
              "      <td>Nombre de centres de santé</td>\n",
              "      <td>nb-centres-sante</td>\n",
              "      <td>01</td>\n",
              "      <td>Ain</td>\n",
              "      <td>2.0</td>\n",
              "      <td>2021-06-30</td>\n",
              "      <td>1.0</td>\n",
              "      <td>2017-12-31</td>\n",
              "      <td>1.0</td>\n",
              "      <td>100.0</td>\n",
              "      <td>NaN</td>\n",
              "      <td>NaN</td>\n",
              "      <td>NaN</td>\n",
              "      <td>5.0</td>\n",
              "      <td>25.0</td>\n",
              "      <td>2022-12-31</td>\n",
              "      <td>centres de santé</td>\n",
              "    </tr>\n",
              "  </tbody>\n",
              "</table>\n",
              "</div>\n",
              "      <button class=\"colab-df-convert\" onclick=\"convertToInteractive('df-11f32348-127a-4454-bfdf-d72ce403db17')\"\n",
              "              title=\"Convert this dataframe to an interactive table.\"\n",
              "              style=\"display:none;\">\n",
              "        \n",
              "  <svg xmlns=\"http://www.w3.org/2000/svg\" height=\"24px\"viewBox=\"0 0 24 24\"\n",
              "       width=\"24px\">\n",
              "    <path d=\"M0 0h24v24H0V0z\" fill=\"none\"/>\n",
              "    <path d=\"M18.56 5.44l.94 2.06.94-2.06 2.06-.94-2.06-.94-.94-2.06-.94 2.06-2.06.94zm-11 1L8.5 8.5l.94-2.06 2.06-.94-2.06-.94L8.5 2.5l-.94 2.06-2.06.94zm10 10l.94 2.06.94-2.06 2.06-.94-2.06-.94-.94-2.06-.94 2.06-2.06.94z\"/><path d=\"M17.41 7.96l-1.37-1.37c-.4-.4-.92-.59-1.43-.59-.52 0-1.04.2-1.43.59L10.3 9.45l-7.72 7.72c-.78.78-.78 2.05 0 2.83L4 21.41c.39.39.9.59 1.41.59.51 0 1.02-.2 1.41-.59l7.78-7.78 2.81-2.81c.8-.78.8-2.07 0-2.86zM5.41 20L4 18.59l7.72-7.72 1.47 1.35L5.41 20z\"/>\n",
              "  </svg>\n",
              "      </button>\n",
              "      \n",
              "  <style>\n",
              "    .colab-df-container {\n",
              "      display:flex;\n",
              "      flex-wrap:wrap;\n",
              "      gap: 12px;\n",
              "    }\n",
              "\n",
              "    .colab-df-convert {\n",
              "      background-color: #E8F0FE;\n",
              "      border: none;\n",
              "      border-radius: 50%;\n",
              "      cursor: pointer;\n",
              "      display: none;\n",
              "      fill: #1967D2;\n",
              "      height: 32px;\n",
              "      padding: 0 0 0 0;\n",
              "      width: 32px;\n",
              "    }\n",
              "\n",
              "    .colab-df-convert:hover {\n",
              "      background-color: #E2EBFA;\n",
              "      box-shadow: 0px 1px 2px rgba(60, 64, 67, 0.3), 0px 1px 3px 1px rgba(60, 64, 67, 0.15);\n",
              "      fill: #174EA6;\n",
              "    }\n",
              "\n",
              "    [theme=dark] .colab-df-convert {\n",
              "      background-color: #3B4455;\n",
              "      fill: #D2E3FC;\n",
              "    }\n",
              "\n",
              "    [theme=dark] .colab-df-convert:hover {\n",
              "      background-color: #434B5C;\n",
              "      box-shadow: 0px 1px 3px 1px rgba(0, 0, 0, 0.15);\n",
              "      filter: drop-shadow(0px 1px 2px rgba(0, 0, 0, 0.3));\n",
              "      fill: #FFFFFF;\n",
              "    }\n",
              "  </style>\n",
              "\n",
              "      <script>\n",
              "        const buttonEl =\n",
              "          document.querySelector('#df-11f32348-127a-4454-bfdf-d72ce403db17 button.colab-df-convert');\n",
              "        buttonEl.style.display =\n",
              "          google.colab.kernel.accessAllowed ? 'block' : 'none';\n",
              "\n",
              "        async function convertToInteractive(key) {\n",
              "          const element = document.querySelector('#df-11f32348-127a-4454-bfdf-d72ce403db17');\n",
              "          const dataTable =\n",
              "            await google.colab.kernel.invokeFunction('convertToInteractive',\n",
              "                                                     [key], {});\n",
              "          if (!dataTable) return;\n",
              "\n",
              "          const docLinkHtml = 'Like what you see? Visit the ' +\n",
              "            '<a target=\"_blank\" href=https://colab.research.google.com/notebooks/data_table.ipynb>data table notebook</a>'\n",
              "            + ' to learn more about interactive tables.';\n",
              "          element.innerHTML = '';\n",
              "          dataTable['output_type'] = 'display_data';\n",
              "          await google.colab.output.renderOutput(dataTable, element);\n",
              "          const docLink = document.createElement('div');\n",
              "          docLink.innerHTML = docLinkHtml;\n",
              "          element.appendChild(docLink);\n",
              "        }\n",
              "      </script>\n",
              "    </div>\n",
              "  </div>\n",
              "  "
            ],
            "text/plain": [
              "                                              mesure  ...             unite\n",
              "0  Doubler le nombre de maisons de santé et de ce...  ...  maisons de santé\n",
              "1  Doubler le nombre de maisons de santé et de ce...  ...  centres de santé\n",
              "\n",
              "[2 rows x 18 columns]"
            ]
          },
          "metadata": {},
          "execution_count": 4
        }
      ]
    },
    {
      "cell_type": "code",
      "source": [
        "detail_2 = detail[detail['mesure']== 'Doubler le nombre de maisons de santé et de centres de santé dans les territoires'].reset_index(drop = True)\n",
        "detail_2"
      ],
      "metadata": {
        "colab": {
          "base_uri": "https://localhost:8080/",
          "height": 424
        },
        "id": "Rn5kX9rZIx3G",
        "outputId": "9735bae4-63a7-4cd2-8b02-fbcbbe4687e5"
      },
      "execution_count": null,
      "outputs": [
        {
          "output_type": "execute_result",
          "data": {
            "text/html": [
              "\n",
              "  <div id=\"df-be16d78e-bf9b-464a-90db-7c02d9209b27\">\n",
              "    <div class=\"colab-df-container\">\n",
              "      <div>\n",
              "<style scoped>\n",
              "    .dataframe tbody tr th:only-of-type {\n",
              "        vertical-align: middle;\n",
              "    }\n",
              "\n",
              "    .dataframe tbody tr th {\n",
              "        vertical-align: top;\n",
              "    }\n",
              "\n",
              "    .dataframe thead th {\n",
              "        text-align: right;\n",
              "    }\n",
              "</style>\n",
              "<table border=\"1\" class=\"dataframe\">\n",
              "  <thead>\n",
              "    <tr style=\"text-align: right;\">\n",
              "      <th></th>\n",
              "      <th>mesure</th>\n",
              "      <th>indicateur</th>\n",
              "      <th>id_indicateur</th>\n",
              "      <th>code_departement</th>\n",
              "      <th>libelle_departement</th>\n",
              "      <th>date</th>\n",
              "      <th>valeur</th>\n",
              "      <th>unite</th>\n",
              "    </tr>\n",
              "  </thead>\n",
              "  <tbody>\n",
              "    <tr>\n",
              "      <th>0</th>\n",
              "      <td>Doubler le nombre de maisons de santé et de ce...</td>\n",
              "      <td>Nombre de centres de santé</td>\n",
              "      <td>nb-centres-sante</td>\n",
              "      <td>01</td>\n",
              "      <td>Ain</td>\n",
              "      <td>2017-12-31</td>\n",
              "      <td>1</td>\n",
              "      <td>centres de santé</td>\n",
              "    </tr>\n",
              "    <tr>\n",
              "      <th>1</th>\n",
              "      <td>Doubler le nombre de maisons de santé et de ce...</td>\n",
              "      <td>Nombre de centres de santé</td>\n",
              "      <td>nb-centres-sante</td>\n",
              "      <td>01</td>\n",
              "      <td>Ain</td>\n",
              "      <td>2018-12-31</td>\n",
              "      <td>1</td>\n",
              "      <td>centres de santé</td>\n",
              "    </tr>\n",
              "    <tr>\n",
              "      <th>2</th>\n",
              "      <td>Doubler le nombre de maisons de santé et de ce...</td>\n",
              "      <td>Nombre de centres de santé</td>\n",
              "      <td>nb-centres-sante</td>\n",
              "      <td>01</td>\n",
              "      <td>Ain</td>\n",
              "      <td>2019-12-31</td>\n",
              "      <td>1</td>\n",
              "      <td>centres de santé</td>\n",
              "    </tr>\n",
              "    <tr>\n",
              "      <th>3</th>\n",
              "      <td>Doubler le nombre de maisons de santé et de ce...</td>\n",
              "      <td>Nombre de centres de santé</td>\n",
              "      <td>nb-centres-sante</td>\n",
              "      <td>01</td>\n",
              "      <td>Ain</td>\n",
              "      <td>2020-12-31</td>\n",
              "      <td>2</td>\n",
              "      <td>centres de santé</td>\n",
              "    </tr>\n",
              "    <tr>\n",
              "      <th>4</th>\n",
              "      <td>Doubler le nombre de maisons de santé et de ce...</td>\n",
              "      <td>Nombre de centres de santé</td>\n",
              "      <td>nb-centres-sante</td>\n",
              "      <td>01</td>\n",
              "      <td>Ain</td>\n",
              "      <td>2021-06-30</td>\n",
              "      <td>2</td>\n",
              "      <td>centres de santé</td>\n",
              "    </tr>\n",
              "    <tr>\n",
              "      <th>...</th>\n",
              "      <td>...</td>\n",
              "      <td>...</td>\n",
              "      <td>...</td>\n",
              "      <td>...</td>\n",
              "      <td>...</td>\n",
              "      <td>...</td>\n",
              "      <td>...</td>\n",
              "      <td>...</td>\n",
              "    </tr>\n",
              "    <tr>\n",
              "      <th>1331</th>\n",
              "      <td>Doubler le nombre de maisons de santé et de ce...</td>\n",
              "      <td>Nombre de maisons de santé pluri-professionnelles</td>\n",
              "      <td>nb-maisons-sante</td>\n",
              "      <td>976</td>\n",
              "      <td>Mayotte</td>\n",
              "      <td>2019-06-30</td>\n",
              "      <td>2</td>\n",
              "      <td>maisons de santé</td>\n",
              "    </tr>\n",
              "    <tr>\n",
              "      <th>1332</th>\n",
              "      <td>Doubler le nombre de maisons de santé et de ce...</td>\n",
              "      <td>Nombre de maisons de santé pluri-professionnelles</td>\n",
              "      <td>nb-maisons-sante</td>\n",
              "      <td>976</td>\n",
              "      <td>Mayotte</td>\n",
              "      <td>2019-12-31</td>\n",
              "      <td>3</td>\n",
              "      <td>maisons de santé</td>\n",
              "    </tr>\n",
              "    <tr>\n",
              "      <th>1333</th>\n",
              "      <td>Doubler le nombre de maisons de santé et de ce...</td>\n",
              "      <td>Nombre de maisons de santé pluri-professionnelles</td>\n",
              "      <td>nb-maisons-sante</td>\n",
              "      <td>976</td>\n",
              "      <td>Mayotte</td>\n",
              "      <td>2020-06-30</td>\n",
              "      <td>3</td>\n",
              "      <td>maisons de santé</td>\n",
              "    </tr>\n",
              "    <tr>\n",
              "      <th>1334</th>\n",
              "      <td>Doubler le nombre de maisons de santé et de ce...</td>\n",
              "      <td>Nombre de maisons de santé pluri-professionnelles</td>\n",
              "      <td>nb-maisons-sante</td>\n",
              "      <td>976</td>\n",
              "      <td>Mayotte</td>\n",
              "      <td>2020-12-31</td>\n",
              "      <td>4</td>\n",
              "      <td>maisons de santé</td>\n",
              "    </tr>\n",
              "    <tr>\n",
              "      <th>1335</th>\n",
              "      <td>Doubler le nombre de maisons de santé et de ce...</td>\n",
              "      <td>Nombre de maisons de santé pluri-professionnelles</td>\n",
              "      <td>nb-maisons-sante</td>\n",
              "      <td>976</td>\n",
              "      <td>Mayotte</td>\n",
              "      <td>2021-06-30</td>\n",
              "      <td>4</td>\n",
              "      <td>maisons de santé</td>\n",
              "    </tr>\n",
              "  </tbody>\n",
              "</table>\n",
              "<p>1336 rows × 8 columns</p>\n",
              "</div>\n",
              "      <button class=\"colab-df-convert\" onclick=\"convertToInteractive('df-be16d78e-bf9b-464a-90db-7c02d9209b27')\"\n",
              "              title=\"Convert this dataframe to an interactive table.\"\n",
              "              style=\"display:none;\">\n",
              "        \n",
              "  <svg xmlns=\"http://www.w3.org/2000/svg\" height=\"24px\"viewBox=\"0 0 24 24\"\n",
              "       width=\"24px\">\n",
              "    <path d=\"M0 0h24v24H0V0z\" fill=\"none\"/>\n",
              "    <path d=\"M18.56 5.44l.94 2.06.94-2.06 2.06-.94-2.06-.94-.94-2.06-.94 2.06-2.06.94zm-11 1L8.5 8.5l.94-2.06 2.06-.94-2.06-.94L8.5 2.5l-.94 2.06-2.06.94zm10 10l.94 2.06.94-2.06 2.06-.94-2.06-.94-.94-2.06-.94 2.06-2.06.94z\"/><path d=\"M17.41 7.96l-1.37-1.37c-.4-.4-.92-.59-1.43-.59-.52 0-1.04.2-1.43.59L10.3 9.45l-7.72 7.72c-.78.78-.78 2.05 0 2.83L4 21.41c.39.39.9.59 1.41.59.51 0 1.02-.2 1.41-.59l7.78-7.78 2.81-2.81c.8-.78.8-2.07 0-2.86zM5.41 20L4 18.59l7.72-7.72 1.47 1.35L5.41 20z\"/>\n",
              "  </svg>\n",
              "      </button>\n",
              "      \n",
              "  <style>\n",
              "    .colab-df-container {\n",
              "      display:flex;\n",
              "      flex-wrap:wrap;\n",
              "      gap: 12px;\n",
              "    }\n",
              "\n",
              "    .colab-df-convert {\n",
              "      background-color: #E8F0FE;\n",
              "      border: none;\n",
              "      border-radius: 50%;\n",
              "      cursor: pointer;\n",
              "      display: none;\n",
              "      fill: #1967D2;\n",
              "      height: 32px;\n",
              "      padding: 0 0 0 0;\n",
              "      width: 32px;\n",
              "    }\n",
              "\n",
              "    .colab-df-convert:hover {\n",
              "      background-color: #E2EBFA;\n",
              "      box-shadow: 0px 1px 2px rgba(60, 64, 67, 0.3), 0px 1px 3px 1px rgba(60, 64, 67, 0.15);\n",
              "      fill: #174EA6;\n",
              "    }\n",
              "\n",
              "    [theme=dark] .colab-df-convert {\n",
              "      background-color: #3B4455;\n",
              "      fill: #D2E3FC;\n",
              "    }\n",
              "\n",
              "    [theme=dark] .colab-df-convert:hover {\n",
              "      background-color: #434B5C;\n",
              "      box-shadow: 0px 1px 3px 1px rgba(0, 0, 0, 0.15);\n",
              "      filter: drop-shadow(0px 1px 2px rgba(0, 0, 0, 0.3));\n",
              "      fill: #FFFFFF;\n",
              "    }\n",
              "  </style>\n",
              "\n",
              "      <script>\n",
              "        const buttonEl =\n",
              "          document.querySelector('#df-be16d78e-bf9b-464a-90db-7c02d9209b27 button.colab-df-convert');\n",
              "        buttonEl.style.display =\n",
              "          google.colab.kernel.accessAllowed ? 'block' : 'none';\n",
              "\n",
              "        async function convertToInteractive(key) {\n",
              "          const element = document.querySelector('#df-be16d78e-bf9b-464a-90db-7c02d9209b27');\n",
              "          const dataTable =\n",
              "            await google.colab.kernel.invokeFunction('convertToInteractive',\n",
              "                                                     [key], {});\n",
              "          if (!dataTable) return;\n",
              "\n",
              "          const docLinkHtml = 'Like what you see? Visit the ' +\n",
              "            '<a target=\"_blank\" href=https://colab.research.google.com/notebooks/data_table.ipynb>data table notebook</a>'\n",
              "            + ' to learn more about interactive tables.';\n",
              "          element.innerHTML = '';\n",
              "          dataTable['output_type'] = 'display_data';\n",
              "          await google.colab.output.renderOutput(dataTable, element);\n",
              "          const docLink = document.createElement('div');\n",
              "          docLink.innerHTML = docLinkHtml;\n",
              "          element.appendChild(docLink);\n",
              "        }\n",
              "      </script>\n",
              "    </div>\n",
              "  </div>\n",
              "  "
            ],
            "text/plain": [
              "                                                 mesure  ...             unite\n",
              "0     Doubler le nombre de maisons de santé et de ce...  ...  centres de santé\n",
              "1     Doubler le nombre de maisons de santé et de ce...  ...  centres de santé\n",
              "2     Doubler le nombre de maisons de santé et de ce...  ...  centres de santé\n",
              "3     Doubler le nombre de maisons de santé et de ce...  ...  centres de santé\n",
              "4     Doubler le nombre de maisons de santé et de ce...  ...  centres de santé\n",
              "...                                                 ...  ...               ...\n",
              "1331  Doubler le nombre de maisons de santé et de ce...  ...  maisons de santé\n",
              "1332  Doubler le nombre de maisons de santé et de ce...  ...  maisons de santé\n",
              "1333  Doubler le nombre de maisons de santé et de ce...  ...  maisons de santé\n",
              "1334  Doubler le nombre de maisons de santé et de ce...  ...  maisons de santé\n",
              "1335  Doubler le nombre de maisons de santé et de ce...  ...  maisons de santé\n",
              "\n",
              "[1336 rows x 8 columns]"
            ]
          },
          "metadata": {},
          "execution_count": 67
        }
      ]
    },
    {
      "cell_type": "markdown",
      "source": [
        "## Fill na / types"
      ],
      "metadata": {
        "id": "h5WYAhPIvyrq"
      }
    },
    {
      "cell_type": "code",
      "source": [
        "df_2.isnull().sum()"
      ],
      "metadata": {
        "colab": {
          "base_uri": "https://localhost:8080/"
        },
        "id": "C3_oTp8XFDz8",
        "outputId": "c1ee73ee-9db2-46fe-bc2f-f725934f4147"
      },
      "execution_count": null,
      "outputs": [
        {
          "output_type": "execute_result",
          "data": {
            "text/plain": [
              "mesure                                    0\n",
              "indicateur                                0\n",
              "id_indicateur                             0\n",
              "code_departement                          0\n",
              "libelle_departement                       0\n",
              "valeur_actuelle                           0\n",
              "date_valeur_actuelle                      0\n",
              "valeur_initiale                          26\n",
              "date_valeur_initiale                     26\n",
              "progression                              26\n",
              "pourcentage_progression                  39\n",
              "progression_derniere_maj                101\n",
              "pourcentage_progression_derniere_maj    101\n",
              "progression_derniere_maj_date           101\n",
              "cible                                     0\n",
              "pourcentage_cible                        27\n",
              "date_cible                                0\n",
              "unite                                     0\n",
              "dtype: int64"
            ]
          },
          "metadata": {},
          "execution_count": 5
        }
      ]
    },
    {
      "cell_type": "code",
      "source": [
        "# je remplace les valeurs null par 0 car il semble qu'il n'y avait pas d'établissement et pas de création\n",
        "df_2.fillna(0, inplace=True)"
      ],
      "metadata": {
        "id": "UnThcoJyG7KK"
      },
      "execution_count": null,
      "outputs": []
    },
    {
      "cell_type": "code",
      "source": [
        "# Je vérifie les types de données des colonnes\n",
        "df_2.dtypes"
      ],
      "metadata": {
        "colab": {
          "base_uri": "https://localhost:8080/"
        },
        "id": "m0CSyxgWI6ZZ",
        "outputId": "92d00a71-4cc1-44c0-9d2c-160c16ec14c7"
      },
      "execution_count": null,
      "outputs": [
        {
          "output_type": "execute_result",
          "data": {
            "text/plain": [
              "mesure                                   object\n",
              "indicateur                               object\n",
              "id_indicateur                            object\n",
              "code_departement                         object\n",
              "libelle_departement                      object\n",
              "valeur_actuelle                         float64\n",
              "date_valeur_actuelle                     object\n",
              "valeur_initiale                         float64\n",
              "date_valeur_initiale                     object\n",
              "progression                             float64\n",
              "pourcentage_progression                 float64\n",
              "progression_derniere_maj                float64\n",
              "pourcentage_progression_derniere_maj    float64\n",
              "progression_derniere_maj_date            object\n",
              "cible                                   float64\n",
              "pourcentage_cible                       float64\n",
              "date_cible                               object\n",
              "unite                                    object\n",
              "dtype: object"
            ]
          },
          "metadata": {},
          "execution_count": 69
        }
      ]
    },
    {
      "cell_type": "code",
      "source": [
        "df_2.cible = df_2.cible.apply(int)\n",
        "df_2.pourcentage_cible = df_2.pourcentage_cible.apply(int)\n",
        "df_2.valeur_actuelle = df_2.valeur_actuelle.apply(int)\n",
        "df_2.valeur_initiale  = df_2.valeur_initiale .apply(int)"
      ],
      "metadata": {
        "id": "UT3j17BIExk_"
      },
      "execution_count": null,
      "outputs": []
    },
    {
      "cell_type": "code",
      "source": [
        "# Je vérifie les types de données des colonnes\n",
        "detail_2.dtypes"
      ],
      "metadata": {
        "id": "eLj4RDb2JHQu"
      },
      "execution_count": null,
      "outputs": []
    },
    {
      "cell_type": "code",
      "source": [
        "detail_2.valeur = detail_2.valeur.apply(int)"
      ],
      "metadata": {
        "id": "_sEJ6wP7JMZV"
      },
      "execution_count": null,
      "outputs": []
    },
    {
      "cell_type": "code",
      "source": [
        "from datetime import datetime\n",
        "\n",
        "df_2['date_valeur_initiale'] = df_2['date_valeur_initiale'].apply(lambda x : datetime.strptime(str(x),'%Y-%m-%d') if x !=0 else 0)\n",
        "df_2['date_valeur_actuelle'] = df_2['date_valeur_actuelle'].apply(lambda x : datetime.strptime(str(x),'%Y-%m-%d')if x !=0 else 0)\n",
        "df_2['progression_derniere_maj_date'] = df_2['progression_derniere_maj_date'].apply(lambda x : datetime.strptime(str(x),'%Y-%m-%d')if x !=0 else 0)"
      ],
      "metadata": {
        "id": "4rIJkpvliJ_9"
      },
      "execution_count": null,
      "outputs": []
    },
    {
      "cell_type": "code",
      "source": [
        "df_2['date_valeur_initiale'] = df_2['date_valeur_initiale'].apply(lambda x : x.year if x !=0 else 0)\n",
        "df_2['date_valeur_actuelle'] = df_2['date_valeur_actuelle'].apply(lambda x : x.year if x !=0 else 0)\n",
        "df_2['progression_derniere_maj_date'] = df_2['progression_derniere_maj_date'].apply(lambda x : x.year if x !=0 else 0)"
      ],
      "metadata": {
        "id": "7s25l-bJrW7S"
      },
      "execution_count": null,
      "outputs": []
    },
    {
      "cell_type": "markdown",
      "source": [
        "## Taux d'avancement / taux de progression par département"
      ],
      "metadata": {
        "id": "NKaKyoMiJfaw"
      }
    },
    {
      "cell_type": "code",
      "source": [
        "n = input('Entrer le numéro du département :')\n",
        "\n",
        "df_a = df_2[(df_2['code_departement']==n)&(df_2['unite']=='maisons de santé')].reset_index(drop = True)\n",
        "df_b = df_2[(df_2['code_departement']==n)&(df_2['unite']=='centres de santé')].reset_index(drop = True)\n",
        "\n",
        "# Taux d'avancement\n",
        "value1 = int(df_a['pourcentage_cible'])\n",
        "value2 = int(df_b['pourcentage_cible'])\n",
        "\n",
        "# progression 20/21\n",
        "value3 = int(df_a['pourcentage_progression_derniere_maj'])\n",
        "value4 = int(df_b['pourcentage_progression_derniere_maj'])\n",
        "\n",
        "# Nombre d'établissmeents et évolutions\n",
        "dates_a = [df_a.loc[0,'date_valeur_initiale'], df_a.loc[0,'date_valeur_actuelle'],df_a.loc[0,'progression_derniere_maj_date']]\n",
        "dates_b = [df_b.loc[0,'date_valeur_initiale'], df_b.loc[0,'date_valeur_actuelle'],df_b.loc[0,'progression_derniere_maj_date']]\n",
        "\n",
        "values_a = [int(df_a.loc[0,'valeur_initiale']), int(df_a.loc[0,'valeur_actuelle']),int(df_a.loc[0,'progression_derniere_maj'])]\n",
        "values_b = [int(df_b.loc[0,'valeur_initiale']), int(df_b.loc[0,'valeur_actuelle']),int(df_b.loc[0,'progression_derniere_maj'])]"
      ],
      "metadata": {
        "colab": {
          "base_uri": "https://localhost:8080/"
        },
        "id": "7N5DVzZaPmMl",
        "outputId": "000c43e5-f39a-4e7d-c2f0-b3774659c964"
      },
      "execution_count": null,
      "outputs": [
        {
          "name": "stdout",
          "output_type": "stream",
          "text": [
            "Entrer le numéro du département :33\n"
          ]
        }
      ]
    },
    {
      "cell_type": "code",
      "source": [
        "import plotly.graph_objects as go\n",
        "\n",
        "fig = go.Figure()\n",
        "\n",
        "fig.add_trace(go.Indicator(\n",
        "    value = value1,\n",
        "    title = {'text': \"Taux d'avancement pour les maisons de santé\"},\n",
        "    domain = {'row': 0, 'column': 0},\n",
        "    gauge_axis_range=[0,100]))\n",
        "\n",
        "fig.add_trace(go.Indicator(\n",
        "    value = value2,\n",
        "    title = {'text': \"Taux d'avancement pour les centres de santé\"},\n",
        "    domain = {'row': 0, 'column': 1},\n",
        "    gauge_axis_range=[0,100]))\n",
        "\n",
        "\n",
        "fig.add_trace(go.Indicator(\n",
        "    value = value3,\n",
        "    title = {'text': \"Taux de progression 20/21 pour les maisons de santé\"},\n",
        "    domain = {'row': 1, 'column': 0},\n",
        "    gauge_axis_range=[0,100]))\n",
        "\n",
        "fig.add_trace(go.Indicator(\n",
        "    value = value4,\n",
        "    title = {'text': \"Taux de progression 20/21 pour les centres de santé\"},\n",
        "    domain = {'row': 1, 'column': 1},\n",
        "    gauge_axis_range=[0,100]))\n",
        "\n",
        "\n",
        "fig.update_layout(\n",
        "    grid = {'rows': 2, 'columns': 2, 'pattern': \"independent\"},\n",
        "    template = {'data' : {'indicator': [{\n",
        "                                'mode' : \"number+gauge\",\n",
        "                                'delta' : {'reference': 90},\n",
        "                                'number':{'suffix':'%'}}]},\n",
        "                                })\n",
        "\n",
        "\n",
        "\n",
        "fig.show()"
      ],
      "metadata": {
        "colab": {
          "base_uri": "https://localhost:8080/",
          "height": 542
        },
        "id": "_k2Qmg71L9LF",
        "outputId": "135b0317-72cc-47c4-ebba-4a547f09d050"
      },
      "execution_count": null,
      "outputs": [
        {
          "output_type": "display_data",
          "data": {
            "text/html": [
              "<html>\n",
              "<head><meta charset=\"utf-8\" /></head>\n",
              "<body>\n",
              "    <div>            <script src=\"https://cdnjs.cloudflare.com/ajax/libs/mathjax/2.7.5/MathJax.js?config=TeX-AMS-MML_SVG\"></script><script type=\"text/javascript\">if (window.MathJax) {MathJax.Hub.Config({SVG: {font: \"STIX-Web\"}});}</script>                <script type=\"text/javascript\">window.PlotlyConfig = {MathJaxConfig: 'local'};</script>\n",
              "        <script src=\"https://cdn.plot.ly/plotly-2.8.3.min.js\"></script>                <div id=\"e51a268d-533c-4dd3-9c25-e014ec3b6d55\" class=\"plotly-graph-div\" style=\"height:525px; width:100%;\"></div>            <script type=\"text/javascript\">                                    window.PLOTLYENV=window.PLOTLYENV || {};                                    if (document.getElementById(\"e51a268d-533c-4dd3-9c25-e014ec3b6d55\")) {                    Plotly.newPlot(                        \"e51a268d-533c-4dd3-9c25-e014ec3b6d55\",                        [{\"domain\":{\"column\":0,\"row\":0},\"gauge\":{\"axis\":{\"range\":[0,100]}},\"title\":{\"text\":\"Taux d'avancement pour les maisons de sant\\u00e9\"},\"value\":62,\"type\":\"indicator\"},{\"domain\":{\"column\":1,\"row\":0},\"gauge\":{\"axis\":{\"range\":[0,100]}},\"title\":{\"text\":\"Taux d'avancement pour les centres de sant\\u00e9\"},\"value\":33,\"type\":\"indicator\"},{\"domain\":{\"column\":0,\"row\":1},\"gauge\":{\"axis\":{\"range\":[0,100]}},\"title\":{\"text\":\"Taux de progression 20/21 pour les maisons de sant\\u00e9\"},\"value\":13,\"type\":\"indicator\"},{\"domain\":{\"column\":1,\"row\":1},\"gauge\":{\"axis\":{\"range\":[0,100]}},\"title\":{\"text\":\"Taux de progression 20/21 pour les centres de sant\\u00e9\"},\"value\":0,\"type\":\"indicator\"}],                        {\"template\":{\"data\":{\"bar\":[{\"error_x\":{\"color\":\"#2a3f5f\"},\"error_y\":{\"color\":\"#2a3f5f\"},\"marker\":{\"line\":{\"color\":\"#E5ECF6\",\"width\":0.5},\"pattern\":{\"fillmode\":\"overlay\",\"size\":10,\"solidity\":0.2}},\"type\":\"bar\"}],\"barpolar\":[{\"marker\":{\"line\":{\"color\":\"#E5ECF6\",\"width\":0.5},\"pattern\":{\"fillmode\":\"overlay\",\"size\":10,\"solidity\":0.2}},\"type\":\"barpolar\"}],\"carpet\":[{\"aaxis\":{\"endlinecolor\":\"#2a3f5f\",\"gridcolor\":\"white\",\"linecolor\":\"white\",\"minorgridcolor\":\"white\",\"startlinecolor\":\"#2a3f5f\"},\"baxis\":{\"endlinecolor\":\"#2a3f5f\",\"gridcolor\":\"white\",\"linecolor\":\"white\",\"minorgridcolor\":\"white\",\"startlinecolor\":\"#2a3f5f\"},\"type\":\"carpet\"}],\"choropleth\":[{\"colorbar\":{\"outlinewidth\":0,\"ticks\":\"\"},\"type\":\"choropleth\"}],\"contour\":[{\"colorbar\":{\"outlinewidth\":0,\"ticks\":\"\"},\"colorscale\":[[0.0,\"#0d0887\"],[0.1111111111111111,\"#46039f\"],[0.2222222222222222,\"#7201a8\"],[0.3333333333333333,\"#9c179e\"],[0.4444444444444444,\"#bd3786\"],[0.5555555555555556,\"#d8576b\"],[0.6666666666666666,\"#ed7953\"],[0.7777777777777778,\"#fb9f3a\"],[0.8888888888888888,\"#fdca26\"],[1.0,\"#f0f921\"]],\"type\":\"contour\"}],\"contourcarpet\":[{\"colorbar\":{\"outlinewidth\":0,\"ticks\":\"\"},\"type\":\"contourcarpet\"}],\"heatmap\":[{\"colorbar\":{\"outlinewidth\":0,\"ticks\":\"\"},\"colorscale\":[[0.0,\"#0d0887\"],[0.1111111111111111,\"#46039f\"],[0.2222222222222222,\"#7201a8\"],[0.3333333333333333,\"#9c179e\"],[0.4444444444444444,\"#bd3786\"],[0.5555555555555556,\"#d8576b\"],[0.6666666666666666,\"#ed7953\"],[0.7777777777777778,\"#fb9f3a\"],[0.8888888888888888,\"#fdca26\"],[1.0,\"#f0f921\"]],\"type\":\"heatmap\"}],\"heatmapgl\":[{\"colorbar\":{\"outlinewidth\":0,\"ticks\":\"\"},\"colorscale\":[[0.0,\"#0d0887\"],[0.1111111111111111,\"#46039f\"],[0.2222222222222222,\"#7201a8\"],[0.3333333333333333,\"#9c179e\"],[0.4444444444444444,\"#bd3786\"],[0.5555555555555556,\"#d8576b\"],[0.6666666666666666,\"#ed7953\"],[0.7777777777777778,\"#fb9f3a\"],[0.8888888888888888,\"#fdca26\"],[1.0,\"#f0f921\"]],\"type\":\"heatmapgl\"}],\"histogram\":[{\"marker\":{\"pattern\":{\"fillmode\":\"overlay\",\"size\":10,\"solidity\":0.2}},\"type\":\"histogram\"}],\"histogram2d\":[{\"colorbar\":{\"outlinewidth\":0,\"ticks\":\"\"},\"colorscale\":[[0.0,\"#0d0887\"],[0.1111111111111111,\"#46039f\"],[0.2222222222222222,\"#7201a8\"],[0.3333333333333333,\"#9c179e\"],[0.4444444444444444,\"#bd3786\"],[0.5555555555555556,\"#d8576b\"],[0.6666666666666666,\"#ed7953\"],[0.7777777777777778,\"#fb9f3a\"],[0.8888888888888888,\"#fdca26\"],[1.0,\"#f0f921\"]],\"type\":\"histogram2d\"}],\"histogram2dcontour\":[{\"colorbar\":{\"outlinewidth\":0,\"ticks\":\"\"},\"colorscale\":[[0.0,\"#0d0887\"],[0.1111111111111111,\"#46039f\"],[0.2222222222222222,\"#7201a8\"],[0.3333333333333333,\"#9c179e\"],[0.4444444444444444,\"#bd3786\"],[0.5555555555555556,\"#d8576b\"],[0.6666666666666666,\"#ed7953\"],[0.7777777777777778,\"#fb9f3a\"],[0.8888888888888888,\"#fdca26\"],[1.0,\"#f0f921\"]],\"type\":\"histogram2dcontour\"}],\"mesh3d\":[{\"colorbar\":{\"outlinewidth\":0,\"ticks\":\"\"},\"type\":\"mesh3d\"}],\"parcoords\":[{\"line\":{\"colorbar\":{\"outlinewidth\":0,\"ticks\":\"\"}},\"type\":\"parcoords\"}],\"pie\":[{\"automargin\":true,\"type\":\"pie\"}],\"scatter\":[{\"marker\":{\"colorbar\":{\"outlinewidth\":0,\"ticks\":\"\"}},\"type\":\"scatter\"}],\"scatter3d\":[{\"line\":{\"colorbar\":{\"outlinewidth\":0,\"ticks\":\"\"}},\"marker\":{\"colorbar\":{\"outlinewidth\":0,\"ticks\":\"\"}},\"type\":\"scatter3d\"}],\"scattercarpet\":[{\"marker\":{\"colorbar\":{\"outlinewidth\":0,\"ticks\":\"\"}},\"type\":\"scattercarpet\"}],\"scattergeo\":[{\"marker\":{\"colorbar\":{\"outlinewidth\":0,\"ticks\":\"\"}},\"type\":\"scattergeo\"}],\"scattergl\":[{\"marker\":{\"colorbar\":{\"outlinewidth\":0,\"ticks\":\"\"}},\"type\":\"scattergl\"}],\"scattermapbox\":[{\"marker\":{\"colorbar\":{\"outlinewidth\":0,\"ticks\":\"\"}},\"type\":\"scattermapbox\"}],\"scatterpolar\":[{\"marker\":{\"colorbar\":{\"outlinewidth\":0,\"ticks\":\"\"}},\"type\":\"scatterpolar\"}],\"scatterpolargl\":[{\"marker\":{\"colorbar\":{\"outlinewidth\":0,\"ticks\":\"\"}},\"type\":\"scatterpolargl\"}],\"scatterternary\":[{\"marker\":{\"colorbar\":{\"outlinewidth\":0,\"ticks\":\"\"}},\"type\":\"scatterternary\"}],\"surface\":[{\"colorbar\":{\"outlinewidth\":0,\"ticks\":\"\"},\"colorscale\":[[0.0,\"#0d0887\"],[0.1111111111111111,\"#46039f\"],[0.2222222222222222,\"#7201a8\"],[0.3333333333333333,\"#9c179e\"],[0.4444444444444444,\"#bd3786\"],[0.5555555555555556,\"#d8576b\"],[0.6666666666666666,\"#ed7953\"],[0.7777777777777778,\"#fb9f3a\"],[0.8888888888888888,\"#fdca26\"],[1.0,\"#f0f921\"]],\"type\":\"surface\"}],\"table\":[{\"cells\":{\"fill\":{\"color\":\"#EBF0F8\"},\"line\":{\"color\":\"white\"}},\"header\":{\"fill\":{\"color\":\"#C8D4E3\"},\"line\":{\"color\":\"white\"}},\"type\":\"table\"}],\"indicator\":[{\"delta\":{\"reference\":90},\"mode\":\"number+gauge\",\"number\":{\"suffix\":\"%\"},\"type\":\"indicator\"}]},\"layout\":{\"annotationdefaults\":{\"arrowcolor\":\"#2a3f5f\",\"arrowhead\":0,\"arrowwidth\":1},\"autotypenumbers\":\"strict\",\"coloraxis\":{\"colorbar\":{\"outlinewidth\":0,\"ticks\":\"\"}},\"colorscale\":{\"diverging\":[[0,\"#8e0152\"],[0.1,\"#c51b7d\"],[0.2,\"#de77ae\"],[0.3,\"#f1b6da\"],[0.4,\"#fde0ef\"],[0.5,\"#f7f7f7\"],[0.6,\"#e6f5d0\"],[0.7,\"#b8e186\"],[0.8,\"#7fbc41\"],[0.9,\"#4d9221\"],[1,\"#276419\"]],\"sequential\":[[0.0,\"#0d0887\"],[0.1111111111111111,\"#46039f\"],[0.2222222222222222,\"#7201a8\"],[0.3333333333333333,\"#9c179e\"],[0.4444444444444444,\"#bd3786\"],[0.5555555555555556,\"#d8576b\"],[0.6666666666666666,\"#ed7953\"],[0.7777777777777778,\"#fb9f3a\"],[0.8888888888888888,\"#fdca26\"],[1.0,\"#f0f921\"]],\"sequentialminus\":[[0.0,\"#0d0887\"],[0.1111111111111111,\"#46039f\"],[0.2222222222222222,\"#7201a8\"],[0.3333333333333333,\"#9c179e\"],[0.4444444444444444,\"#bd3786\"],[0.5555555555555556,\"#d8576b\"],[0.6666666666666666,\"#ed7953\"],[0.7777777777777778,\"#fb9f3a\"],[0.8888888888888888,\"#fdca26\"],[1.0,\"#f0f921\"]]},\"colorway\":[\"#636efa\",\"#EF553B\",\"#00cc96\",\"#ab63fa\",\"#FFA15A\",\"#19d3f3\",\"#FF6692\",\"#B6E880\",\"#FF97FF\",\"#FECB52\"],\"font\":{\"color\":\"#2a3f5f\"},\"geo\":{\"bgcolor\":\"white\",\"lakecolor\":\"white\",\"landcolor\":\"#E5ECF6\",\"showlakes\":true,\"showland\":true,\"subunitcolor\":\"white\"},\"hoverlabel\":{\"align\":\"left\"},\"hovermode\":\"closest\",\"mapbox\":{\"style\":\"light\"},\"paper_bgcolor\":\"white\",\"plot_bgcolor\":\"#E5ECF6\",\"polar\":{\"angularaxis\":{\"gridcolor\":\"white\",\"linecolor\":\"white\",\"ticks\":\"\"},\"bgcolor\":\"#E5ECF6\",\"radialaxis\":{\"gridcolor\":\"white\",\"linecolor\":\"white\",\"ticks\":\"\"}},\"scene\":{\"xaxis\":{\"backgroundcolor\":\"#E5ECF6\",\"gridcolor\":\"white\",\"gridwidth\":2,\"linecolor\":\"white\",\"showbackground\":true,\"ticks\":\"\",\"zerolinecolor\":\"white\"},\"yaxis\":{\"backgroundcolor\":\"#E5ECF6\",\"gridcolor\":\"white\",\"gridwidth\":2,\"linecolor\":\"white\",\"showbackground\":true,\"ticks\":\"\",\"zerolinecolor\":\"white\"},\"zaxis\":{\"backgroundcolor\":\"#E5ECF6\",\"gridcolor\":\"white\",\"gridwidth\":2,\"linecolor\":\"white\",\"showbackground\":true,\"ticks\":\"\",\"zerolinecolor\":\"white\"}},\"shapedefaults\":{\"line\":{\"color\":\"#2a3f5f\"}},\"ternary\":{\"aaxis\":{\"gridcolor\":\"white\",\"linecolor\":\"white\",\"ticks\":\"\"},\"baxis\":{\"gridcolor\":\"white\",\"linecolor\":\"white\",\"ticks\":\"\"},\"bgcolor\":\"#E5ECF6\",\"caxis\":{\"gridcolor\":\"white\",\"linecolor\":\"white\",\"ticks\":\"\"}},\"title\":{\"x\":0.05},\"xaxis\":{\"automargin\":true,\"gridcolor\":\"white\",\"linecolor\":\"white\",\"ticks\":\"\",\"title\":{\"standoff\":15},\"zerolinecolor\":\"white\",\"zerolinewidth\":2},\"yaxis\":{\"automargin\":true,\"gridcolor\":\"white\",\"linecolor\":\"white\",\"ticks\":\"\",\"title\":{\"standoff\":15},\"zerolinecolor\":\"white\",\"zerolinewidth\":2}}},\"grid\":{\"rows\":2,\"columns\":2,\"pattern\":\"independent\"},\"title\":{\"text\":\"Doubler le nombre de maisons de sant\\u00e9 et de centres de sant\\u00e9 dans les territoires\",\"xanchor\":\"left\"}},                        {\"responsive\": true}                    ).then(function(){\n",
              "                            \n",
              "var gd = document.getElementById('e51a268d-533c-4dd3-9c25-e014ec3b6d55');\n",
              "var x = new MutationObserver(function (mutations, observer) {{\n",
              "        var display = window.getComputedStyle(gd).display;\n",
              "        if (!display || display === 'none') {{\n",
              "            console.log([gd, 'removed!']);\n",
              "            Plotly.purge(gd);\n",
              "            observer.disconnect();\n",
              "        }}\n",
              "}});\n",
              "\n",
              "// Listen for the removal of the full notebook cells\n",
              "var notebookContainer = gd.closest('#notebook-container');\n",
              "if (notebookContainer) {{\n",
              "    x.observe(notebookContainer, {childList: true});\n",
              "}}\n",
              "\n",
              "// Listen for the clearing of the current output cell\n",
              "var outputEl = gd.closest('.output');\n",
              "if (outputEl) {{\n",
              "    x.observe(outputEl, {childList: true});\n",
              "}}\n",
              "\n",
              "                        })                };                            </script>        </div>\n",
              "</body>\n",
              "</html>"
            ]
          },
          "metadata": {}
        }
      ]
    },
    {
      "cell_type": "code",
      "source": [
        "fig = go.Figure(data=[\n",
        "    go.Bar(name='Maisons de santé', x=dates_a, y=values_a),\n",
        "    go.Bar(name='Centres de santé', x=dates_b, y=values_b)\n",
        "])\n",
        "\n",
        "fig.update_layout(barmode='stack',\n",
        "    title=\"Nombre de maisons et centres de santé\",\n",
        "    font=dict(\n",
        "        size=18,\n",
        "        color=\"RebeccaPurple\"\n",
        "    )\n",
        ")\n",
        "fig.update_xaxes(range=[2016,2022])\n",
        "\n",
        "fig.show()"
      ],
      "metadata": {
        "id": "stCroxXTf6s-"
      },
      "execution_count": null,
      "outputs": []
    },
    {
      "cell_type": "markdown",
      "source": [
        "## Répartition"
      ],
      "metadata": {
        "id": "0Z8Qv25nvrzM"
      }
    },
    {
      "cell_type": "code",
      "source": [
        "detail_2_a = detail_2[detail_2.unite == 'maisons de santé']\n",
        "detail_2_b = detail_2[detail_2.unite == 'centres de santé']"
      ],
      "metadata": {
        "id": "FQOg3B4G2lAz"
      },
      "execution_count": null,
      "outputs": []
    },
    {
      "cell_type": "code",
      "source": [
        "df_2_a = df_2[df_2.unite == 'maisons de santé']\n",
        "df_2_b = df_2[df_2.unite == 'centres de santé']"
      ],
      "metadata": {
        "id": "p2l5ThOj5aji"
      },
      "execution_count": null,
      "outputs": []
    },
    {
      "cell_type": "code",
      "source": [
        "fig4, ax = plt.subplots(figsize = (25,8))\n",
        "\n",
        "\n",
        "ax1 = plt.subplot(121)\n",
        "ax1 = sns.scatterplot(data = detail_2_a, x = \"date\", y = \"valeur\",color = 'indianred', alpha = 0.5) # alpha permet de donner de l'opacité en fonction de la densité (beaucoup de données équivalentes ou pas)\n",
        "ax1 = sns.lineplot(data = pd.DataFrame(detail_2_a.groupby(by='date').valeur.agg('mean')), x = 'date', y = 'valeur' )\n",
        "ax1.set_title(\"Evolution du nombre de maisons de santé\")               \n",
        "\n",
        "ax2 = plt.subplot(122)\n",
        "ax2 = sns.scatterplot(data = detail_2_b, x = \"date\", y = \"valeur\", color = 'royalblue',alpha = 0.5)\n",
        "ax2 = sns.lineplot(data = pd.DataFrame(detail_2_b.groupby(by='date').valeur.agg('mean')), x = 'date', y = 'valeur' )\n",
        "ax2.set_title(\"Evolution du nombre de centres de santé\") \n",
        "\n",
        "\n",
        "fig4.show()"
      ],
      "metadata": {
        "colab": {
          "base_uri": "https://localhost:8080/",
          "height": 513
        },
        "id": "9ZSqUQnRvhQU",
        "outputId": "22c4126e-122a-433a-d7ed-68cbbec500ac"
      },
      "execution_count": null,
      "outputs": [
        {
          "output_type": "display_data",
          "data": {
            "image/png": "[encoded data removed]",
            "text/plain": [
              "<Figure size 1800x576 with 2 Axes>"
            ]
          },
          "metadata": {
            "needs_background": "light"
          }
        }
      ]
    },
    {
      "cell_type": "code",
      "source": [
        "# # je compare la moyenne de du taux de progression :\n",
        "moy=df_a.pourcentage_progression_derniere_maj.mean()\n",
        "print('en moyenne, quelle est le taux de progression', moy)"
      ],
      "metadata": {
        "colab": {
          "base_uri": "https://localhost:8080/"
        },
        "outputId": "98f36ac3-321b-4655-9da9-d72b560116cb",
        "id": "MXv-PrUtvNmN"
      },
      "execution_count": null,
      "outputs": [
        {
          "output_type": "stream",
          "name": "stdout",
          "text": [
            "en moyenne, quelle est le taux de progression 13.0\n"
          ]
        }
      ]
    },
    {
      "cell_type": "markdown",
      "source": [
        "## Taux d'avancement"
      ],
      "metadata": {
        "id": "Yvrywdaz4TRS"
      }
    },
    {
      "cell_type": "code",
      "source": [
        "fig4, ax = plt.subplots(figsize = (30,10))\n",
        "\n",
        "ax1 = plt.subplot(131)\n",
        "ax1 = sns.scatterplot(data = df_2, x = \"valeur_actuelle\", y = \"cible\",palette = 'magma', hue = 'unite')\n",
        "ax1.set_title(\"Nombre actuel de maisons de santé et centres de santé\")\n",
        "\n",
        "ax2 = plt.subplot(132)\n",
        "ax2 = sns.scatterplot(data = df_2, x = \"progression_derniere_maj\", y = \"cible\",palette = 'magma', hue = 'unite')\n",
        "ax2.set_title(\"Nombre de maisons de santé et centres de santé en 2020\")\n",
        "\n",
        "ax3 = plt.subplot(133)\n",
        "ax3 = sns.scatterplot(data = df_2, x = \"valeur_initiale\", y = \"cible\",palette = 'magma', hue = 'unite')\n",
        "ax3.set_title(\"Nombre de maisons de santé et centres de santé en 2017\")\n",
        "\n",
        "fig4.show()"
      ],
      "metadata": {
        "colab": {
          "base_uri": "https://localhost:8080/",
          "height": 613
        },
        "id": "S1lSE9NI4Vpk",
        "outputId": "4c86b75c-71ff-4463-e7d9-b056bd52f9b5"
      },
      "execution_count": null,
      "outputs": [
        {
          "output_type": "display_data",
          "data": {
            "image/png": "[encoded data removed]",
            "text/plain": [
              "<Figure size 2160x720 with 3 Axes>"
            ]
          },
          "metadata": {
            "needs_background": "light"
          }
        }
      ]
    },
    {
      "cell_type": "markdown",
      "source": [
        "On voit nettement qu'entre 2017 et 2021 (et entre 2020 et 2021 pour les maisons de santé), le nuage forme d'avantage une ligne. Ce qui montre bien une certaine unité des départements à converger vers leur cible. Avec beaucoup moins dde département très éloignés de la cible."
      ],
      "metadata": {
        "id": "FZw82mE683SL"
      }
    },
    {
      "cell_type": "markdown",
      "source": [
        "## export csv"
      ],
      "metadata": {
        "id": "BNmXE-RKv9Pq"
      }
    },
    {
      "cell_type": "code",
      "source": [
        "detail_2.to_csv('sante-detail.csv', index = False)"
      ],
      "metadata": {
        "id": "PipITbNrHwOg"
      },
      "execution_count": null,
      "outputs": []
    },
    {
      "cell_type": "code",
      "source": [
        "df_2.to_csv('sante.csv', index = False)"
      ],
      "metadata": {
        "id": "6RKJHs5FKZPe"
      },
      "execution_count": null,
      "outputs": []
    },
    {
      "cell_type": "code",
      "source": [
        "df_2.to_excel('velo.xlsx')"
      ],
      "metadata": {
        "id": "L9SiBIEaKAHC"
      },
      "execution_count": null,
      "outputs": []
    },
    {
      "cell_type": "markdown",
      "source": [
        "# Déployer le plan vélo (indicateur : nombre de kilomètres d’aménagements cyclables sécurisés)"
      ],
      "metadata": {
        "id": "u5yNnKdmJgJA"
      }
    },
    {
      "cell_type": "code",
      "source": [
        "df_3 = df[df['mesure']== 'Déployer le plan vélo'].reset_index(drop = True)\n",
        "df_3"
      ],
      "metadata": {
        "colab": {
          "base_uri": "https://localhost:8080/",
          "height": 1000
        },
        "outputId": "f20912b2-8685-47bb-fde0-a4a0469772e8",
        "id": "HrKv7qOrJgJA"
      },
      "execution_count": null,
      "outputs": [
        {
          "output_type": "execute_result",
          "data": {
            "text/html": [
              "\n",
              "  <div id=\"df-4e490ee1-1872-40c4-9977-5a02e4c434b1\">\n",
              "    <div class=\"colab-df-container\">\n",
              "      <div>\n",
              "<style scoped>\n",
              "    .dataframe tbody tr th:only-of-type {\n",
              "        vertical-align: middle;\n",
              "    }\n",
              "\n",
              "    .dataframe tbody tr th {\n",
              "        vertical-align: top;\n",
              "    }\n",
              "\n",
              "    .dataframe thead th {\n",
              "        text-align: right;\n",
              "    }\n",
              "</style>\n",
              "<table border=\"1\" class=\"dataframe\">\n",
              "  <thead>\n",
              "    <tr style=\"text-align: right;\">\n",
              "      <th></th>\n",
              "      <th>mesure</th>\n",
              "      <th>indicateur</th>\n",
              "      <th>id_indicateur</th>\n",
              "      <th>code_departement</th>\n",
              "      <th>libelle_departement</th>\n",
              "      <th>valeur_actuelle</th>\n",
              "      <th>date_valeur_actuelle</th>\n",
              "      <th>valeur_initiale</th>\n",
              "      <th>date_valeur_initiale</th>\n",
              "      <th>progression</th>\n",
              "      <th>pourcentage_progression</th>\n",
              "      <th>progression_derniere_maj</th>\n",
              "      <th>pourcentage_progression_derniere_maj</th>\n",
              "      <th>progression_derniere_maj_date</th>\n",
              "      <th>cible</th>\n",
              "      <th>pourcentage_cible</th>\n",
              "      <th>date_cible</th>\n",
              "      <th>unite</th>\n",
              "    </tr>\n",
              "  </thead>\n",
              "  <tbody>\n",
              "    <tr>\n",
              "      <th>0</th>\n",
              "      <td>Déployer le plan vélo</td>\n",
              "      <td>Kilomètres d'aménagements cyclables sécurisés</td>\n",
              "      <td>km-amenagement-cyclables-securises</td>\n",
              "      <td>01</td>\n",
              "      <td>Ain</td>\n",
              "      <td>410.0</td>\n",
              "      <td>2021-09-30</td>\n",
              "      <td>269.0</td>\n",
              "      <td>2017-12-31</td>\n",
              "      <td>141.0</td>\n",
              "      <td>52.0</td>\n",
              "      <td>380.0</td>\n",
              "      <td>8.0</td>\n",
              "      <td>2020-09-30</td>\n",
              "      <td>410.0</td>\n",
              "      <td>100.0</td>\n",
              "      <td>2022-03-31</td>\n",
              "      <td>kilomètres</td>\n",
              "    </tr>\n",
              "    <tr>\n",
              "      <th>1</th>\n",
              "      <td>Déployer le plan vélo</td>\n",
              "      <td>Kilomètres d'aménagements cyclables sécurisés</td>\n",
              "      <td>km-amenagement-cyclables-securises</td>\n",
              "      <td>02</td>\n",
              "      <td>Aisne</td>\n",
              "      <td>303.0</td>\n",
              "      <td>2021-09-30</td>\n",
              "      <td>257.0</td>\n",
              "      <td>2017-12-31</td>\n",
              "      <td>46.0</td>\n",
              "      <td>18.0</td>\n",
              "      <td>299.0</td>\n",
              "      <td>1.0</td>\n",
              "      <td>2020-09-30</td>\n",
              "      <td>327.0</td>\n",
              "      <td>66.0</td>\n",
              "      <td>2022-03-31</td>\n",
              "      <td>kilomètres</td>\n",
              "    </tr>\n",
              "    <tr>\n",
              "      <th>2</th>\n",
              "      <td>Déployer le plan vélo</td>\n",
              "      <td>Kilomètres d'aménagements cyclables sécurisés</td>\n",
              "      <td>km-amenagement-cyclables-securises</td>\n",
              "      <td>03</td>\n",
              "      <td>Allier</td>\n",
              "      <td>282.0</td>\n",
              "      <td>2021-09-30</td>\n",
              "      <td>164.0</td>\n",
              "      <td>2017-12-31</td>\n",
              "      <td>118.0</td>\n",
              "      <td>72.0</td>\n",
              "      <td>246.0</td>\n",
              "      <td>15.0</td>\n",
              "      <td>2020-09-30</td>\n",
              "      <td>281.0</td>\n",
              "      <td>100.0</td>\n",
              "      <td>2022-03-31</td>\n",
              "      <td>kilomètres</td>\n",
              "    </tr>\n",
              "    <tr>\n",
              "      <th>3</th>\n",
              "      <td>Déployer le plan vélo</td>\n",
              "      <td>Kilomètres d'aménagements cyclables sécurisés</td>\n",
              "      <td>km-amenagement-cyclables-securises</td>\n",
              "      <td>04</td>\n",
              "      <td>Alpes-de-Haute-Provence</td>\n",
              "      <td>80.0</td>\n",
              "      <td>2021-09-30</td>\n",
              "      <td>55.0</td>\n",
              "      <td>2017-12-31</td>\n",
              "      <td>25.0</td>\n",
              "      <td>45.0</td>\n",
              "      <td>79.0</td>\n",
              "      <td>1.0</td>\n",
              "      <td>2020-09-30</td>\n",
              "      <td>84.0</td>\n",
              "      <td>86.0</td>\n",
              "      <td>2022-03-31</td>\n",
              "      <td>kilomètres</td>\n",
              "    </tr>\n",
              "    <tr>\n",
              "      <th>4</th>\n",
              "      <td>Déployer le plan vélo</td>\n",
              "      <td>Kilomètres d'aménagements cyclables sécurisés</td>\n",
              "      <td>km-amenagement-cyclables-securises</td>\n",
              "      <td>05</td>\n",
              "      <td>Hautes-Alpes</td>\n",
              "      <td>50.0</td>\n",
              "      <td>2021-09-30</td>\n",
              "      <td>37.0</td>\n",
              "      <td>2017-12-31</td>\n",
              "      <td>13.0</td>\n",
              "      <td>35.0</td>\n",
              "      <td>40.0</td>\n",
              "      <td>25.0</td>\n",
              "      <td>2020-09-30</td>\n",
              "      <td>45.0</td>\n",
              "      <td>100.0</td>\n",
              "      <td>2022-03-31</td>\n",
              "      <td>kilomètres</td>\n",
              "    </tr>\n",
              "    <tr>\n",
              "      <th>...</th>\n",
              "      <td>...</td>\n",
              "      <td>...</td>\n",
              "      <td>...</td>\n",
              "      <td>...</td>\n",
              "      <td>...</td>\n",
              "      <td>...</td>\n",
              "      <td>...</td>\n",
              "      <td>...</td>\n",
              "      <td>...</td>\n",
              "      <td>...</td>\n",
              "      <td>...</td>\n",
              "      <td>...</td>\n",
              "      <td>...</td>\n",
              "      <td>...</td>\n",
              "      <td>...</td>\n",
              "      <td>...</td>\n",
              "      <td>...</td>\n",
              "      <td>...</td>\n",
              "    </tr>\n",
              "    <tr>\n",
              "      <th>96</th>\n",
              "      <td>Déployer le plan vélo</td>\n",
              "      <td>Kilomètres d'aménagements cyclables sécurisés</td>\n",
              "      <td>km-amenagement-cyclables-securises</td>\n",
              "      <td>971</td>\n",
              "      <td>Guadeloupe</td>\n",
              "      <td>4.0</td>\n",
              "      <td>2021-09-30</td>\n",
              "      <td>0.0</td>\n",
              "      <td>2017-12-31</td>\n",
              "      <td>4.0</td>\n",
              "      <td>NaN</td>\n",
              "      <td>2.0</td>\n",
              "      <td>100.0</td>\n",
              "      <td>2020-09-30</td>\n",
              "      <td>75.0</td>\n",
              "      <td>5.0</td>\n",
              "      <td>2022-03-31</td>\n",
              "      <td>kilomètres</td>\n",
              "    </tr>\n",
              "    <tr>\n",
              "      <th>97</th>\n",
              "      <td>Déployer le plan vélo</td>\n",
              "      <td>Kilomètres d'aménagements cyclables sécurisés</td>\n",
              "      <td>km-amenagement-cyclables-securises</td>\n",
              "      <td>972</td>\n",
              "      <td>Martinique</td>\n",
              "      <td>8.0</td>\n",
              "      <td>2021-09-30</td>\n",
              "      <td>7.0</td>\n",
              "      <td>2017-12-31</td>\n",
              "      <td>1.0</td>\n",
              "      <td>14.0</td>\n",
              "      <td>8.0</td>\n",
              "      <td>0.0</td>\n",
              "      <td>2020-09-30</td>\n",
              "      <td>71.0</td>\n",
              "      <td>2.0</td>\n",
              "      <td>2022-03-31</td>\n",
              "      <td>kilomètres</td>\n",
              "    </tr>\n",
              "    <tr>\n",
              "      <th>98</th>\n",
              "      <td>Déployer le plan vélo</td>\n",
              "      <td>Kilomètres d'aménagements cyclables sécurisés</td>\n",
              "      <td>km-amenagement-cyclables-securises</td>\n",
              "      <td>973</td>\n",
              "      <td>Guyane</td>\n",
              "      <td>76.0</td>\n",
              "      <td>2021-09-30</td>\n",
              "      <td>26.0</td>\n",
              "      <td>2017-12-31</td>\n",
              "      <td>50.0</td>\n",
              "      <td>192.0</td>\n",
              "      <td>65.0</td>\n",
              "      <td>17.0</td>\n",
              "      <td>2020-09-30</td>\n",
              "      <td>69.0</td>\n",
              "      <td>100.0</td>\n",
              "      <td>2022-03-31</td>\n",
              "      <td>kilomètres</td>\n",
              "    </tr>\n",
              "    <tr>\n",
              "      <th>99</th>\n",
              "      <td>Déployer le plan vélo</td>\n",
              "      <td>Kilomètres d'aménagements cyclables sécurisés</td>\n",
              "      <td>km-amenagement-cyclables-securises</td>\n",
              "      <td>974</td>\n",
              "      <td>La Réunion</td>\n",
              "      <td>388.0</td>\n",
              "      <td>2021-09-30</td>\n",
              "      <td>332.0</td>\n",
              "      <td>2017-12-31</td>\n",
              "      <td>56.0</td>\n",
              "      <td>17.0</td>\n",
              "      <td>386.0</td>\n",
              "      <td>1.0</td>\n",
              "      <td>2020-09-30</td>\n",
              "      <td>410.0</td>\n",
              "      <td>72.0</td>\n",
              "      <td>2022-03-31</td>\n",
              "      <td>kilomètres</td>\n",
              "    </tr>\n",
              "    <tr>\n",
              "      <th>100</th>\n",
              "      <td>Déployer le plan vélo</td>\n",
              "      <td>Kilomètres d'aménagements cyclables sécurisés</td>\n",
              "      <td>km-amenagement-cyclables-securises</td>\n",
              "      <td>976</td>\n",
              "      <td>Mayotte</td>\n",
              "      <td>12.0</td>\n",
              "      <td>2021-09-30</td>\n",
              "      <td>0.0</td>\n",
              "      <td>2017-12-31</td>\n",
              "      <td>12.0</td>\n",
              "      <td>NaN</td>\n",
              "      <td>NaN</td>\n",
              "      <td>NaN</td>\n",
              "      <td>NaN</td>\n",
              "      <td>58.0</td>\n",
              "      <td>21.0</td>\n",
              "      <td>2022-03-31</td>\n",
              "      <td>kilomètres</td>\n",
              "    </tr>\n",
              "  </tbody>\n",
              "</table>\n",
              "<p>101 rows × 18 columns</p>\n",
              "</div>\n",
              "      <button class=\"colab-df-convert\" onclick=\"convertToInteractive('df-4e490ee1-1872-40c4-9977-5a02e4c434b1')\"\n",
              "              title=\"Convert this dataframe to an interactive table.\"\n",
              "              style=\"display:none;\">\n",
              "        \n",
              "  <svg xmlns=\"http://www.w3.org/2000/svg\" height=\"24px\"viewBox=\"0 0 24 24\"\n",
              "       width=\"24px\">\n",
              "    <path d=\"M0 0h24v24H0V0z\" fill=\"none\"/>\n",
              "    <path d=\"M18.56 5.44l.94 2.06.94-2.06 2.06-.94-2.06-.94-.94-2.06-.94 2.06-2.06.94zm-11 1L8.5 8.5l.94-2.06 2.06-.94-2.06-.94L8.5 2.5l-.94 2.06-2.06.94zm10 10l.94 2.06.94-2.06 2.06-.94-2.06-.94-.94-2.06-.94 2.06-2.06.94z\"/><path d=\"M17.41 7.96l-1.37-1.37c-.4-.4-.92-.59-1.43-.59-.52 0-1.04.2-1.43.59L10.3 9.45l-7.72 7.72c-.78.78-.78 2.05 0 2.83L4 21.41c.39.39.9.59 1.41.59.51 0 1.02-.2 1.41-.59l7.78-7.78 2.81-2.81c.8-.78.8-2.07 0-2.86zM5.41 20L4 18.59l7.72-7.72 1.47 1.35L5.41 20z\"/>\n",
              "  </svg>\n",
              "      </button>\n",
              "      \n",
              "  <style>\n",
              "    .colab-df-container {\n",
              "      display:flex;\n",
              "      flex-wrap:wrap;\n",
              "      gap: 12px;\n",
              "    }\n",
              "\n",
              "    .colab-df-convert {\n",
              "      background-color: #E8F0FE;\n",
              "      border: none;\n",
              "      border-radius: 50%;\n",
              "      cursor: pointer;\n",
              "      display: none;\n",
              "      fill: #1967D2;\n",
              "      height: 32px;\n",
              "      padding: 0 0 0 0;\n",
              "      width: 32px;\n",
              "    }\n",
              "\n",
              "    .colab-df-convert:hover {\n",
              "      background-color: #E2EBFA;\n",
              "      box-shadow: 0px 1px 2px rgba(60, 64, 67, 0.3), 0px 1px 3px 1px rgba(60, 64, 67, 0.15);\n",
              "      fill: #174EA6;\n",
              "    }\n",
              "\n",
              "    [theme=dark] .colab-df-convert {\n",
              "      background-color: #3B4455;\n",
              "      fill: #D2E3FC;\n",
              "    }\n",
              "\n",
              "    [theme=dark] .colab-df-convert:hover {\n",
              "      background-color: #434B5C;\n",
              "      box-shadow: 0px 1px 3px 1px rgba(0, 0, 0, 0.15);\n",
              "      filter: drop-shadow(0px 1px 2px rgba(0, 0, 0, 0.3));\n",
              "      fill: #FFFFFF;\n",
              "    }\n",
              "  </style>\n",
              "\n",
              "      <script>\n",
              "        const buttonEl =\n",
              "          document.querySelector('#df-4e490ee1-1872-40c4-9977-5a02e4c434b1 button.colab-df-convert');\n",
              "        buttonEl.style.display =\n",
              "          google.colab.kernel.accessAllowed ? 'block' : 'none';\n",
              "\n",
              "        async function convertToInteractive(key) {\n",
              "          const element = document.querySelector('#df-4e490ee1-1872-40c4-9977-5a02e4c434b1');\n",
              "          const dataTable =\n",
              "            await google.colab.kernel.invokeFunction('convertToInteractive',\n",
              "                                                     [key], {});\n",
              "          if (!dataTable) return;\n",
              "\n",
              "          const docLinkHtml = 'Like what you see? Visit the ' +\n",
              "            '<a target=\"_blank\" href=https://colab.research.google.com/notebooks/data_table.ipynb>data table notebook</a>'\n",
              "            + ' to learn more about interactive tables.';\n",
              "          element.innerHTML = '';\n",
              "          dataTable['output_type'] = 'display_data';\n",
              "          await google.colab.output.renderOutput(dataTable, element);\n",
              "          const docLink = document.createElement('div');\n",
              "          docLink.innerHTML = docLinkHtml;\n",
              "          element.appendChild(docLink);\n",
              "        }\n",
              "      </script>\n",
              "    </div>\n",
              "  </div>\n",
              "  "
            ],
            "text/plain": [
              "                    mesure  ...       unite\n",
              "0    Déployer le plan vélo  ...  kilomètres\n",
              "1    Déployer le plan vélo  ...  kilomètres\n",
              "2    Déployer le plan vélo  ...  kilomètres\n",
              "3    Déployer le plan vélo  ...  kilomètres\n",
              "4    Déployer le plan vélo  ...  kilomètres\n",
              "..                     ...  ...         ...\n",
              "96   Déployer le plan vélo  ...  kilomètres\n",
              "97   Déployer le plan vélo  ...  kilomètres\n",
              "98   Déployer le plan vélo  ...  kilomètres\n",
              "99   Déployer le plan vélo  ...  kilomètres\n",
              "100  Déployer le plan vélo  ...  kilomètres\n",
              "\n",
              "[101 rows x 18 columns]"
            ]
          },
          "metadata": {},
          "execution_count": 9
        }
      ]
    },
    {
      "cell_type": "code",
      "source": [
        "detail_3 = detail[detail['mesure']== 'Déployer le plan vélo'].reset_index(drop = True)\n",
        "detail_3"
      ],
      "metadata": {
        "id": "_mniWEaQJgJB"
      },
      "execution_count": null,
      "outputs": []
    },
    {
      "cell_type": "markdown",
      "source": [
        "## fill na, types"
      ],
      "metadata": {
        "id": "JkTt76Xm-KZR"
      }
    },
    {
      "cell_type": "code",
      "source": [
        "# Je vérifie les types de données des colonnes\n",
        "df_3.dtypes"
      ],
      "metadata": {
        "colab": {
          "base_uri": "https://localhost:8080/"
        },
        "outputId": "6617800f-4e37-4945-c15e-c8657354d51e",
        "id": "FOtLa3DXJgJC"
      },
      "execution_count": null,
      "outputs": [
        {
          "output_type": "execute_result",
          "data": {
            "text/plain": [
              "mesure                                   object\n",
              "indicateur                               object\n",
              "id_indicateur                            object\n",
              "code_departement                         object\n",
              "libelle_departement                      object\n",
              "valeur_actuelle                         float64\n",
              "date_valeur_actuelle                     object\n",
              "valeur_initiale                         float64\n",
              "date_valeur_initiale                     object\n",
              "progression                             float64\n",
              "pourcentage_progression                 float64\n",
              "progression_derniere_maj                float64\n",
              "pourcentage_progression_derniere_maj    float64\n",
              "progression_derniere_maj_date            object\n",
              "cible                                   float64\n",
              "pourcentage_cible                       float64\n",
              "date_cible                               object\n",
              "unite                                    object\n",
              "dtype: object"
            ]
          },
          "metadata": {},
          "execution_count": 354
        }
      ]
    },
    {
      "cell_type": "code",
      "source": [
        "# Je vérifie les types de données des colonnes\n",
        "detail_3.dtypes"
      ],
      "metadata": {
        "colab": {
          "base_uri": "https://localhost:8080/"
        },
        "outputId": "bda6ad83-807e-4e6f-f9ef-a0f9ccf77219",
        "id": "HEBYeaolJgJC"
      },
      "execution_count": null,
      "outputs": [
        {
          "output_type": "execute_result",
          "data": {
            "text/plain": [
              "mesure                         object\n",
              "indicateur                     object\n",
              "id_indicateur                  object\n",
              "code_departement               object\n",
              "libelle_departement            object\n",
              "date                   datetime64[ns]\n",
              "valeur                          int64\n",
              "unite                          object\n",
              "dtype: object"
            ]
          },
          "metadata": {},
          "execution_count": 355
        }
      ]
    },
    {
      "cell_type": "code",
      "source": [
        "df_3.isnull().sum()"
      ],
      "metadata": {
        "colab": {
          "base_uri": "https://localhost:8080/"
        },
        "id": "jemfE_j9J-Au",
        "outputId": "c1bbe870-d2e2-4490-b348-f4449be802be"
      },
      "execution_count": null,
      "outputs": [
        {
          "output_type": "execute_result",
          "data": {
            "text/plain": [
              "mesure                                  0\n",
              "indicateur                              0\n",
              "id_indicateur                           0\n",
              "code_departement                        0\n",
              "libelle_departement                     0\n",
              "valeur_actuelle                         0\n",
              "date_valeur_actuelle                    0\n",
              "valeur_initiale                         0\n",
              "date_valeur_initiale                    0\n",
              "progression                             0\n",
              "pourcentage_progression                 2\n",
              "progression_derniere_maj                1\n",
              "pourcentage_progression_derniere_maj    1\n",
              "progression_derniere_maj_date           1\n",
              "cible                                   0\n",
              "pourcentage_cible                       0\n",
              "date_cible                              0\n",
              "unite                                   0\n",
              "dtype: int64"
            ]
          },
          "metadata": {},
          "execution_count": 356
        }
      ]
    },
    {
      "cell_type": "code",
      "source": [
        "df_3.fillna(0, inplace = True)"
      ],
      "metadata": {
        "id": "rmuoosAGKRVb"
      },
      "execution_count": null,
      "outputs": []
    },
    {
      "cell_type": "code",
      "source": [
        "df_3['date_valeur_initiale'] = df_3['date_valeur_initiale'].apply(lambda x : datetime.strptime(str(x),'%Y-%m-%d') if x !=0 else 0)\n",
        "df_3['date_valeur_actuelle'] = df_3['date_valeur_actuelle'].apply(lambda x : datetime.strptime(str(x),'%Y-%m-%d')if x !=0 else 0)\n",
        "df_3['progression_derniere_maj_date'] = df_3['progression_derniere_maj_date'].apply(lambda x : datetime.strptime(str(x),'%Y-%m-%d')if x !=0 else 0)\n",
        "df_3['date_valeur_initiale'] = df_3['date_valeur_initiale'].apply(lambda x : x.year if x !=0 else 0)\n",
        "df_3['date_valeur_actuelle'] = df_3['date_valeur_actuelle'].apply(lambda x : x.year if x !=0 else 0)\n",
        "df_3['progression_derniere_maj_date'] = df_3['progression_derniere_maj_date'].apply(lambda x : x.year if x !=0 else 0)"
      ],
      "metadata": {
        "id": "bVEEC_HNLhfT"
      },
      "execution_count": null,
      "outputs": []
    },
    {
      "cell_type": "markdown",
      "source": [
        "## Indicateurs"
      ],
      "metadata": {
        "id": "tjjyLN-QKvx7"
      }
    },
    {
      "cell_type": "code",
      "source": [
        "n = input('Entrer le numéro du département :')\n",
        "\n",
        "df_velo = df_3[df_3['code_departement']==n].reset_index(drop = True)\n",
        "\n",
        "# Taux d'avancement\n",
        "value1 = int(df_velo['pourcentage_cible'])\n",
        "\n",
        "# progression 20/21\n",
        "value3 = int(df_velo['pourcentage_progression_derniere_maj'])\n",
        "\n",
        "# Nombre de km\n",
        "dates_a = [df_velo.loc[0,'date_valeur_initiale'], df_velo.loc[0,'date_valeur_actuelle'],df_velo.loc[0,'progression_derniere_maj_date']]\n",
        "\n",
        "values_a = [int(df_velo.loc[0,'valeur_initiale']), int(df_velo.loc[0,'valeur_actuelle']),int(df_velo.loc[0,'progression_derniere_maj'])]"
      ],
      "metadata": {
        "colab": {
          "base_uri": "https://localhost:8080/"
        },
        "id": "S5Jw3dk0LvsO",
        "outputId": "1bce18a6-802f-4dda-b48f-6993e5beaaff"
      },
      "execution_count": null,
      "outputs": [
        {
          "name": "stdout",
          "output_type": "stream",
          "text": [
            "Entrer le numéro du département :14\n"
          ]
        }
      ]
    },
    {
      "cell_type": "code",
      "source": [
        "import plotly.graph_objects as go\n",
        "\n",
        "fig = go.Figure()\n",
        "\n",
        "fig.add_trace(go.Indicator(\n",
        "    value = value1,\n",
        "    title = {'text': \"Taux d'avancement\"},\n",
        "    domain = {'row': 0, 'column': 0},\n",
        "    gauge_axis_range=[0,100]))\n",
        "\n",
        "fig.add_trace(go.Indicator(\n",
        "    value = value3,\n",
        "    title = {'text': \"Taux de progression 20/21 de l'aménagement cyclable sécurisé\"},\n",
        "    domain = {'row': 0, 'column': 1},\n",
        "    gauge_axis_range=[0,100]))\n",
        "\n",
        "fig.update_layout(\n",
        "    grid = {'rows': 1, 'columns': 2, 'pattern': \"independent\"},\n",
        "    title= {'text': \"Déployer le plan vélo\", 'xanchor':'left'},\n",
        "    template = {'data' : {'indicator': [{\n",
        "                                'mode' : \"number+gauge\",\n",
        "                                'delta' : {'reference': 90},\n",
        "                                'number':{'suffix':'%'}}]},\n",
        "                                })\n",
        "fig.show()"
      ],
      "metadata": {
        "colab": {
          "base_uri": "https://localhost:8080/",
          "height": 542
        },
        "id": "at10158YMlKL",
        "outputId": "6d040ce0-8e38-4881-f9ef-c200d03c6f04"
      },
      "execution_count": null,
      "outputs": [
        {
          "output_type": "display_data",
          "data": {
            "text/html": [
              "<html>\n",
              "<head><meta charset=\"utf-8\" /></head>\n",
              "<body>\n",
              "    <div>            <script src=\"https://cdnjs.cloudflare.com/ajax/libs/mathjax/2.7.5/MathJax.js?config=TeX-AMS-MML_SVG\"></script><script type=\"text/javascript\">if (window.MathJax) {MathJax.Hub.Config({SVG: {font: \"STIX-Web\"}});}</script>                <script type=\"text/javascript\">window.PlotlyConfig = {MathJaxConfig: 'local'};</script>\n",
              "        <script src=\"https://cdn.plot.ly/plotly-2.8.3.min.js\"></script>                <div id=\"74dd4fab-1a04-43a1-a645-6151a6726f4d\" class=\"plotly-graph-div\" style=\"height:525px; width:100%;\"></div>            <script type=\"text/javascript\">                                    window.PLOTLYENV=window.PLOTLYENV || {};                                    if (document.getElementById(\"74dd4fab-1a04-43a1-a645-6151a6726f4d\")) {                    Plotly.newPlot(                        \"74dd4fab-1a04-43a1-a645-6151a6726f4d\",                        [{\"domain\":{\"column\":0,\"row\":0},\"gauge\":{\"axis\":{\"range\":[0,100]}},\"title\":{\"text\":\"Taux d'avancement\"},\"value\":88,\"type\":\"indicator\"},{\"domain\":{\"column\":1,\"row\":0},\"gauge\":{\"axis\":{\"range\":[0,100]}},\"title\":{\"text\":\"Taux de progression 20/21 de l'am\\u00e9nagement cyclable s\\u00e9curis\\u00e9\"},\"value\":5,\"type\":\"indicator\"}],                        {\"template\":{\"data\":{\"bar\":[{\"error_x\":{\"color\":\"#2a3f5f\"},\"error_y\":{\"color\":\"#2a3f5f\"},\"marker\":{\"line\":{\"color\":\"#E5ECF6\",\"width\":0.5},\"pattern\":{\"fillmode\":\"overlay\",\"size\":10,\"solidity\":0.2}},\"type\":\"bar\"}],\"barpolar\":[{\"marker\":{\"line\":{\"color\":\"#E5ECF6\",\"width\":0.5},\"pattern\":{\"fillmode\":\"overlay\",\"size\":10,\"solidity\":0.2}},\"type\":\"barpolar\"}],\"carpet\":[{\"aaxis\":{\"endlinecolor\":\"#2a3f5f\",\"gridcolor\":\"white\",\"linecolor\":\"white\",\"minorgridcolor\":\"white\",\"startlinecolor\":\"#2a3f5f\"},\"baxis\":{\"endlinecolor\":\"#2a3f5f\",\"gridcolor\":\"white\",\"linecolor\":\"white\",\"minorgridcolor\":\"white\",\"startlinecolor\":\"#2a3f5f\"},\"type\":\"carpet\"}],\"choropleth\":[{\"colorbar\":{\"outlinewidth\":0,\"ticks\":\"\"},\"type\":\"choropleth\"}],\"contour\":[{\"colorbar\":{\"outlinewidth\":0,\"ticks\":\"\"},\"colorscale\":[[0.0,\"#0d0887\"],[0.1111111111111111,\"#46039f\"],[0.2222222222222222,\"#7201a8\"],[0.3333333333333333,\"#9c179e\"],[0.4444444444444444,\"#bd3786\"],[0.5555555555555556,\"#d8576b\"],[0.6666666666666666,\"#ed7953\"],[0.7777777777777778,\"#fb9f3a\"],[0.8888888888888888,\"#fdca26\"],[1.0,\"#f0f921\"]],\"type\":\"contour\"}],\"contourcarpet\":[{\"colorbar\":{\"outlinewidth\":0,\"ticks\":\"\"},\"type\":\"contourcarpet\"}],\"heatmap\":[{\"colorbar\":{\"outlinewidth\":0,\"ticks\":\"\"},\"colorscale\":[[0.0,\"#0d0887\"],[0.1111111111111111,\"#46039f\"],[0.2222222222222222,\"#7201a8\"],[0.3333333333333333,\"#9c179e\"],[0.4444444444444444,\"#bd3786\"],[0.5555555555555556,\"#d8576b\"],[0.6666666666666666,\"#ed7953\"],[0.7777777777777778,\"#fb9f3a\"],[0.8888888888888888,\"#fdca26\"],[1.0,\"#f0f921\"]],\"type\":\"heatmap\"}],\"heatmapgl\":[{\"colorbar\":{\"outlinewidth\":0,\"ticks\":\"\"},\"colorscale\":[[0.0,\"#0d0887\"],[0.1111111111111111,\"#46039f\"],[0.2222222222222222,\"#7201a8\"],[0.3333333333333333,\"#9c179e\"],[0.4444444444444444,\"#bd3786\"],[0.5555555555555556,\"#d8576b\"],[0.6666666666666666,\"#ed7953\"],[0.7777777777777778,\"#fb9f3a\"],[0.8888888888888888,\"#fdca26\"],[1.0,\"#f0f921\"]],\"type\":\"heatmapgl\"}],\"histogram\":[{\"marker\":{\"pattern\":{\"fillmode\":\"overlay\",\"size\":10,\"solidity\":0.2}},\"type\":\"histogram\"}],\"histogram2d\":[{\"colorbar\":{\"outlinewidth\":0,\"ticks\":\"\"},\"colorscale\":[[0.0,\"#0d0887\"],[0.1111111111111111,\"#46039f\"],[0.2222222222222222,\"#7201a8\"],[0.3333333333333333,\"#9c179e\"],[0.4444444444444444,\"#bd3786\"],[0.5555555555555556,\"#d8576b\"],[0.6666666666666666,\"#ed7953\"],[0.7777777777777778,\"#fb9f3a\"],[0.8888888888888888,\"#fdca26\"],[1.0,\"#f0f921\"]],\"type\":\"histogram2d\"}],\"histogram2dcontour\":[{\"colorbar\":{\"outlinewidth\":0,\"ticks\":\"\"},\"colorscale\":[[0.0,\"#0d0887\"],[0.1111111111111111,\"#46039f\"],[0.2222222222222222,\"#7201a8\"],[0.3333333333333333,\"#9c179e\"],[0.4444444444444444,\"#bd3786\"],[0.5555555555555556,\"#d8576b\"],[0.6666666666666666,\"#ed7953\"],[0.7777777777777778,\"#fb9f3a\"],[0.8888888888888888,\"#fdca26\"],[1.0,\"#f0f921\"]],\"type\":\"histogram2dcontour\"}],\"mesh3d\":[{\"colorbar\":{\"outlinewidth\":0,\"ticks\":\"\"},\"type\":\"mesh3d\"}],\"parcoords\":[{\"line\":{\"colorbar\":{\"outlinewidth\":0,\"ticks\":\"\"}},\"type\":\"parcoords\"}],\"pie\":[{\"automargin\":true,\"type\":\"pie\"}],\"scatter\":[{\"marker\":{\"colorbar\":{\"outlinewidth\":0,\"ticks\":\"\"}},\"type\":\"scatter\"}],\"scatter3d\":[{\"line\":{\"colorbar\":{\"outlinewidth\":0,\"ticks\":\"\"}},\"marker\":{\"colorbar\":{\"outlinewidth\":0,\"ticks\":\"\"}},\"type\":\"scatter3d\"}],\"scattercarpet\":[{\"marker\":{\"colorbar\":{\"outlinewidth\":0,\"ticks\":\"\"}},\"type\":\"scattercarpet\"}],\"scattergeo\":[{\"marker\":{\"colorbar\":{\"outlinewidth\":0,\"ticks\":\"\"}},\"type\":\"scattergeo\"}],\"scattergl\":[{\"marker\":{\"colorbar\":{\"outlinewidth\":0,\"ticks\":\"\"}},\"type\":\"scattergl\"}],\"scattermapbox\":[{\"marker\":{\"colorbar\":{\"outlinewidth\":0,\"ticks\":\"\"}},\"type\":\"scattermapbox\"}],\"scatterpolar\":[{\"marker\":{\"colorbar\":{\"outlinewidth\":0,\"ticks\":\"\"}},\"type\":\"scatterpolar\"}],\"scatterpolargl\":[{\"marker\":{\"colorbar\":{\"outlinewidth\":0,\"ticks\":\"\"}},\"type\":\"scatterpolargl\"}],\"scatterternary\":[{\"marker\":{\"colorbar\":{\"outlinewidth\":0,\"ticks\":\"\"}},\"type\":\"scatterternary\"}],\"surface\":[{\"colorbar\":{\"outlinewidth\":0,\"ticks\":\"\"},\"colorscale\":[[0.0,\"#0d0887\"],[0.1111111111111111,\"#46039f\"],[0.2222222222222222,\"#7201a8\"],[0.3333333333333333,\"#9c179e\"],[0.4444444444444444,\"#bd3786\"],[0.5555555555555556,\"#d8576b\"],[0.6666666666666666,\"#ed7953\"],[0.7777777777777778,\"#fb9f3a\"],[0.8888888888888888,\"#fdca26\"],[1.0,\"#f0f921\"]],\"type\":\"surface\"}],\"table\":[{\"cells\":{\"fill\":{\"color\":\"#EBF0F8\"},\"line\":{\"color\":\"white\"}},\"header\":{\"fill\":{\"color\":\"#C8D4E3\"},\"line\":{\"color\":\"white\"}},\"type\":\"table\"}],\"indicator\":[{\"delta\":{\"reference\":90},\"mode\":\"number+gauge\",\"number\":{\"suffix\":\"%\"},\"type\":\"indicator\"}]},\"layout\":{\"annotationdefaults\":{\"arrowcolor\":\"#2a3f5f\",\"arrowhead\":0,\"arrowwidth\":1},\"autotypenumbers\":\"strict\",\"coloraxis\":{\"colorbar\":{\"outlinewidth\":0,\"ticks\":\"\"}},\"colorscale\":{\"diverging\":[[0,\"#8e0152\"],[0.1,\"#c51b7d\"],[0.2,\"#de77ae\"],[0.3,\"#f1b6da\"],[0.4,\"#fde0ef\"],[0.5,\"#f7f7f7\"],[0.6,\"#e6f5d0\"],[0.7,\"#b8e186\"],[0.8,\"#7fbc41\"],[0.9,\"#4d9221\"],[1,\"#276419\"]],\"sequential\":[[0.0,\"#0d0887\"],[0.1111111111111111,\"#46039f\"],[0.2222222222222222,\"#7201a8\"],[0.3333333333333333,\"#9c179e\"],[0.4444444444444444,\"#bd3786\"],[0.5555555555555556,\"#d8576b\"],[0.6666666666666666,\"#ed7953\"],[0.7777777777777778,\"#fb9f3a\"],[0.8888888888888888,\"#fdca26\"],[1.0,\"#f0f921\"]],\"sequentialminus\":[[0.0,\"#0d0887\"],[0.1111111111111111,\"#46039f\"],[0.2222222222222222,\"#7201a8\"],[0.3333333333333333,\"#9c179e\"],[0.4444444444444444,\"#bd3786\"],[0.5555555555555556,\"#d8576b\"],[0.6666666666666666,\"#ed7953\"],[0.7777777777777778,\"#fb9f3a\"],[0.8888888888888888,\"#fdca26\"],[1.0,\"#f0f921\"]]},\"colorway\":[\"#636efa\",\"#EF553B\",\"#00cc96\",\"#ab63fa\",\"#FFA15A\",\"#19d3f3\",\"#FF6692\",\"#B6E880\",\"#FF97FF\",\"#FECB52\"],\"font\":{\"color\":\"#2a3f5f\"},\"geo\":{\"bgcolor\":\"white\",\"lakecolor\":\"white\",\"landcolor\":\"#E5ECF6\",\"showlakes\":true,\"showland\":true,\"subunitcolor\":\"white\"},\"hoverlabel\":{\"align\":\"left\"},\"hovermode\":\"closest\",\"mapbox\":{\"style\":\"light\"},\"paper_bgcolor\":\"white\",\"plot_bgcolor\":\"#E5ECF6\",\"polar\":{\"angularaxis\":{\"gridcolor\":\"white\",\"linecolor\":\"white\",\"ticks\":\"\"},\"bgcolor\":\"#E5ECF6\",\"radialaxis\":{\"gridcolor\":\"white\",\"linecolor\":\"white\",\"ticks\":\"\"}},\"scene\":{\"xaxis\":{\"backgroundcolor\":\"#E5ECF6\",\"gridcolor\":\"white\",\"gridwidth\":2,\"linecolor\":\"white\",\"showbackground\":true,\"ticks\":\"\",\"zerolinecolor\":\"white\"},\"yaxis\":{\"backgroundcolor\":\"#E5ECF6\",\"gridcolor\":\"white\",\"gridwidth\":2,\"linecolor\":\"white\",\"showbackground\":true,\"ticks\":\"\",\"zerolinecolor\":\"white\"},\"zaxis\":{\"backgroundcolor\":\"#E5ECF6\",\"gridcolor\":\"white\",\"gridwidth\":2,\"linecolor\":\"white\",\"showbackground\":true,\"ticks\":\"\",\"zerolinecolor\":\"white\"}},\"shapedefaults\":{\"line\":{\"color\":\"#2a3f5f\"}},\"ternary\":{\"aaxis\":{\"gridcolor\":\"white\",\"linecolor\":\"white\",\"ticks\":\"\"},\"baxis\":{\"gridcolor\":\"white\",\"linecolor\":\"white\",\"ticks\":\"\"},\"bgcolor\":\"#E5ECF6\",\"caxis\":{\"gridcolor\":\"white\",\"linecolor\":\"white\",\"ticks\":\"\"}},\"title\":{\"x\":0.05},\"xaxis\":{\"automargin\":true,\"gridcolor\":\"white\",\"linecolor\":\"white\",\"ticks\":\"\",\"title\":{\"standoff\":15},\"zerolinecolor\":\"white\",\"zerolinewidth\":2},\"yaxis\":{\"automargin\":true,\"gridcolor\":\"white\",\"linecolor\":\"white\",\"ticks\":\"\",\"title\":{\"standoff\":15},\"zerolinecolor\":\"white\",\"zerolinewidth\":2}}},\"grid\":{\"rows\":1,\"columns\":2,\"pattern\":\"independent\"},\"title\":{\"text\":\"D\\u00e9ployer le plan v\\u00e9lo\",\"xanchor\":\"left\"}},                        {\"responsive\": true}                    ).then(function(){\n",
              "                            \n",
              "var gd = document.getElementById('74dd4fab-1a04-43a1-a645-6151a6726f4d');\n",
              "var x = new MutationObserver(function (mutations, observer) {{\n",
              "        var display = window.getComputedStyle(gd).display;\n",
              "        if (!display || display === 'none') {{\n",
              "            console.log([gd, 'removed!']);\n",
              "            Plotly.purge(gd);\n",
              "            observer.disconnect();\n",
              "        }}\n",
              "}});\n",
              "\n",
              "// Listen for the removal of the full notebook cells\n",
              "var notebookContainer = gd.closest('#notebook-container');\n",
              "if (notebookContainer) {{\n",
              "    x.observe(notebookContainer, {childList: true});\n",
              "}}\n",
              "\n",
              "// Listen for the clearing of the current output cell\n",
              "var outputEl = gd.closest('.output');\n",
              "if (outputEl) {{\n",
              "    x.observe(outputEl, {childList: true});\n",
              "}}\n",
              "\n",
              "                        })                };                            </script>        </div>\n",
              "</body>\n",
              "</html>"
            ]
          },
          "metadata": {}
        }
      ]
    },
    {
      "cell_type": "code",
      "source": [
        "fig = go.Figure(data=[\n",
        "    go.Bar(x=dates_a, y=values_a)\n",
        "])\n",
        "\n",
        "fig.update_layout(barmode='stack',\n",
        "    title=\"Nombre de kilomètres d’aménagements cyclables sécurisés\",\n",
        "    font=dict(\n",
        "        size=18,\n",
        "        color=\"forestgreen\"\n",
        "    )\n",
        ")\n",
        "fig.update_xaxes(range=[2016,2022])\n",
        "\n",
        "fig.show()"
      ],
      "metadata": {
        "colab": {
          "base_uri": "https://localhost:8080/",
          "height": 542
        },
        "id": "kXmXR_IyMsQl",
        "outputId": "79c77a48-2df0-471f-abd4-287c2843841b"
      },
      "execution_count": null,
      "outputs": [
        {
          "output_type": "display_data",
          "data": {
            "text/html": [
              "<html>\n",
              "<head><meta charset=\"utf-8\" /></head>\n",
              "<body>\n",
              "    <div>            <script src=\"https://cdnjs.cloudflare.com/ajax/libs/mathjax/2.7.5/MathJax.js?config=TeX-AMS-MML_SVG\"></script><script type=\"text/javascript\">if (window.MathJax) {MathJax.Hub.Config({SVG: {font: \"STIX-Web\"}});}</script>                <script type=\"text/javascript\">window.PlotlyConfig = {MathJaxConfig: 'local'};</script>\n",
              "        <script src=\"https://cdn.plot.ly/plotly-2.8.3.min.js\"></script>                <div id=\"33badc93-f524-44fc-b8a5-3d9564812ed1\" class=\"plotly-graph-div\" style=\"height:525px; width:100%;\"></div>            <script type=\"text/javascript\">                                    window.PLOTLYENV=window.PLOTLYENV || {};                                    if (document.getElementById(\"33badc93-f524-44fc-b8a5-3d9564812ed1\")) {                    Plotly.newPlot(                        \"33badc93-f524-44fc-b8a5-3d9564812ed1\",                        [{\"x\":[2017,2021,2020],\"y\":[762,1000,956],\"type\":\"bar\"}],                        {\"template\":{\"data\":{\"bar\":[{\"error_x\":{\"color\":\"#2a3f5f\"},\"error_y\":{\"color\":\"#2a3f5f\"},\"marker\":{\"line\":{\"color\":\"#E5ECF6\",\"width\":0.5},\"pattern\":{\"fillmode\":\"overlay\",\"size\":10,\"solidity\":0.2}},\"type\":\"bar\"}],\"barpolar\":[{\"marker\":{\"line\":{\"color\":\"#E5ECF6\",\"width\":0.5},\"pattern\":{\"fillmode\":\"overlay\",\"size\":10,\"solidity\":0.2}},\"type\":\"barpolar\"}],\"carpet\":[{\"aaxis\":{\"endlinecolor\":\"#2a3f5f\",\"gridcolor\":\"white\",\"linecolor\":\"white\",\"minorgridcolor\":\"white\",\"startlinecolor\":\"#2a3f5f\"},\"baxis\":{\"endlinecolor\":\"#2a3f5f\",\"gridcolor\":\"white\",\"linecolor\":\"white\",\"minorgridcolor\":\"white\",\"startlinecolor\":\"#2a3f5f\"},\"type\":\"carpet\"}],\"choropleth\":[{\"colorbar\":{\"outlinewidth\":0,\"ticks\":\"\"},\"type\":\"choropleth\"}],\"contour\":[{\"colorbar\":{\"outlinewidth\":0,\"ticks\":\"\"},\"colorscale\":[[0.0,\"#0d0887\"],[0.1111111111111111,\"#46039f\"],[0.2222222222222222,\"#7201a8\"],[0.3333333333333333,\"#9c179e\"],[0.4444444444444444,\"#bd3786\"],[0.5555555555555556,\"#d8576b\"],[0.6666666666666666,\"#ed7953\"],[0.7777777777777778,\"#fb9f3a\"],[0.8888888888888888,\"#fdca26\"],[1.0,\"#f0f921\"]],\"type\":\"contour\"}],\"contourcarpet\":[{\"colorbar\":{\"outlinewidth\":0,\"ticks\":\"\"},\"type\":\"contourcarpet\"}],\"heatmap\":[{\"colorbar\":{\"outlinewidth\":0,\"ticks\":\"\"},\"colorscale\":[[0.0,\"#0d0887\"],[0.1111111111111111,\"#46039f\"],[0.2222222222222222,\"#7201a8\"],[0.3333333333333333,\"#9c179e\"],[0.4444444444444444,\"#bd3786\"],[0.5555555555555556,\"#d8576b\"],[0.6666666666666666,\"#ed7953\"],[0.7777777777777778,\"#fb9f3a\"],[0.8888888888888888,\"#fdca26\"],[1.0,\"#f0f921\"]],\"type\":\"heatmap\"}],\"heatmapgl\":[{\"colorbar\":{\"outlinewidth\":0,\"ticks\":\"\"},\"colorscale\":[[0.0,\"#0d0887\"],[0.1111111111111111,\"#46039f\"],[0.2222222222222222,\"#7201a8\"],[0.3333333333333333,\"#9c179e\"],[0.4444444444444444,\"#bd3786\"],[0.5555555555555556,\"#d8576b\"],[0.6666666666666666,\"#ed7953\"],[0.7777777777777778,\"#fb9f3a\"],[0.8888888888888888,\"#fdca26\"],[1.0,\"#f0f921\"]],\"type\":\"heatmapgl\"}],\"histogram\":[{\"marker\":{\"pattern\":{\"fillmode\":\"overlay\",\"size\":10,\"solidity\":0.2}},\"type\":\"histogram\"}],\"histogram2d\":[{\"colorbar\":{\"outlinewidth\":0,\"ticks\":\"\"},\"colorscale\":[[0.0,\"#0d0887\"],[0.1111111111111111,\"#46039f\"],[0.2222222222222222,\"#7201a8\"],[0.3333333333333333,\"#9c179e\"],[0.4444444444444444,\"#bd3786\"],[0.5555555555555556,\"#d8576b\"],[0.6666666666666666,\"#ed7953\"],[0.7777777777777778,\"#fb9f3a\"],[0.8888888888888888,\"#fdca26\"],[1.0,\"#f0f921\"]],\"type\":\"histogram2d\"}],\"histogram2dcontour\":[{\"colorbar\":{\"outlinewidth\":0,\"ticks\":\"\"},\"colorscale\":[[0.0,\"#0d0887\"],[0.1111111111111111,\"#46039f\"],[0.2222222222222222,\"#7201a8\"],[0.3333333333333333,\"#9c179e\"],[0.4444444444444444,\"#bd3786\"],[0.5555555555555556,\"#d8576b\"],[0.6666666666666666,\"#ed7953\"],[0.7777777777777778,\"#fb9f3a\"],[0.8888888888888888,\"#fdca26\"],[1.0,\"#f0f921\"]],\"type\":\"histogram2dcontour\"}],\"mesh3d\":[{\"colorbar\":{\"outlinewidth\":0,\"ticks\":\"\"},\"type\":\"mesh3d\"}],\"parcoords\":[{\"line\":{\"colorbar\":{\"outlinewidth\":0,\"ticks\":\"\"}},\"type\":\"parcoords\"}],\"pie\":[{\"automargin\":true,\"type\":\"pie\"}],\"scatter\":[{\"marker\":{\"colorbar\":{\"outlinewidth\":0,\"ticks\":\"\"}},\"type\":\"scatter\"}],\"scatter3d\":[{\"line\":{\"colorbar\":{\"outlinewidth\":0,\"ticks\":\"\"}},\"marker\":{\"colorbar\":{\"outlinewidth\":0,\"ticks\":\"\"}},\"type\":\"scatter3d\"}],\"scattercarpet\":[{\"marker\":{\"colorbar\":{\"outlinewidth\":0,\"ticks\":\"\"}},\"type\":\"scattercarpet\"}],\"scattergeo\":[{\"marker\":{\"colorbar\":{\"outlinewidth\":0,\"ticks\":\"\"}},\"type\":\"scattergeo\"}],\"scattergl\":[{\"marker\":{\"colorbar\":{\"outlinewidth\":0,\"ticks\":\"\"}},\"type\":\"scattergl\"}],\"scattermapbox\":[{\"marker\":{\"colorbar\":{\"outlinewidth\":0,\"ticks\":\"\"}},\"type\":\"scattermapbox\"}],\"scatterpolar\":[{\"marker\":{\"colorbar\":{\"outlinewidth\":0,\"ticks\":\"\"}},\"type\":\"scatterpolar\"}],\"scatterpolargl\":[{\"marker\":{\"colorbar\":{\"outlinewidth\":0,\"ticks\":\"\"}},\"type\":\"scatterpolargl\"}],\"scatterternary\":[{\"marker\":{\"colorbar\":{\"outlinewidth\":0,\"ticks\":\"\"}},\"type\":\"scatterternary\"}],\"surface\":[{\"colorbar\":{\"outlinewidth\":0,\"ticks\":\"\"},\"colorscale\":[[0.0,\"#0d0887\"],[0.1111111111111111,\"#46039f\"],[0.2222222222222222,\"#7201a8\"],[0.3333333333333333,\"#9c179e\"],[0.4444444444444444,\"#bd3786\"],[0.5555555555555556,\"#d8576b\"],[0.6666666666666666,\"#ed7953\"],[0.7777777777777778,\"#fb9f3a\"],[0.8888888888888888,\"#fdca26\"],[1.0,\"#f0f921\"]],\"type\":\"surface\"}],\"table\":[{\"cells\":{\"fill\":{\"color\":\"#EBF0F8\"},\"line\":{\"color\":\"white\"}},\"header\":{\"fill\":{\"color\":\"#C8D4E3\"},\"line\":{\"color\":\"white\"}},\"type\":\"table\"}]},\"layout\":{\"annotationdefaults\":{\"arrowcolor\":\"#2a3f5f\",\"arrowhead\":0,\"arrowwidth\":1},\"autotypenumbers\":\"strict\",\"coloraxis\":{\"colorbar\":{\"outlinewidth\":0,\"ticks\":\"\"}},\"colorscale\":{\"diverging\":[[0,\"#8e0152\"],[0.1,\"#c51b7d\"],[0.2,\"#de77ae\"],[0.3,\"#f1b6da\"],[0.4,\"#fde0ef\"],[0.5,\"#f7f7f7\"],[0.6,\"#e6f5d0\"],[0.7,\"#b8e186\"],[0.8,\"#7fbc41\"],[0.9,\"#4d9221\"],[1,\"#276419\"]],\"sequential\":[[0.0,\"#0d0887\"],[0.1111111111111111,\"#46039f\"],[0.2222222222222222,\"#7201a8\"],[0.3333333333333333,\"#9c179e\"],[0.4444444444444444,\"#bd3786\"],[0.5555555555555556,\"#d8576b\"],[0.6666666666666666,\"#ed7953\"],[0.7777777777777778,\"#fb9f3a\"],[0.8888888888888888,\"#fdca26\"],[1.0,\"#f0f921\"]],\"sequentialminus\":[[0.0,\"#0d0887\"],[0.1111111111111111,\"#46039f\"],[0.2222222222222222,\"#7201a8\"],[0.3333333333333333,\"#9c179e\"],[0.4444444444444444,\"#bd3786\"],[0.5555555555555556,\"#d8576b\"],[0.6666666666666666,\"#ed7953\"],[0.7777777777777778,\"#fb9f3a\"],[0.8888888888888888,\"#fdca26\"],[1.0,\"#f0f921\"]]},\"colorway\":[\"#636efa\",\"#EF553B\",\"#00cc96\",\"#ab63fa\",\"#FFA15A\",\"#19d3f3\",\"#FF6692\",\"#B6E880\",\"#FF97FF\",\"#FECB52\"],\"font\":{\"color\":\"#2a3f5f\"},\"geo\":{\"bgcolor\":\"white\",\"lakecolor\":\"white\",\"landcolor\":\"#E5ECF6\",\"showlakes\":true,\"showland\":true,\"subunitcolor\":\"white\"},\"hoverlabel\":{\"align\":\"left\"},\"hovermode\":\"closest\",\"mapbox\":{\"style\":\"light\"},\"paper_bgcolor\":\"white\",\"plot_bgcolor\":\"#E5ECF6\",\"polar\":{\"angularaxis\":{\"gridcolor\":\"white\",\"linecolor\":\"white\",\"ticks\":\"\"},\"bgcolor\":\"#E5ECF6\",\"radialaxis\":{\"gridcolor\":\"white\",\"linecolor\":\"white\",\"ticks\":\"\"}},\"scene\":{\"xaxis\":{\"backgroundcolor\":\"#E5ECF6\",\"gridcolor\":\"white\",\"gridwidth\":2,\"linecolor\":\"white\",\"showbackground\":true,\"ticks\":\"\",\"zerolinecolor\":\"white\"},\"yaxis\":{\"backgroundcolor\":\"#E5ECF6\",\"gridcolor\":\"white\",\"gridwidth\":2,\"linecolor\":\"white\",\"showbackground\":true,\"ticks\":\"\",\"zerolinecolor\":\"white\"},\"zaxis\":{\"backgroundcolor\":\"#E5ECF6\",\"gridcolor\":\"white\",\"gridwidth\":2,\"linecolor\":\"white\",\"showbackground\":true,\"ticks\":\"\",\"zerolinecolor\":\"white\"}},\"shapedefaults\":{\"line\":{\"color\":\"#2a3f5f\"}},\"ternary\":{\"aaxis\":{\"gridcolor\":\"white\",\"linecolor\":\"white\",\"ticks\":\"\"},\"baxis\":{\"gridcolor\":\"white\",\"linecolor\":\"white\",\"ticks\":\"\"},\"bgcolor\":\"#E5ECF6\",\"caxis\":{\"gridcolor\":\"white\",\"linecolor\":\"white\",\"ticks\":\"\"}},\"title\":{\"x\":0.05},\"xaxis\":{\"automargin\":true,\"gridcolor\":\"white\",\"linecolor\":\"white\",\"ticks\":\"\",\"title\":{\"standoff\":15},\"zerolinecolor\":\"white\",\"zerolinewidth\":2},\"yaxis\":{\"automargin\":true,\"gridcolor\":\"white\",\"linecolor\":\"white\",\"ticks\":\"\",\"title\":{\"standoff\":15},\"zerolinecolor\":\"white\",\"zerolinewidth\":2}}},\"font\":{\"size\":18,\"color\":\"forestgreen\"},\"barmode\":\"stack\",\"title\":{\"text\":\"Nombre de kilom\\u00e8tres d\\u2019am\\u00e9nagements cyclables s\\u00e9curis\\u00e9s\"},\"xaxis\":{\"range\":[2016,2022]}},                        {\"responsive\": true}                    ).then(function(){\n",
              "                            \n",
              "var gd = document.getElementById('33badc93-f524-44fc-b8a5-3d9564812ed1');\n",
              "var x = new MutationObserver(function (mutations, observer) {{\n",
              "        var display = window.getComputedStyle(gd).display;\n",
              "        if (!display || display === 'none') {{\n",
              "            console.log([gd, 'removed!']);\n",
              "            Plotly.purge(gd);\n",
              "            observer.disconnect();\n",
              "        }}\n",
              "}});\n",
              "\n",
              "// Listen for the removal of the full notebook cells\n",
              "var notebookContainer = gd.closest('#notebook-container');\n",
              "if (notebookContainer) {{\n",
              "    x.observe(notebookContainer, {childList: true});\n",
              "}}\n",
              "\n",
              "// Listen for the clearing of the current output cell\n",
              "var outputEl = gd.closest('.output');\n",
              "if (outputEl) {{\n",
              "    x.observe(outputEl, {childList: true});\n",
              "}}\n",
              "\n",
              "                        })                };                            </script>        </div>\n",
              "</body>\n",
              "</html>"
            ]
          },
          "metadata": {}
        }
      ]
    },
    {
      "cell_type": "markdown",
      "source": [
        "## Taux d'avancement"
      ],
      "metadata": {
        "id": "EeGiRDNx-Ajy"
      }
    },
    {
      "cell_type": "code",
      "source": [
        "fig5, ax = plt.subplots(figsize = (30,10))\n",
        "fig5.suptitle('Kilomètres de réseau cyclabre sécurisés', fontsize=16)\n",
        "\n",
        "ax1 = plt.subplot(131)\n",
        "ax1 = sns.scatterplot(data = df_3, x = \"valeur_actuelle\", y = \"cible\",color = 'limegreen')\n",
        "ax1.set_title(\"Actuellement\")\n",
        "\n",
        "ax2 = plt.subplot(132)\n",
        "ax2 = sns.scatterplot(data = df_3, x = \"progression_derniere_maj\", y = \"cible\", color = 'darkcyan')\n",
        "ax2.set_title(\"En 2020\")\n",
        "\n",
        "ax3 = plt.subplot(133)\n",
        "ax3 = sns.scatterplot(data = df_3, x = \"valeur_initiale\", y = \"cible\",color = 'tomato')\n",
        "ax3.set_title(\"En 2017 (valeur initiale)\")\n",
        "\n",
        "fig5.show()"
      ],
      "metadata": {
        "colab": {
          "base_uri": "https://localhost:8080/",
          "height": 664
        },
        "id": "fZspgzWX-De7",
        "outputId": "5ea3095d-1bbc-4247-f588-c6c1e551075c"
      },
      "execution_count": null,
      "outputs": [
        {
          "output_type": "display_data",
          "data": {
            "image/png": "[encoded data removed]",
            "text/plain": [
              "<Figure size 2160x720 with 3 Axes>"
            ]
          },
          "metadata": {
            "needs_background": "light"
          }
        }
      ]
    },
    {
      "cell_type": "code",
      "source": [
        "# quels sont les taux d'avancement\n",
        "\n",
        "fig6, ax = plt.subplots(figsize = (20,8))\n",
        "\n",
        "ax1 = plt.subplot(121)\n",
        "ax1 = sns.histplot(df_3.pourcentage_cible,color = 'limegreen',shrink=0.8,  multiple=\"dodge\", kde=True, bins = 20)\n",
        "ax1.set_title(\"Histogramme du taux d'avancement par département actuellement\")\n",
        "ax1.set_ylim(ymax = 65)\n",
        "\n",
        "ax2 = plt.subplot(122)\n",
        "ax2 = sns.histplot(data = df_3[\"progression_derniere_maj\"]/df_3['cible']*100,color = 'darkcyan', shrink=0.8,  multiple=\"dodge\", kde=True, bins = 20)\n",
        "ax2.set_title(\"Histogramme du taux d'avancement par département actuellement en 2020\")\n",
        "ax2.set_ylim(ymax = 65)\n",
        "\n",
        "fig6.show()\n"
      ],
      "metadata": {
        "colab": {
          "base_uri": "https://localhost:8080/",
          "height": 514
        },
        "id": "voUDbWXrBms0",
        "outputId": "2191a53c-5ca5-44c8-ba7f-c06aa69db73a"
      },
      "execution_count": null,
      "outputs": [
        {
          "output_type": "display_data",
          "data": {
            "image/png": "[encoded data removed]",
            "text/plain": [
              "<Figure size 1440x576 with 2 Axes>"
            ]
          },
          "metadata": {
            "needs_background": "light"
          }
        }
      ]
    },
    {
      "cell_type": "markdown",
      "source": [
        "On observe qu'entre 2020 et 2021, il y a d'avantage de disparité entre les départeents concernant le taux d'avancement. Cependant, c'est une évolution positive car il y a eu final d'avantage de départements à avoir atteint la cible et donc aussi moins de départements dans la tranche 80-95."
      ],
      "metadata": {
        "id": "Y6KRVpOSEs1B"
      }
    },
    {
      "cell_type": "code",
      "source": [
        "detail_3.to_csv('velo-detail.csv', index = False)\n",
        "df_3.to_csv('velo.csv', index = False)"
      ],
      "metadata": {
        "id": "FkA-kT4cKDKQ"
      },
      "execution_count": null,
      "outputs": []
    },
    {
      "cell_type": "code",
      "source": [
        "df_3.to_excel('velo.xlsx')"
      ],
      "metadata": {
        "id": "_G0pt6ydOuQN"
      },
      "execution_count": null,
      "outputs": []
    },
    {
      "cell_type": "markdown",
      "source": [
        "#Déployer une offre France Services dans tous les territoires (indicateur : Nombre de labellisations )"
      ],
      "metadata": {
        "id": "paYGsNHHKyrA"
      }
    },
    {
      "cell_type": "code",
      "source": [
        "df_4 = df[df['mesure']== 'Déployer une offre France Services dans tous les territoires '].reset_index(drop = True)\n",
        "df_4.head(3)"
      ],
      "metadata": {
        "colab": {
          "base_uri": "https://localhost:8080/",
          "height": 468
        },
        "outputId": "e5e24fd3-f4bf-4b32-89dc-40c06a56d383",
        "id": "ZQvuggOIKyrA"
      },
      "execution_count": null,
      "outputs": [
        {
          "output_type": "execute_result",
          "data": {
            "text/html": [
              "\n",
              "  <div id=\"df-75b576b5-e17f-4067-b942-2b76ae87c28a\">\n",
              "    <div class=\"colab-df-container\">\n",
              "      <div>\n",
              "<style scoped>\n",
              "    .dataframe tbody tr th:only-of-type {\n",
              "        vertical-align: middle;\n",
              "    }\n",
              "\n",
              "    .dataframe tbody tr th {\n",
              "        vertical-align: top;\n",
              "    }\n",
              "\n",
              "    .dataframe thead th {\n",
              "        text-align: right;\n",
              "    }\n",
              "</style>\n",
              "<table border=\"1\" class=\"dataframe\">\n",
              "  <thead>\n",
              "    <tr style=\"text-align: right;\">\n",
              "      <th></th>\n",
              "      <th>mesure</th>\n",
              "      <th>indicateur</th>\n",
              "      <th>id_indicateur</th>\n",
              "      <th>code_departement</th>\n",
              "      <th>libelle_departement</th>\n",
              "      <th>valeur_actuelle</th>\n",
              "      <th>date_valeur_actuelle</th>\n",
              "      <th>valeur_initiale</th>\n",
              "      <th>date_valeur_initiale</th>\n",
              "      <th>progression</th>\n",
              "      <th>pourcentage_progression</th>\n",
              "      <th>progression_derniere_maj</th>\n",
              "      <th>pourcentage_progression_derniere_maj</th>\n",
              "      <th>progression_derniere_maj_date</th>\n",
              "      <th>cible</th>\n",
              "      <th>pourcentage_cible</th>\n",
              "      <th>date_cible</th>\n",
              "      <th>unite</th>\n",
              "    </tr>\n",
              "  </thead>\n",
              "  <tbody>\n",
              "    <tr>\n",
              "      <th>0</th>\n",
              "      <td>Déployer une offre France Services dans tous l...</td>\n",
              "      <td>Nombre de labellisations (atteinte de l'object...</td>\n",
              "      <td>nb-labellisations-france-services</td>\n",
              "      <td>01</td>\n",
              "      <td>Ain</td>\n",
              "      <td>19.0</td>\n",
              "      <td>2022-03-31</td>\n",
              "      <td>1.0</td>\n",
              "      <td>2020-01-31</td>\n",
              "      <td>18.0</td>\n",
              "      <td>1800.0</td>\n",
              "      <td>6.0</td>\n",
              "      <td>217.0</td>\n",
              "      <td>2020-09-30</td>\n",
              "      <td>23.0</td>\n",
              "      <td>82.0</td>\n",
              "      <td>2022-12-31</td>\n",
              "      <td>labellisations</td>\n",
              "    </tr>\n",
              "    <tr>\n",
              "      <th>1</th>\n",
              "      <td>Déployer une offre France Services dans tous l...</td>\n",
              "      <td>Nombre de labellisations (atteinte de l'object...</td>\n",
              "      <td>nb-labellisations-france-services</td>\n",
              "      <td>02</td>\n",
              "      <td>Aisne</td>\n",
              "      <td>23.0</td>\n",
              "      <td>2022-03-31</td>\n",
              "      <td>4.0</td>\n",
              "      <td>2020-01-31</td>\n",
              "      <td>19.0</td>\n",
              "      <td>475.0</td>\n",
              "      <td>11.0</td>\n",
              "      <td>109.0</td>\n",
              "      <td>2020-09-30</td>\n",
              "      <td>29.0</td>\n",
              "      <td>76.0</td>\n",
              "      <td>2022-12-31</td>\n",
              "      <td>labellisations</td>\n",
              "    </tr>\n",
              "    <tr>\n",
              "      <th>2</th>\n",
              "      <td>Déployer une offre France Services dans tous l...</td>\n",
              "      <td>Nombre de labellisations (atteinte de l'object...</td>\n",
              "      <td>nb-labellisations-france-services</td>\n",
              "      <td>03</td>\n",
              "      <td>Allier</td>\n",
              "      <td>17.0</td>\n",
              "      <td>2022-03-31</td>\n",
              "      <td>7.0</td>\n",
              "      <td>2020-01-31</td>\n",
              "      <td>10.0</td>\n",
              "      <td>143.0</td>\n",
              "      <td>9.0</td>\n",
              "      <td>89.0</td>\n",
              "      <td>2020-09-30</td>\n",
              "      <td>24.0</td>\n",
              "      <td>59.0</td>\n",
              "      <td>2022-12-31</td>\n",
              "      <td>labellisations</td>\n",
              "    </tr>\n",
              "  </tbody>\n",
              "</table>\n",
              "</div>\n",
              "      <button class=\"colab-df-convert\" onclick=\"convertToInteractive('df-75b576b5-e17f-4067-b942-2b76ae87c28a')\"\n",
              "              title=\"Convert this dataframe to an interactive table.\"\n",
              "              style=\"display:none;\">\n",
              "        \n",
              "  <svg xmlns=\"http://www.w3.org/2000/svg\" height=\"24px\"viewBox=\"0 0 24 24\"\n",
              "       width=\"24px\">\n",
              "    <path d=\"M0 0h24v24H0V0z\" fill=\"none\"/>\n",
              "    <path d=\"M18.56 5.44l.94 2.06.94-2.06 2.06-.94-2.06-.94-.94-2.06-.94 2.06-2.06.94zm-11 1L8.5 8.5l.94-2.06 2.06-.94-2.06-.94L8.5 2.5l-.94 2.06-2.06.94zm10 10l.94 2.06.94-2.06 2.06-.94-2.06-.94-.94-2.06-.94 2.06-2.06.94z\"/><path d=\"M17.41 7.96l-1.37-1.37c-.4-.4-.92-.59-1.43-.59-.52 0-1.04.2-1.43.59L10.3 9.45l-7.72 7.72c-.78.78-.78 2.05 0 2.83L4 21.41c.39.39.9.59 1.41.59.51 0 1.02-.2 1.41-.59l7.78-7.78 2.81-2.81c.8-.78.8-2.07 0-2.86zM5.41 20L4 18.59l7.72-7.72 1.47 1.35L5.41 20z\"/>\n",
              "  </svg>\n",
              "      </button>\n",
              "      \n",
              "  <style>\n",
              "    .colab-df-container {\n",
              "      display:flex;\n",
              "      flex-wrap:wrap;\n",
              "      gap: 12px;\n",
              "    }\n",
              "\n",
              "    .colab-df-convert {\n",
              "      background-color: #E8F0FE;\n",
              "      border: none;\n",
              "      border-radius: 50%;\n",
              "      cursor: pointer;\n",
              "      display: none;\n",
              "      fill: #1967D2;\n",
              "      height: 32px;\n",
              "      padding: 0 0 0 0;\n",
              "      width: 32px;\n",
              "    }\n",
              "\n",
              "    .colab-df-convert:hover {\n",
              "      background-color: #E2EBFA;\n",
              "      box-shadow: 0px 1px 2px rgba(60, 64, 67, 0.3), 0px 1px 3px 1px rgba(60, 64, 67, 0.15);\n",
              "      fill: #174EA6;\n",
              "    }\n",
              "\n",
              "    [theme=dark] .colab-df-convert {\n",
              "      background-color: #3B4455;\n",
              "      fill: #D2E3FC;\n",
              "    }\n",
              "\n",
              "    [theme=dark] .colab-df-convert:hover {\n",
              "      background-color: #434B5C;\n",
              "      box-shadow: 0px 1px 3px 1px rgba(0, 0, 0, 0.15);\n",
              "      filter: drop-shadow(0px 1px 2px rgba(0, 0, 0, 0.3));\n",
              "      fill: #FFFFFF;\n",
              "    }\n",
              "  </style>\n",
              "\n",
              "      <script>\n",
              "        const buttonEl =\n",
              "          document.querySelector('#df-75b576b5-e17f-4067-b942-2b76ae87c28a button.colab-df-convert');\n",
              "        buttonEl.style.display =\n",
              "          google.colab.kernel.accessAllowed ? 'block' : 'none';\n",
              "\n",
              "        async function convertToInteractive(key) {\n",
              "          const element = document.querySelector('#df-75b576b5-e17f-4067-b942-2b76ae87c28a');\n",
              "          const dataTable =\n",
              "            await google.colab.kernel.invokeFunction('convertToInteractive',\n",
              "                                                     [key], {});\n",
              "          if (!dataTable) return;\n",
              "\n",
              "          const docLinkHtml = 'Like what you see? Visit the ' +\n",
              "            '<a target=\"_blank\" href=https://colab.research.google.com/notebooks/data_table.ipynb>data table notebook</a>'\n",
              "            + ' to learn more about interactive tables.';\n",
              "          element.innerHTML = '';\n",
              "          dataTable['output_type'] = 'display_data';\n",
              "          await google.colab.output.renderOutput(dataTable, element);\n",
              "          const docLink = document.createElement('div');\n",
              "          docLink.innerHTML = docLinkHtml;\n",
              "          element.appendChild(docLink);\n",
              "        }\n",
              "      </script>\n",
              "    </div>\n",
              "  </div>\n",
              "  "
            ],
            "text/plain": [
              "                                              mesure  ...           unite\n",
              "0  Déployer une offre France Services dans tous l...  ...  labellisations\n",
              "1  Déployer une offre France Services dans tous l...  ...  labellisations\n",
              "2  Déployer une offre France Services dans tous l...  ...  labellisations\n",
              "\n",
              "[3 rows x 18 columns]"
            ]
          },
          "metadata": {},
          "execution_count": 189
        }
      ]
    },
    {
      "cell_type": "code",
      "source": [
        "detail_4 = detail[detail['mesure']== 'Déployer une offre France Services dans tous les territoires '].reset_index(drop = True)\n",
        "detail_4"
      ],
      "metadata": {
        "colab": {
          "base_uri": "https://localhost:8080/",
          "height": 424
        },
        "outputId": "baac193d-20f3-4985-d4d8-86c3d77866ec",
        "id": "tSFoVLoKKyrB"
      },
      "execution_count": null,
      "outputs": [
        {
          "output_type": "execute_result",
          "data": {
            "text/html": [
              "\n",
              "  <div id=\"df-02c067b0-8e17-4177-b69f-ad96a92ac2ce\">\n",
              "    <div class=\"colab-df-container\">\n",
              "      <div>\n",
              "<style scoped>\n",
              "    .dataframe tbody tr th:only-of-type {\n",
              "        vertical-align: middle;\n",
              "    }\n",
              "\n",
              "    .dataframe tbody tr th {\n",
              "        vertical-align: top;\n",
              "    }\n",
              "\n",
              "    .dataframe thead th {\n",
              "        text-align: right;\n",
              "    }\n",
              "</style>\n",
              "<table border=\"1\" class=\"dataframe\">\n",
              "  <thead>\n",
              "    <tr style=\"text-align: right;\">\n",
              "      <th></th>\n",
              "      <th>mesure</th>\n",
              "      <th>indicateur</th>\n",
              "      <th>id_indicateur</th>\n",
              "      <th>code_departement</th>\n",
              "      <th>libelle_departement</th>\n",
              "      <th>date</th>\n",
              "      <th>valeur</th>\n",
              "      <th>unite</th>\n",
              "    </tr>\n",
              "  </thead>\n",
              "  <tbody>\n",
              "    <tr>\n",
              "      <th>0</th>\n",
              "      <td>Déployer une offre France Services dans tous l...</td>\n",
              "      <td>Nombre de labellisations (atteinte de l'object...</td>\n",
              "      <td>nb-labellisations-france-services</td>\n",
              "      <td>01</td>\n",
              "      <td>Ain</td>\n",
              "      <td>2020-01-31</td>\n",
              "      <td>1</td>\n",
              "      <td>labellisations</td>\n",
              "    </tr>\n",
              "    <tr>\n",
              "      <th>1</th>\n",
              "      <td>Déployer une offre France Services dans tous l...</td>\n",
              "      <td>Nombre de labellisations (atteinte de l'object...</td>\n",
              "      <td>nb-labellisations-france-services</td>\n",
              "      <td>01</td>\n",
              "      <td>Ain</td>\n",
              "      <td>2020-02-29</td>\n",
              "      <td>3</td>\n",
              "      <td>labellisations</td>\n",
              "    </tr>\n",
              "    <tr>\n",
              "      <th>2</th>\n",
              "      <td>Déployer une offre France Services dans tous l...</td>\n",
              "      <td>Nombre de labellisations (atteinte de l'object...</td>\n",
              "      <td>nb-labellisations-france-services</td>\n",
              "      <td>01</td>\n",
              "      <td>Ain</td>\n",
              "      <td>2020-03-31</td>\n",
              "      <td>3</td>\n",
              "      <td>labellisations</td>\n",
              "    </tr>\n",
              "    <tr>\n",
              "      <th>3</th>\n",
              "      <td>Déployer une offre France Services dans tous l...</td>\n",
              "      <td>Nombre de labellisations (atteinte de l'object...</td>\n",
              "      <td>nb-labellisations-france-services</td>\n",
              "      <td>01</td>\n",
              "      <td>Ain</td>\n",
              "      <td>2020-04-30</td>\n",
              "      <td>3</td>\n",
              "      <td>labellisations</td>\n",
              "    </tr>\n",
              "    <tr>\n",
              "      <th>4</th>\n",
              "      <td>Déployer une offre France Services dans tous l...</td>\n",
              "      <td>Nombre de labellisations (atteinte de l'object...</td>\n",
              "      <td>nb-labellisations-france-services</td>\n",
              "      <td>01</td>\n",
              "      <td>Ain</td>\n",
              "      <td>2020-05-31</td>\n",
              "      <td>3</td>\n",
              "      <td>labellisations</td>\n",
              "    </tr>\n",
              "    <tr>\n",
              "      <th>...</th>\n",
              "      <td>...</td>\n",
              "      <td>...</td>\n",
              "      <td>...</td>\n",
              "      <td>...</td>\n",
              "      <td>...</td>\n",
              "      <td>...</td>\n",
              "      <td>...</td>\n",
              "      <td>...</td>\n",
              "    </tr>\n",
              "    <tr>\n",
              "      <th>2722</th>\n",
              "      <td>Déployer une offre France Services dans tous l...</td>\n",
              "      <td>Nombre de labellisations (atteinte de l'object...</td>\n",
              "      <td>nb-labellisations-france-services</td>\n",
              "      <td>976</td>\n",
              "      <td>Mayotte</td>\n",
              "      <td>2021-11-30</td>\n",
              "      <td>10</td>\n",
              "      <td>labellisations</td>\n",
              "    </tr>\n",
              "    <tr>\n",
              "      <th>2723</th>\n",
              "      <td>Déployer une offre France Services dans tous l...</td>\n",
              "      <td>Nombre de labellisations (atteinte de l'object...</td>\n",
              "      <td>nb-labellisations-france-services</td>\n",
              "      <td>976</td>\n",
              "      <td>Mayotte</td>\n",
              "      <td>2021-12-31</td>\n",
              "      <td>10</td>\n",
              "      <td>labellisations</td>\n",
              "    </tr>\n",
              "    <tr>\n",
              "      <th>2724</th>\n",
              "      <td>Déployer une offre France Services dans tous l...</td>\n",
              "      <td>Nombre de labellisations (atteinte de l'object...</td>\n",
              "      <td>nb-labellisations-france-services</td>\n",
              "      <td>976</td>\n",
              "      <td>Mayotte</td>\n",
              "      <td>2022-01-31</td>\n",
              "      <td>10</td>\n",
              "      <td>labellisations</td>\n",
              "    </tr>\n",
              "    <tr>\n",
              "      <th>2725</th>\n",
              "      <td>Déployer une offre France Services dans tous l...</td>\n",
              "      <td>Nombre de labellisations (atteinte de l'object...</td>\n",
              "      <td>nb-labellisations-france-services</td>\n",
              "      <td>976</td>\n",
              "      <td>Mayotte</td>\n",
              "      <td>2022-02-28</td>\n",
              "      <td>10</td>\n",
              "      <td>labellisations</td>\n",
              "    </tr>\n",
              "    <tr>\n",
              "      <th>2726</th>\n",
              "      <td>Déployer une offre France Services dans tous l...</td>\n",
              "      <td>Nombre de labellisations (atteinte de l'object...</td>\n",
              "      <td>nb-labellisations-france-services</td>\n",
              "      <td>976</td>\n",
              "      <td>Mayotte</td>\n",
              "      <td>2022-03-31</td>\n",
              "      <td>10</td>\n",
              "      <td>labellisations</td>\n",
              "    </tr>\n",
              "  </tbody>\n",
              "</table>\n",
              "<p>2727 rows × 8 columns</p>\n",
              "</div>\n",
              "      <button class=\"colab-df-convert\" onclick=\"convertToInteractive('df-02c067b0-8e17-4177-b69f-ad96a92ac2ce')\"\n",
              "              title=\"Convert this dataframe to an interactive table.\"\n",
              "              style=\"display:none;\">\n",
              "        \n",
              "  <svg xmlns=\"http://www.w3.org/2000/svg\" height=\"24px\"viewBox=\"0 0 24 24\"\n",
              "       width=\"24px\">\n",
              "    <path d=\"M0 0h24v24H0V0z\" fill=\"none\"/>\n",
              "    <path d=\"M18.56 5.44l.94 2.06.94-2.06 2.06-.94-2.06-.94-.94-2.06-.94 2.06-2.06.94zm-11 1L8.5 8.5l.94-2.06 2.06-.94-2.06-.94L8.5 2.5l-.94 2.06-2.06.94zm10 10l.94 2.06.94-2.06 2.06-.94-2.06-.94-.94-2.06-.94 2.06-2.06.94z\"/><path d=\"M17.41 7.96l-1.37-1.37c-.4-.4-.92-.59-1.43-.59-.52 0-1.04.2-1.43.59L10.3 9.45l-7.72 7.72c-.78.78-.78 2.05 0 2.83L4 21.41c.39.39.9.59 1.41.59.51 0 1.02-.2 1.41-.59l7.78-7.78 2.81-2.81c.8-.78.8-2.07 0-2.86zM5.41 20L4 18.59l7.72-7.72 1.47 1.35L5.41 20z\"/>\n",
              "  </svg>\n",
              "      </button>\n",
              "      \n",
              "  <style>\n",
              "    .colab-df-container {\n",
              "      display:flex;\n",
              "      flex-wrap:wrap;\n",
              "      gap: 12px;\n",
              "    }\n",
              "\n",
              "    .colab-df-convert {\n",
              "      background-color: #E8F0FE;\n",
              "      border: none;\n",
              "      border-radius: 50%;\n",
              "      cursor: pointer;\n",
              "      display: none;\n",
              "      fill: #1967D2;\n",
              "      height: 32px;\n",
              "      padding: 0 0 0 0;\n",
              "      width: 32px;\n",
              "    }\n",
              "\n",
              "    .colab-df-convert:hover {\n",
              "      background-color: #E2EBFA;\n",
              "      box-shadow: 0px 1px 2px rgba(60, 64, 67, 0.3), 0px 1px 3px 1px rgba(60, 64, 67, 0.15);\n",
              "      fill: #174EA6;\n",
              "    }\n",
              "\n",
              "    [theme=dark] .colab-df-convert {\n",
              "      background-color: #3B4455;\n",
              "      fill: #D2E3FC;\n",
              "    }\n",
              "\n",
              "    [theme=dark] .colab-df-convert:hover {\n",
              "      background-color: #434B5C;\n",
              "      box-shadow: 0px 1px 3px 1px rgba(0, 0, 0, 0.15);\n",
              "      filter: drop-shadow(0px 1px 2px rgba(0, 0, 0, 0.3));\n",
              "      fill: #FFFFFF;\n",
              "    }\n",
              "  </style>\n",
              "\n",
              "      <script>\n",
              "        const buttonEl =\n",
              "          document.querySelector('#df-02c067b0-8e17-4177-b69f-ad96a92ac2ce button.colab-df-convert');\n",
              "        buttonEl.style.display =\n",
              "          google.colab.kernel.accessAllowed ? 'block' : 'none';\n",
              "\n",
              "        async function convertToInteractive(key) {\n",
              "          const element = document.querySelector('#df-02c067b0-8e17-4177-b69f-ad96a92ac2ce');\n",
              "          const dataTable =\n",
              "            await google.colab.kernel.invokeFunction('convertToInteractive',\n",
              "                                                     [key], {});\n",
              "          if (!dataTable) return;\n",
              "\n",
              "          const docLinkHtml = 'Like what you see? Visit the ' +\n",
              "            '<a target=\"_blank\" href=https://colab.research.google.com/notebooks/data_table.ipynb>data table notebook</a>'\n",
              "            + ' to learn more about interactive tables.';\n",
              "          element.innerHTML = '';\n",
              "          dataTable['output_type'] = 'display_data';\n",
              "          await google.colab.output.renderOutput(dataTable, element);\n",
              "          const docLink = document.createElement('div');\n",
              "          docLink.innerHTML = docLinkHtml;\n",
              "          element.appendChild(docLink);\n",
              "        }\n",
              "      </script>\n",
              "    </div>\n",
              "  </div>\n",
              "  "
            ],
            "text/plain": [
              "                                                 mesure  ...           unite\n",
              "0     Déployer une offre France Services dans tous l...  ...  labellisations\n",
              "1     Déployer une offre France Services dans tous l...  ...  labellisations\n",
              "2     Déployer une offre France Services dans tous l...  ...  labellisations\n",
              "3     Déployer une offre France Services dans tous l...  ...  labellisations\n",
              "4     Déployer une offre France Services dans tous l...  ...  labellisations\n",
              "...                                                 ...  ...             ...\n",
              "2722  Déployer une offre France Services dans tous l...  ...  labellisations\n",
              "2723  Déployer une offre France Services dans tous l...  ...  labellisations\n",
              "2724  Déployer une offre France Services dans tous l...  ...  labellisations\n",
              "2725  Déployer une offre France Services dans tous l...  ...  labellisations\n",
              "2726  Déployer une offre France Services dans tous l...  ...  labellisations\n",
              "\n",
              "[2727 rows x 8 columns]"
            ]
          },
          "metadata": {},
          "execution_count": 203
        }
      ]
    },
    {
      "cell_type": "markdown",
      "source": [
        "## Fill na et types"
      ],
      "metadata": {
        "id": "6O75Ese6NdPj"
      }
    },
    {
      "cell_type": "code",
      "source": [
        "# Je vérifie les types de données des colonnes\n",
        "df_4.dtypes"
      ],
      "metadata": {
        "colab": {
          "base_uri": "https://localhost:8080/"
        },
        "outputId": "30ce554c-d11f-4609-836a-75e21690107f",
        "id": "QCf_SjJtKyrC"
      },
      "execution_count": null,
      "outputs": [
        {
          "output_type": "execute_result",
          "data": {
            "text/plain": [
              "mesure                                   object\n",
              "indicateur                               object\n",
              "id_indicateur                            object\n",
              "code_departement                         object\n",
              "libelle_departement                      object\n",
              "valeur_actuelle                         float64\n",
              "date_valeur_actuelle                     object\n",
              "valeur_initiale                         float64\n",
              "date_valeur_initiale                     object\n",
              "progression                             float64\n",
              "pourcentage_progression                 float64\n",
              "progression_derniere_maj                float64\n",
              "pourcentage_progression_derniere_maj    float64\n",
              "progression_derniere_maj_date            object\n",
              "cible                                   float64\n",
              "pourcentage_cible                       float64\n",
              "date_cible                               object\n",
              "unite                                    object\n",
              "dtype: object"
            ]
          },
          "metadata": {},
          "execution_count": 193
        }
      ]
    },
    {
      "cell_type": "code",
      "source": [
        "# Je vérifie les types de données des colonnes\n",
        "detail_4.dtypes"
      ],
      "metadata": {
        "colab": {
          "base_uri": "https://localhost:8080/"
        },
        "outputId": "ae11be2d-343f-4093-c7ac-d8518c916627",
        "id": "wa-PPD4VKyrC"
      },
      "execution_count": null,
      "outputs": [
        {
          "output_type": "execute_result",
          "data": {
            "text/plain": [
              "mesure                 object\n",
              "indicateur             object\n",
              "id_indicateur          object\n",
              "code_departement       object\n",
              "libelle_departement    object\n",
              "date                   object\n",
              "valeur                  int64\n",
              "unite                  object\n",
              "dtype: object"
            ]
          },
          "metadata": {},
          "execution_count": 204
        }
      ]
    },
    {
      "cell_type": "code",
      "source": [
        "df_4.isnull().sum()"
      ],
      "metadata": {
        "colab": {
          "base_uri": "https://localhost:8080/"
        },
        "id": "qRJqXoxNKugf",
        "outputId": "c6a6e253-fd07-4eab-b406-6377ecced7f4"
      },
      "execution_count": null,
      "outputs": [
        {
          "output_type": "execute_result",
          "data": {
            "text/plain": [
              "mesure                                  0\n",
              "indicateur                              0\n",
              "id_indicateur                           0\n",
              "code_departement                        0\n",
              "libelle_departement                     0\n",
              "valeur_actuelle                         0\n",
              "date_valeur_actuelle                    0\n",
              "valeur_initiale                         0\n",
              "date_valeur_initiale                    0\n",
              "progression                             0\n",
              "pourcentage_progression                 0\n",
              "progression_derniere_maj                0\n",
              "pourcentage_progression_derniere_maj    0\n",
              "progression_derniere_maj_date           0\n",
              "cible                                   0\n",
              "pourcentage_cible                       0\n",
              "date_cible                              0\n",
              "unite                                   0\n",
              "dtype: int64"
            ]
          },
          "metadata": {},
          "execution_count": 197
        }
      ]
    },
    {
      "cell_type": "code",
      "source": [
        "df_4.fillna(0,inplace = True)"
      ],
      "metadata": {
        "id": "HxjPW839OMo4"
      },
      "execution_count": null,
      "outputs": []
    },
    {
      "cell_type": "code",
      "source": [
        "df_4['date_valeur_initiale'] = df_4['date_valeur_initiale'].apply(lambda x : datetime.strptime(str(x),'%Y-%m-%d') if x !=0 else 0)\n",
        "df_4['date_valeur_actuelle'] = df_4['date_valeur_actuelle'].apply(lambda x : datetime.strptime(str(x),'%Y-%m-%d')if x !=0 else 0)\n",
        "df_4['progression_derniere_maj_date'] = df_4['progression_derniere_maj_date'].apply(lambda x : datetime.strptime(str(x),'%Y-%m-%d')if x !=0 else 0)\n",
        "df_4['date_valeur_initiale'] = df_4['date_valeur_initiale'].apply(lambda x : x.year if x !=0 else 0)\n",
        "df_4['date_valeur_actuelle'] = df_4['date_valeur_actuelle'].apply(lambda x : x.year if x !=0 else 0)\n",
        "df_4['progression_derniere_maj_date'] = df_4['progression_derniere_maj_date'].apply(lambda x : x.year if x !=0 else 0)"
      ],
      "metadata": {
        "id": "znVcpo6-OVst"
      },
      "execution_count": null,
      "outputs": []
    },
    {
      "cell_type": "markdown",
      "source": [
        "## Indicateurs"
      ],
      "metadata": {
        "id": "KfIh0XxKNoix"
      }
    },
    {
      "cell_type": "code",
      "source": [
        "n = input('Entrez le numéro du département :')\n",
        "\n",
        "df_service = df_4[df_4['code_departement']==n].reset_index(drop = True)\n",
        "\n",
        "# Taux d'avancement\n",
        "value1 = int(df_service['pourcentage_cible'])\n",
        "\n",
        "# progression 20/21\n",
        "value3 = int(df_service['pourcentage_progression_derniere_maj'])\n",
        "\n",
        "# Nombre de labellisations\n",
        "dates_a = [df_service.loc[0,'date_valeur_initiale'], df_service.loc[0,'date_valeur_actuelle'],df_service.loc[0,'progression_derniere_maj_date']]\n",
        "\n",
        "values_a = [int(df_service.loc[0,'valeur_initiale']), int(df_service.loc[0,'valeur_actuelle']),int(df_service.loc[0,'progression_derniere_maj'])]"
      ],
      "metadata": {
        "colab": {
          "base_uri": "https://localhost:8080/"
        },
        "id": "OPtb_tcuOswE",
        "outputId": "292aa5f9-09a4-43b1-e4dd-d5d902771cae"
      },
      "execution_count": null,
      "outputs": [
        {
          "name": "stdout",
          "output_type": "stream",
          "text": [
            "Entrez le numéro du département :22\n"
          ]
        }
      ]
    },
    {
      "cell_type": "code",
      "source": [
        "df_service"
      ],
      "metadata": {
        "colab": {
          "base_uri": "https://localhost:8080/",
          "height": 232
        },
        "id": "LtcIMGHJT4r_",
        "outputId": "5c96471c-9ead-4029-96ec-81f8b1a9356f"
      },
      "execution_count": null,
      "outputs": [
        {
          "output_type": "execute_result",
          "data": {
            "text/html": [
              "\n",
              "  <div id=\"df-e5326c3f-e836-42c3-8402-bae8fde36d18\">\n",
              "    <div class=\"colab-df-container\">\n",
              "      <div>\n",
              "<style scoped>\n",
              "    .dataframe tbody tr th:only-of-type {\n",
              "        vertical-align: middle;\n",
              "    }\n",
              "\n",
              "    .dataframe tbody tr th {\n",
              "        vertical-align: top;\n",
              "    }\n",
              "\n",
              "    .dataframe thead th {\n",
              "        text-align: right;\n",
              "    }\n",
              "</style>\n",
              "<table border=\"1\" class=\"dataframe\">\n",
              "  <thead>\n",
              "    <tr style=\"text-align: right;\">\n",
              "      <th></th>\n",
              "      <th>mesure</th>\n",
              "      <th>indicateur</th>\n",
              "      <th>id_indicateur</th>\n",
              "      <th>code_departement</th>\n",
              "      <th>libelle_departement</th>\n",
              "      <th>valeur_actuelle</th>\n",
              "      <th>date_valeur_actuelle</th>\n",
              "      <th>valeur_initiale</th>\n",
              "      <th>date_valeur_initiale</th>\n",
              "      <th>progression</th>\n",
              "      <th>pourcentage_progression</th>\n",
              "      <th>progression_derniere_maj</th>\n",
              "      <th>pourcentage_progression_derniere_maj</th>\n",
              "      <th>progression_derniere_maj_date</th>\n",
              "      <th>cible</th>\n",
              "      <th>pourcentage_cible</th>\n",
              "      <th>date_cible</th>\n",
              "      <th>unite</th>\n",
              "    </tr>\n",
              "  </thead>\n",
              "  <tbody>\n",
              "    <tr>\n",
              "      <th>0</th>\n",
              "      <td>Déployer une offre France Services dans tous l...</td>\n",
              "      <td>Nombre de labellisations (atteinte de l'object...</td>\n",
              "      <td>nb-labellisations-france-services</td>\n",
              "      <td>22</td>\n",
              "      <td>Côtes-d'Armor</td>\n",
              "      <td>26.0</td>\n",
              "      <td>2022</td>\n",
              "      <td>4.0</td>\n",
              "      <td>2020</td>\n",
              "      <td>22.0</td>\n",
              "      <td>550.0</td>\n",
              "      <td>5.0</td>\n",
              "      <td>420.0</td>\n",
              "      <td>2020</td>\n",
              "      <td>32.0</td>\n",
              "      <td>79.0</td>\n",
              "      <td>2022-12-31</td>\n",
              "      <td>labellisations</td>\n",
              "    </tr>\n",
              "  </tbody>\n",
              "</table>\n",
              "</div>\n",
              "      <button class=\"colab-df-convert\" onclick=\"convertToInteractive('df-e5326c3f-e836-42c3-8402-bae8fde36d18')\"\n",
              "              title=\"Convert this dataframe to an interactive table.\"\n",
              "              style=\"display:none;\">\n",
              "        \n",
              "  <svg xmlns=\"http://www.w3.org/2000/svg\" height=\"24px\"viewBox=\"0 0 24 24\"\n",
              "       width=\"24px\">\n",
              "    <path d=\"M0 0h24v24H0V0z\" fill=\"none\"/>\n",
              "    <path d=\"M18.56 5.44l.94 2.06.94-2.06 2.06-.94-2.06-.94-.94-2.06-.94 2.06-2.06.94zm-11 1L8.5 8.5l.94-2.06 2.06-.94-2.06-.94L8.5 2.5l-.94 2.06-2.06.94zm10 10l.94 2.06.94-2.06 2.06-.94-2.06-.94-.94-2.06-.94 2.06-2.06.94z\"/><path d=\"M17.41 7.96l-1.37-1.37c-.4-.4-.92-.59-1.43-.59-.52 0-1.04.2-1.43.59L10.3 9.45l-7.72 7.72c-.78.78-.78 2.05 0 2.83L4 21.41c.39.39.9.59 1.41.59.51 0 1.02-.2 1.41-.59l7.78-7.78 2.81-2.81c.8-.78.8-2.07 0-2.86zM5.41 20L4 18.59l7.72-7.72 1.47 1.35L5.41 20z\"/>\n",
              "  </svg>\n",
              "      </button>\n",
              "      \n",
              "  <style>\n",
              "    .colab-df-container {\n",
              "      display:flex;\n",
              "      flex-wrap:wrap;\n",
              "      gap: 12px;\n",
              "    }\n",
              "\n",
              "    .colab-df-convert {\n",
              "      background-color: #E8F0FE;\n",
              "      border: none;\n",
              "      border-radius: 50%;\n",
              "      cursor: pointer;\n",
              "      display: none;\n",
              "      fill: #1967D2;\n",
              "      height: 32px;\n",
              "      padding: 0 0 0 0;\n",
              "      width: 32px;\n",
              "    }\n",
              "\n",
              "    .colab-df-convert:hover {\n",
              "      background-color: #E2EBFA;\n",
              "      box-shadow: 0px 1px 2px rgba(60, 64, 67, 0.3), 0px 1px 3px 1px rgba(60, 64, 67, 0.15);\n",
              "      fill: #174EA6;\n",
              "    }\n",
              "\n",
              "    [theme=dark] .colab-df-convert {\n",
              "      background-color: #3B4455;\n",
              "      fill: #D2E3FC;\n",
              "    }\n",
              "\n",
              "    [theme=dark] .colab-df-convert:hover {\n",
              "      background-color: #434B5C;\n",
              "      box-shadow: 0px 1px 3px 1px rgba(0, 0, 0, 0.15);\n",
              "      filter: drop-shadow(0px 1px 2px rgba(0, 0, 0, 0.3));\n",
              "      fill: #FFFFFF;\n",
              "    }\n",
              "  </style>\n",
              "\n",
              "      <script>\n",
              "        const buttonEl =\n",
              "          document.querySelector('#df-e5326c3f-e836-42c3-8402-bae8fde36d18 button.colab-df-convert');\n",
              "        buttonEl.style.display =\n",
              "          google.colab.kernel.accessAllowed ? 'block' : 'none';\n",
              "\n",
              "        async function convertToInteractive(key) {\n",
              "          const element = document.querySelector('#df-e5326c3f-e836-42c3-8402-bae8fde36d18');\n",
              "          const dataTable =\n",
              "            await google.colab.kernel.invokeFunction('convertToInteractive',\n",
              "                                                     [key], {});\n",
              "          if (!dataTable) return;\n",
              "\n",
              "          const docLinkHtml = 'Like what you see? Visit the ' +\n",
              "            '<a target=\"_blank\" href=https://colab.research.google.com/notebooks/data_table.ipynb>data table notebook</a>'\n",
              "            + ' to learn more about interactive tables.';\n",
              "          element.innerHTML = '';\n",
              "          dataTable['output_type'] = 'display_data';\n",
              "          await google.colab.output.renderOutput(dataTable, element);\n",
              "          const docLink = document.createElement('div');\n",
              "          docLink.innerHTML = docLinkHtml;\n",
              "          element.appendChild(docLink);\n",
              "        }\n",
              "      </script>\n",
              "    </div>\n",
              "  </div>\n",
              "  "
            ],
            "text/plain": [
              "                                              mesure  ...           unite\n",
              "0  Déployer une offre France Services dans tous l...  ...  labellisations\n",
              "\n",
              "[1 rows x 18 columns]"
            ]
          },
          "metadata": {},
          "execution_count": 236
        }
      ]
    },
    {
      "cell_type": "code",
      "source": [
        "import plotly.graph_objects as go\n",
        "\n",
        "fig = go.Figure()\n",
        "\n",
        "fig.add_trace(go.Indicator(\n",
        "    value = value1,\n",
        "    title = {'text': \"Taux d'avancement\"},\n",
        "    domain = {'row': 0, 'column': 0},\n",
        "    gauge_axis_range=[0,100]))\n",
        "\n",
        "fig.add_trace(go.Indicator(\n",
        "    value = value3,\n",
        "    title = {'text': \"Taux de progression 20/21 des labellisations France Services\"},\n",
        "    domain = {'row': 0, 'column': 1},\n",
        "    gauge_axis_range=[0,100]))\n",
        "\n",
        "fig.update_layout(\n",
        "    grid = {'rows': 1, 'columns': 2, 'pattern': \"independent\"},\n",
        "    title= {'text': \"Déployer une offre France Services dans tous les territoires\", 'xanchor':'left'},\n",
        "    template = {'data' : {'indicator': [{\n",
        "                                'mode' : \"number+gauge\",\n",
        "                                'delta' : {'reference': 90},\n",
        "                                'number':{'suffix':'%'}}]},\n",
        "                                })\n",
        "fig.show()"
      ],
      "metadata": {
        "colab": {
          "base_uri": "https://localhost:8080/",
          "height": 542
        },
        "id": "Yi10hOyvPKmj",
        "outputId": "e60e3634-0a4d-43c3-8837-811a7b40805a"
      },
      "execution_count": null,
      "outputs": [
        {
          "output_type": "display_data",
          "data": {
            "text/html": [
              "<html>\n",
              "<head><meta charset=\"utf-8\" /></head>\n",
              "<body>\n",
              "    <div>            <script src=\"https://cdnjs.cloudflare.com/ajax/libs/mathjax/2.7.5/MathJax.js?config=TeX-AMS-MML_SVG\"></script><script type=\"text/javascript\">if (window.MathJax) {MathJax.Hub.Config({SVG: {font: \"STIX-Web\"}});}</script>                <script type=\"text/javascript\">window.PlotlyConfig = {MathJaxConfig: 'local'};</script>\n",
              "        <script src=\"https://cdn.plot.ly/plotly-2.8.3.min.js\"></script>                <div id=\"a0a05dbf-8afa-41ee-96c6-d9cad39062a3\" class=\"plotly-graph-div\" style=\"height:525px; width:100%;\"></div>            <script type=\"text/javascript\">                                    window.PLOTLYENV=window.PLOTLYENV || {};                                    if (document.getElementById(\"a0a05dbf-8afa-41ee-96c6-d9cad39062a3\")) {                    Plotly.newPlot(                        \"a0a05dbf-8afa-41ee-96c6-d9cad39062a3\",                        [{\"domain\":{\"column\":0,\"row\":0},\"gauge\":{\"axis\":{\"range\":[0,100]}},\"title\":{\"text\":\"Taux d'avancement\"},\"value\":79,\"type\":\"indicator\"},{\"domain\":{\"column\":1,\"row\":0},\"gauge\":{\"axis\":{\"range\":[0,100]}},\"title\":{\"text\":\"Taux de progression 20/21 des labellisations France Services\"},\"value\":420,\"type\":\"indicator\"}],                        {\"template\":{\"data\":{\"bar\":[{\"error_x\":{\"color\":\"#2a3f5f\"},\"error_y\":{\"color\":\"#2a3f5f\"},\"marker\":{\"line\":{\"color\":\"#E5ECF6\",\"width\":0.5},\"pattern\":{\"fillmode\":\"overlay\",\"size\":10,\"solidity\":0.2}},\"type\":\"bar\"}],\"barpolar\":[{\"marker\":{\"line\":{\"color\":\"#E5ECF6\",\"width\":0.5},\"pattern\":{\"fillmode\":\"overlay\",\"size\":10,\"solidity\":0.2}},\"type\":\"barpolar\"}],\"carpet\":[{\"aaxis\":{\"endlinecolor\":\"#2a3f5f\",\"gridcolor\":\"white\",\"linecolor\":\"white\",\"minorgridcolor\":\"white\",\"startlinecolor\":\"#2a3f5f\"},\"baxis\":{\"endlinecolor\":\"#2a3f5f\",\"gridcolor\":\"white\",\"linecolor\":\"white\",\"minorgridcolor\":\"white\",\"startlinecolor\":\"#2a3f5f\"},\"type\":\"carpet\"}],\"choropleth\":[{\"colorbar\":{\"outlinewidth\":0,\"ticks\":\"\"},\"type\":\"choropleth\"}],\"contour\":[{\"colorbar\":{\"outlinewidth\":0,\"ticks\":\"\"},\"colorscale\":[[0.0,\"#0d0887\"],[0.1111111111111111,\"#46039f\"],[0.2222222222222222,\"#7201a8\"],[0.3333333333333333,\"#9c179e\"],[0.4444444444444444,\"#bd3786\"],[0.5555555555555556,\"#d8576b\"],[0.6666666666666666,\"#ed7953\"],[0.7777777777777778,\"#fb9f3a\"],[0.8888888888888888,\"#fdca26\"],[1.0,\"#f0f921\"]],\"type\":\"contour\"}],\"contourcarpet\":[{\"colorbar\":{\"outlinewidth\":0,\"ticks\":\"\"},\"type\":\"contourcarpet\"}],\"heatmap\":[{\"colorbar\":{\"outlinewidth\":0,\"ticks\":\"\"},\"colorscale\":[[0.0,\"#0d0887\"],[0.1111111111111111,\"#46039f\"],[0.2222222222222222,\"#7201a8\"],[0.3333333333333333,\"#9c179e\"],[0.4444444444444444,\"#bd3786\"],[0.5555555555555556,\"#d8576b\"],[0.6666666666666666,\"#ed7953\"],[0.7777777777777778,\"#fb9f3a\"],[0.8888888888888888,\"#fdca26\"],[1.0,\"#f0f921\"]],\"type\":\"heatmap\"}],\"heatmapgl\":[{\"colorbar\":{\"outlinewidth\":0,\"ticks\":\"\"},\"colorscale\":[[0.0,\"#0d0887\"],[0.1111111111111111,\"#46039f\"],[0.2222222222222222,\"#7201a8\"],[0.3333333333333333,\"#9c179e\"],[0.4444444444444444,\"#bd3786\"],[0.5555555555555556,\"#d8576b\"],[0.6666666666666666,\"#ed7953\"],[0.7777777777777778,\"#fb9f3a\"],[0.8888888888888888,\"#fdca26\"],[1.0,\"#f0f921\"]],\"type\":\"heatmapgl\"}],\"histogram\":[{\"marker\":{\"pattern\":{\"fillmode\":\"overlay\",\"size\":10,\"solidity\":0.2}},\"type\":\"histogram\"}],\"histogram2d\":[{\"colorbar\":{\"outlinewidth\":0,\"ticks\":\"\"},\"colorscale\":[[0.0,\"#0d0887\"],[0.1111111111111111,\"#46039f\"],[0.2222222222222222,\"#7201a8\"],[0.3333333333333333,\"#9c179e\"],[0.4444444444444444,\"#bd3786\"],[0.5555555555555556,\"#d8576b\"],[0.6666666666666666,\"#ed7953\"],[0.7777777777777778,\"#fb9f3a\"],[0.8888888888888888,\"#fdca26\"],[1.0,\"#f0f921\"]],\"type\":\"histogram2d\"}],\"histogram2dcontour\":[{\"colorbar\":{\"outlinewidth\":0,\"ticks\":\"\"},\"colorscale\":[[0.0,\"#0d0887\"],[0.1111111111111111,\"#46039f\"],[0.2222222222222222,\"#7201a8\"],[0.3333333333333333,\"#9c179e\"],[0.4444444444444444,\"#bd3786\"],[0.5555555555555556,\"#d8576b\"],[0.6666666666666666,\"#ed7953\"],[0.7777777777777778,\"#fb9f3a\"],[0.8888888888888888,\"#fdca26\"],[1.0,\"#f0f921\"]],\"type\":\"histogram2dcontour\"}],\"mesh3d\":[{\"colorbar\":{\"outlinewidth\":0,\"ticks\":\"\"},\"type\":\"mesh3d\"}],\"parcoords\":[{\"line\":{\"colorbar\":{\"outlinewidth\":0,\"ticks\":\"\"}},\"type\":\"parcoords\"}],\"pie\":[{\"automargin\":true,\"type\":\"pie\"}],\"scatter\":[{\"marker\":{\"colorbar\":{\"outlinewidth\":0,\"ticks\":\"\"}},\"type\":\"scatter\"}],\"scatter3d\":[{\"line\":{\"colorbar\":{\"outlinewidth\":0,\"ticks\":\"\"}},\"marker\":{\"colorbar\":{\"outlinewidth\":0,\"ticks\":\"\"}},\"type\":\"scatter3d\"}],\"scattercarpet\":[{\"marker\":{\"colorbar\":{\"outlinewidth\":0,\"ticks\":\"\"}},\"type\":\"scattercarpet\"}],\"scattergeo\":[{\"marker\":{\"colorbar\":{\"outlinewidth\":0,\"ticks\":\"\"}},\"type\":\"scattergeo\"}],\"scattergl\":[{\"marker\":{\"colorbar\":{\"outlinewidth\":0,\"ticks\":\"\"}},\"type\":\"scattergl\"}],\"scattermapbox\":[{\"marker\":{\"colorbar\":{\"outlinewidth\":0,\"ticks\":\"\"}},\"type\":\"scattermapbox\"}],\"scatterpolar\":[{\"marker\":{\"colorbar\":{\"outlinewidth\":0,\"ticks\":\"\"}},\"type\":\"scatterpolar\"}],\"scatterpolargl\":[{\"marker\":{\"colorbar\":{\"outlinewidth\":0,\"ticks\":\"\"}},\"type\":\"scatterpolargl\"}],\"scatterternary\":[{\"marker\":{\"colorbar\":{\"outlinewidth\":0,\"ticks\":\"\"}},\"type\":\"scatterternary\"}],\"surface\":[{\"colorbar\":{\"outlinewidth\":0,\"ticks\":\"\"},\"colorscale\":[[0.0,\"#0d0887\"],[0.1111111111111111,\"#46039f\"],[0.2222222222222222,\"#7201a8\"],[0.3333333333333333,\"#9c179e\"],[0.4444444444444444,\"#bd3786\"],[0.5555555555555556,\"#d8576b\"],[0.6666666666666666,\"#ed7953\"],[0.7777777777777778,\"#fb9f3a\"],[0.8888888888888888,\"#fdca26\"],[1.0,\"#f0f921\"]],\"type\":\"surface\"}],\"table\":[{\"cells\":{\"fill\":{\"color\":\"#EBF0F8\"},\"line\":{\"color\":\"white\"}},\"header\":{\"fill\":{\"color\":\"#C8D4E3\"},\"line\":{\"color\":\"white\"}},\"type\":\"table\"}],\"indicator\":[{\"delta\":{\"reference\":90},\"mode\":\"number+gauge\",\"number\":{\"suffix\":\"%\"},\"type\":\"indicator\"}]},\"layout\":{\"annotationdefaults\":{\"arrowcolor\":\"#2a3f5f\",\"arrowhead\":0,\"arrowwidth\":1},\"autotypenumbers\":\"strict\",\"coloraxis\":{\"colorbar\":{\"outlinewidth\":0,\"ticks\":\"\"}},\"colorscale\":{\"diverging\":[[0,\"#8e0152\"],[0.1,\"#c51b7d\"],[0.2,\"#de77ae\"],[0.3,\"#f1b6da\"],[0.4,\"#fde0ef\"],[0.5,\"#f7f7f7\"],[0.6,\"#e6f5d0\"],[0.7,\"#b8e186\"],[0.8,\"#7fbc41\"],[0.9,\"#4d9221\"],[1,\"#276419\"]],\"sequential\":[[0.0,\"#0d0887\"],[0.1111111111111111,\"#46039f\"],[0.2222222222222222,\"#7201a8\"],[0.3333333333333333,\"#9c179e\"],[0.4444444444444444,\"#bd3786\"],[0.5555555555555556,\"#d8576b\"],[0.6666666666666666,\"#ed7953\"],[0.7777777777777778,\"#fb9f3a\"],[0.8888888888888888,\"#fdca26\"],[1.0,\"#f0f921\"]],\"sequentialminus\":[[0.0,\"#0d0887\"],[0.1111111111111111,\"#46039f\"],[0.2222222222222222,\"#7201a8\"],[0.3333333333333333,\"#9c179e\"],[0.4444444444444444,\"#bd3786\"],[0.5555555555555556,\"#d8576b\"],[0.6666666666666666,\"#ed7953\"],[0.7777777777777778,\"#fb9f3a\"],[0.8888888888888888,\"#fdca26\"],[1.0,\"#f0f921\"]]},\"colorway\":[\"#636efa\",\"#EF553B\",\"#00cc96\",\"#ab63fa\",\"#FFA15A\",\"#19d3f3\",\"#FF6692\",\"#B6E880\",\"#FF97FF\",\"#FECB52\"],\"font\":{\"color\":\"#2a3f5f\"},\"geo\":{\"bgcolor\":\"white\",\"lakecolor\":\"white\",\"landcolor\":\"#E5ECF6\",\"showlakes\":true,\"showland\":true,\"subunitcolor\":\"white\"},\"hoverlabel\":{\"align\":\"left\"},\"hovermode\":\"closest\",\"mapbox\":{\"style\":\"light\"},\"paper_bgcolor\":\"white\",\"plot_bgcolor\":\"#E5ECF6\",\"polar\":{\"angularaxis\":{\"gridcolor\":\"white\",\"linecolor\":\"white\",\"ticks\":\"\"},\"bgcolor\":\"#E5ECF6\",\"radialaxis\":{\"gridcolor\":\"white\",\"linecolor\":\"white\",\"ticks\":\"\"}},\"scene\":{\"xaxis\":{\"backgroundcolor\":\"#E5ECF6\",\"gridcolor\":\"white\",\"gridwidth\":2,\"linecolor\":\"white\",\"showbackground\":true,\"ticks\":\"\",\"zerolinecolor\":\"white\"},\"yaxis\":{\"backgroundcolor\":\"#E5ECF6\",\"gridcolor\":\"white\",\"gridwidth\":2,\"linecolor\":\"white\",\"showbackground\":true,\"ticks\":\"\",\"zerolinecolor\":\"white\"},\"zaxis\":{\"backgroundcolor\":\"#E5ECF6\",\"gridcolor\":\"white\",\"gridwidth\":2,\"linecolor\":\"white\",\"showbackground\":true,\"ticks\":\"\",\"zerolinecolor\":\"white\"}},\"shapedefaults\":{\"line\":{\"color\":\"#2a3f5f\"}},\"ternary\":{\"aaxis\":{\"gridcolor\":\"white\",\"linecolor\":\"white\",\"ticks\":\"\"},\"baxis\":{\"gridcolor\":\"white\",\"linecolor\":\"white\",\"ticks\":\"\"},\"bgcolor\":\"#E5ECF6\",\"caxis\":{\"gridcolor\":\"white\",\"linecolor\":\"white\",\"ticks\":\"\"}},\"title\":{\"x\":0.05},\"xaxis\":{\"automargin\":true,\"gridcolor\":\"white\",\"linecolor\":\"white\",\"ticks\":\"\",\"title\":{\"standoff\":15},\"zerolinecolor\":\"white\",\"zerolinewidth\":2},\"yaxis\":{\"automargin\":true,\"gridcolor\":\"white\",\"linecolor\":\"white\",\"ticks\":\"\",\"title\":{\"standoff\":15},\"zerolinecolor\":\"white\",\"zerolinewidth\":2}}},\"grid\":{\"rows\":1,\"columns\":2,\"pattern\":\"independent\"},\"title\":{\"text\":\"D\\u00e9ployer une offre France Services dans tous les territoires\",\"xanchor\":\"left\"}},                        {\"responsive\": true}                    ).then(function(){\n",
              "                            \n",
              "var gd = document.getElementById('a0a05dbf-8afa-41ee-96c6-d9cad39062a3');\n",
              "var x = new MutationObserver(function (mutations, observer) {{\n",
              "        var display = window.getComputedStyle(gd).display;\n",
              "        if (!display || display === 'none') {{\n",
              "            console.log([gd, 'removed!']);\n",
              "            Plotly.purge(gd);\n",
              "            observer.disconnect();\n",
              "        }}\n",
              "}});\n",
              "\n",
              "// Listen for the removal of the full notebook cells\n",
              "var notebookContainer = gd.closest('#notebook-container');\n",
              "if (notebookContainer) {{\n",
              "    x.observe(notebookContainer, {childList: true});\n",
              "}}\n",
              "\n",
              "// Listen for the clearing of the current output cell\n",
              "var outputEl = gd.closest('.output');\n",
              "if (outputEl) {{\n",
              "    x.observe(outputEl, {childList: true});\n",
              "}}\n",
              "\n",
              "                        })                };                            </script>        </div>\n",
              "</body>\n",
              "</html>"
            ]
          },
          "metadata": {}
        }
      ]
    },
    {
      "cell_type": "code",
      "source": [
        "fig = go.Figure(data=[\n",
        "    go.Bar(x=dates_a, y=values_a)\n",
        "])\n",
        "\n",
        "fig.update_layout(barmode='stack',\n",
        "    title=\"Nombre de labellisations\",\n",
        "    font=dict(\n",
        "        size=18,\n",
        "        color=\"forestgreen\"\n",
        "    )\n",
        ")\n",
        "fig.update_xaxes(range=[2019,2021.5])\n",
        "\n",
        "fig.show()"
      ],
      "metadata": {
        "colab": {
          "base_uri": "https://localhost:8080/",
          "height": 542
        },
        "id": "64lZ7gXDPfMM",
        "outputId": "2ec6d5cd-49bf-437d-8eb9-05ea86977b7a"
      },
      "execution_count": null,
      "outputs": [
        {
          "output_type": "display_data",
          "data": {
            "text/html": [
              "<html>\n",
              "<head><meta charset=\"utf-8\" /></head>\n",
              "<body>\n",
              "    <div>            <script src=\"https://cdnjs.cloudflare.com/ajax/libs/mathjax/2.7.5/MathJax.js?config=TeX-AMS-MML_SVG\"></script><script type=\"text/javascript\">if (window.MathJax) {MathJax.Hub.Config({SVG: {font: \"STIX-Web\"}});}</script>                <script type=\"text/javascript\">window.PlotlyConfig = {MathJaxConfig: 'local'};</script>\n",
              "        <script src=\"https://cdn.plot.ly/plotly-2.8.3.min.js\"></script>                <div id=\"26a5d06c-2277-422a-9708-a6aed854a668\" class=\"plotly-graph-div\" style=\"height:525px; width:100%;\"></div>            <script type=\"text/javascript\">                                    window.PLOTLYENV=window.PLOTLYENV || {};                                    if (document.getElementById(\"26a5d06c-2277-422a-9708-a6aed854a668\")) {                    Plotly.newPlot(                        \"26a5d06c-2277-422a-9708-a6aed854a668\",                        [{\"x\":[2017,2021,2020],\"y\":[12,17,15],\"type\":\"bar\"}],                        {\"template\":{\"data\":{\"bar\":[{\"error_x\":{\"color\":\"#2a3f5f\"},\"error_y\":{\"color\":\"#2a3f5f\"},\"marker\":{\"line\":{\"color\":\"#E5ECF6\",\"width\":0.5},\"pattern\":{\"fillmode\":\"overlay\",\"size\":10,\"solidity\":0.2}},\"type\":\"bar\"}],\"barpolar\":[{\"marker\":{\"line\":{\"color\":\"#E5ECF6\",\"width\":0.5},\"pattern\":{\"fillmode\":\"overlay\",\"size\":10,\"solidity\":0.2}},\"type\":\"barpolar\"}],\"carpet\":[{\"aaxis\":{\"endlinecolor\":\"#2a3f5f\",\"gridcolor\":\"white\",\"linecolor\":\"white\",\"minorgridcolor\":\"white\",\"startlinecolor\":\"#2a3f5f\"},\"baxis\":{\"endlinecolor\":\"#2a3f5f\",\"gridcolor\":\"white\",\"linecolor\":\"white\",\"minorgridcolor\":\"white\",\"startlinecolor\":\"#2a3f5f\"},\"type\":\"carpet\"}],\"choropleth\":[{\"colorbar\":{\"outlinewidth\":0,\"ticks\":\"\"},\"type\":\"choropleth\"}],\"contour\":[{\"colorbar\":{\"outlinewidth\":0,\"ticks\":\"\"},\"colorscale\":[[0.0,\"#0d0887\"],[0.1111111111111111,\"#46039f\"],[0.2222222222222222,\"#7201a8\"],[0.3333333333333333,\"#9c179e\"],[0.4444444444444444,\"#bd3786\"],[0.5555555555555556,\"#d8576b\"],[0.6666666666666666,\"#ed7953\"],[0.7777777777777778,\"#fb9f3a\"],[0.8888888888888888,\"#fdca26\"],[1.0,\"#f0f921\"]],\"type\":\"contour\"}],\"contourcarpet\":[{\"colorbar\":{\"outlinewidth\":0,\"ticks\":\"\"},\"type\":\"contourcarpet\"}],\"heatmap\":[{\"colorbar\":{\"outlinewidth\":0,\"ticks\":\"\"},\"colorscale\":[[0.0,\"#0d0887\"],[0.1111111111111111,\"#46039f\"],[0.2222222222222222,\"#7201a8\"],[0.3333333333333333,\"#9c179e\"],[0.4444444444444444,\"#bd3786\"],[0.5555555555555556,\"#d8576b\"],[0.6666666666666666,\"#ed7953\"],[0.7777777777777778,\"#fb9f3a\"],[0.8888888888888888,\"#fdca26\"],[1.0,\"#f0f921\"]],\"type\":\"heatmap\"}],\"heatmapgl\":[{\"colorbar\":{\"outlinewidth\":0,\"ticks\":\"\"},\"colorscale\":[[0.0,\"#0d0887\"],[0.1111111111111111,\"#46039f\"],[0.2222222222222222,\"#7201a8\"],[0.3333333333333333,\"#9c179e\"],[0.4444444444444444,\"#bd3786\"],[0.5555555555555556,\"#d8576b\"],[0.6666666666666666,\"#ed7953\"],[0.7777777777777778,\"#fb9f3a\"],[0.8888888888888888,\"#fdca26\"],[1.0,\"#f0f921\"]],\"type\":\"heatmapgl\"}],\"histogram\":[{\"marker\":{\"pattern\":{\"fillmode\":\"overlay\",\"size\":10,\"solidity\":0.2}},\"type\":\"histogram\"}],\"histogram2d\":[{\"colorbar\":{\"outlinewidth\":0,\"ticks\":\"\"},\"colorscale\":[[0.0,\"#0d0887\"],[0.1111111111111111,\"#46039f\"],[0.2222222222222222,\"#7201a8\"],[0.3333333333333333,\"#9c179e\"],[0.4444444444444444,\"#bd3786\"],[0.5555555555555556,\"#d8576b\"],[0.6666666666666666,\"#ed7953\"],[0.7777777777777778,\"#fb9f3a\"],[0.8888888888888888,\"#fdca26\"],[1.0,\"#f0f921\"]],\"type\":\"histogram2d\"}],\"histogram2dcontour\":[{\"colorbar\":{\"outlinewidth\":0,\"ticks\":\"\"},\"colorscale\":[[0.0,\"#0d0887\"],[0.1111111111111111,\"#46039f\"],[0.2222222222222222,\"#7201a8\"],[0.3333333333333333,\"#9c179e\"],[0.4444444444444444,\"#bd3786\"],[0.5555555555555556,\"#d8576b\"],[0.6666666666666666,\"#ed7953\"],[0.7777777777777778,\"#fb9f3a\"],[0.8888888888888888,\"#fdca26\"],[1.0,\"#f0f921\"]],\"type\":\"histogram2dcontour\"}],\"mesh3d\":[{\"colorbar\":{\"outlinewidth\":0,\"ticks\":\"\"},\"type\":\"mesh3d\"}],\"parcoords\":[{\"line\":{\"colorbar\":{\"outlinewidth\":0,\"ticks\":\"\"}},\"type\":\"parcoords\"}],\"pie\":[{\"automargin\":true,\"type\":\"pie\"}],\"scatter\":[{\"marker\":{\"colorbar\":{\"outlinewidth\":0,\"ticks\":\"\"}},\"type\":\"scatter\"}],\"scatter3d\":[{\"line\":{\"colorbar\":{\"outlinewidth\":0,\"ticks\":\"\"}},\"marker\":{\"colorbar\":{\"outlinewidth\":0,\"ticks\":\"\"}},\"type\":\"scatter3d\"}],\"scattercarpet\":[{\"marker\":{\"colorbar\":{\"outlinewidth\":0,\"ticks\":\"\"}},\"type\":\"scattercarpet\"}],\"scattergeo\":[{\"marker\":{\"colorbar\":{\"outlinewidth\":0,\"ticks\":\"\"}},\"type\":\"scattergeo\"}],\"scattergl\":[{\"marker\":{\"colorbar\":{\"outlinewidth\":0,\"ticks\":\"\"}},\"type\":\"scattergl\"}],\"scattermapbox\":[{\"marker\":{\"colorbar\":{\"outlinewidth\":0,\"ticks\":\"\"}},\"type\":\"scattermapbox\"}],\"scatterpolar\":[{\"marker\":{\"colorbar\":{\"outlinewidth\":0,\"ticks\":\"\"}},\"type\":\"scatterpolar\"}],\"scatterpolargl\":[{\"marker\":{\"colorbar\":{\"outlinewidth\":0,\"ticks\":\"\"}},\"type\":\"scatterpolargl\"}],\"scatterternary\":[{\"marker\":{\"colorbar\":{\"outlinewidth\":0,\"ticks\":\"\"}},\"type\":\"scatterternary\"}],\"surface\":[{\"colorbar\":{\"outlinewidth\":0,\"ticks\":\"\"},\"colorscale\":[[0.0,\"#0d0887\"],[0.1111111111111111,\"#46039f\"],[0.2222222222222222,\"#7201a8\"],[0.3333333333333333,\"#9c179e\"],[0.4444444444444444,\"#bd3786\"],[0.5555555555555556,\"#d8576b\"],[0.6666666666666666,\"#ed7953\"],[0.7777777777777778,\"#fb9f3a\"],[0.8888888888888888,\"#fdca26\"],[1.0,\"#f0f921\"]],\"type\":\"surface\"}],\"table\":[{\"cells\":{\"fill\":{\"color\":\"#EBF0F8\"},\"line\":{\"color\":\"white\"}},\"header\":{\"fill\":{\"color\":\"#C8D4E3\"},\"line\":{\"color\":\"white\"}},\"type\":\"table\"}]},\"layout\":{\"annotationdefaults\":{\"arrowcolor\":\"#2a3f5f\",\"arrowhead\":0,\"arrowwidth\":1},\"autotypenumbers\":\"strict\",\"coloraxis\":{\"colorbar\":{\"outlinewidth\":0,\"ticks\":\"\"}},\"colorscale\":{\"diverging\":[[0,\"#8e0152\"],[0.1,\"#c51b7d\"],[0.2,\"#de77ae\"],[0.3,\"#f1b6da\"],[0.4,\"#fde0ef\"],[0.5,\"#f7f7f7\"],[0.6,\"#e6f5d0\"],[0.7,\"#b8e186\"],[0.8,\"#7fbc41\"],[0.9,\"#4d9221\"],[1,\"#276419\"]],\"sequential\":[[0.0,\"#0d0887\"],[0.1111111111111111,\"#46039f\"],[0.2222222222222222,\"#7201a8\"],[0.3333333333333333,\"#9c179e\"],[0.4444444444444444,\"#bd3786\"],[0.5555555555555556,\"#d8576b\"],[0.6666666666666666,\"#ed7953\"],[0.7777777777777778,\"#fb9f3a\"],[0.8888888888888888,\"#fdca26\"],[1.0,\"#f0f921\"]],\"sequentialminus\":[[0.0,\"#0d0887\"],[0.1111111111111111,\"#46039f\"],[0.2222222222222222,\"#7201a8\"],[0.3333333333333333,\"#9c179e\"],[0.4444444444444444,\"#bd3786\"],[0.5555555555555556,\"#d8576b\"],[0.6666666666666666,\"#ed7953\"],[0.7777777777777778,\"#fb9f3a\"],[0.8888888888888888,\"#fdca26\"],[1.0,\"#f0f921\"]]},\"colorway\":[\"#636efa\",\"#EF553B\",\"#00cc96\",\"#ab63fa\",\"#FFA15A\",\"#19d3f3\",\"#FF6692\",\"#B6E880\",\"#FF97FF\",\"#FECB52\"],\"font\":{\"color\":\"#2a3f5f\"},\"geo\":{\"bgcolor\":\"white\",\"lakecolor\":\"white\",\"landcolor\":\"#E5ECF6\",\"showlakes\":true,\"showland\":true,\"subunitcolor\":\"white\"},\"hoverlabel\":{\"align\":\"left\"},\"hovermode\":\"closest\",\"mapbox\":{\"style\":\"light\"},\"paper_bgcolor\":\"white\",\"plot_bgcolor\":\"#E5ECF6\",\"polar\":{\"angularaxis\":{\"gridcolor\":\"white\",\"linecolor\":\"white\",\"ticks\":\"\"},\"bgcolor\":\"#E5ECF6\",\"radialaxis\":{\"gridcolor\":\"white\",\"linecolor\":\"white\",\"ticks\":\"\"}},\"scene\":{\"xaxis\":{\"backgroundcolor\":\"#E5ECF6\",\"gridcolor\":\"white\",\"gridwidth\":2,\"linecolor\":\"white\",\"showbackground\":true,\"ticks\":\"\",\"zerolinecolor\":\"white\"},\"yaxis\":{\"backgroundcolor\":\"#E5ECF6\",\"gridcolor\":\"white\",\"gridwidth\":2,\"linecolor\":\"white\",\"showbackground\":true,\"ticks\":\"\",\"zerolinecolor\":\"white\"},\"zaxis\":{\"backgroundcolor\":\"#E5ECF6\",\"gridcolor\":\"white\",\"gridwidth\":2,\"linecolor\":\"white\",\"showbackground\":true,\"ticks\":\"\",\"zerolinecolor\":\"white\"}},\"shapedefaults\":{\"line\":{\"color\":\"#2a3f5f\"}},\"ternary\":{\"aaxis\":{\"gridcolor\":\"white\",\"linecolor\":\"white\",\"ticks\":\"\"},\"baxis\":{\"gridcolor\":\"white\",\"linecolor\":\"white\",\"ticks\":\"\"},\"bgcolor\":\"#E5ECF6\",\"caxis\":{\"gridcolor\":\"white\",\"linecolor\":\"white\",\"ticks\":\"\"}},\"title\":{\"x\":0.05},\"xaxis\":{\"automargin\":true,\"gridcolor\":\"white\",\"linecolor\":\"white\",\"ticks\":\"\",\"title\":{\"standoff\":15},\"zerolinecolor\":\"white\",\"zerolinewidth\":2},\"yaxis\":{\"automargin\":true,\"gridcolor\":\"white\",\"linecolor\":\"white\",\"ticks\":\"\",\"title\":{\"standoff\":15},\"zerolinecolor\":\"white\",\"zerolinewidth\":2}}},\"font\":{\"size\":18,\"color\":\"forestgreen\"},\"barmode\":\"stack\",\"title\":{\"text\":\"Nombre de labellisations\"},\"xaxis\":{\"range\":[2019,2021.5]}},                        {\"responsive\": true}                    ).then(function(){\n",
              "                            \n",
              "var gd = document.getElementById('26a5d06c-2277-422a-9708-a6aed854a668');\n",
              "var x = new MutationObserver(function (mutations, observer) {{\n",
              "        var display = window.getComputedStyle(gd).display;\n",
              "        if (!display || display === 'none') {{\n",
              "            console.log([gd, 'removed!']);\n",
              "            Plotly.purge(gd);\n",
              "            observer.disconnect();\n",
              "        }}\n",
              "}});\n",
              "\n",
              "// Listen for the removal of the full notebook cells\n",
              "var notebookContainer = gd.closest('#notebook-container');\n",
              "if (notebookContainer) {{\n",
              "    x.observe(notebookContainer, {childList: true});\n",
              "}}\n",
              "\n",
              "// Listen for the clearing of the current output cell\n",
              "var outputEl = gd.closest('.output');\n",
              "if (outputEl) {{\n",
              "    x.observe(outputEl, {childList: true});\n",
              "}}\n",
              "\n",
              "                        })                };                            </script>        </div>\n",
              "</body>\n",
              "</html>"
            ]
          },
          "metadata": {}
        }
      ]
    },
    {
      "cell_type": "code",
      "source": [
        ""
      ],
      "metadata": {
        "id": "Qc-KQTLLO1Xj"
      },
      "execution_count": null,
      "outputs": []
    },
    {
      "cell_type": "code",
      "source": [
        "detail_4.dtypes"
      ],
      "metadata": {
        "colab": {
          "base_uri": "https://localhost:8080/"
        },
        "id": "-nMMgXp5PjRG",
        "outputId": "b9a916f3-1d6c-41f4-f027-8098b5f7b147"
      },
      "execution_count": null,
      "outputs": [
        {
          "output_type": "execute_result",
          "data": {
            "text/plain": [
              "mesure                         object\n",
              "indicateur                     object\n",
              "id_indicateur                  object\n",
              "code_departement               object\n",
              "libelle_departement            object\n",
              "date                   datetime64[ns]\n",
              "valeur                          int64\n",
              "unite                          object\n",
              "dtype: object"
            ]
          },
          "metadata": {},
          "execution_count": 212
        }
      ]
    },
    {
      "cell_type": "code",
      "source": [
        "# Evolution des labellisations par département\n",
        "\n",
        "n = input('Entrer le numéro du département :')\n",
        "\n",
        "df_det_dept = detail_4[detail_4['code_departement']==n].reset_index(drop = True)\n",
        "\n",
        "fig3 = plt.figure(figsize= (20,8))\n",
        "fig3 = sns.lineplot(data=df_det_dept, x = 'date', y = 'valeur', palette = 'viridis')\n",
        "fig3 = sns.lineplot(data = pd.DataFrame(detail_4.groupby(by='date').valeur.agg('mean')), x = 'date', y = 'valeur' )\n",
        "fig3 = plt.title (f'Evolution labellisations France service - {n}', size = 16)\n",
        "fig3 = plt.legend([f'{n}','moyenne nationale'])\n",
        "fig3 = plt.xlabel('')\n",
        "fig3 = plt.ylabel('Nombre de labellisations')\n",
        "fig3 = plt.xticks(rotation='vertical')\n",
        "plt.show"
      ],
      "metadata": {
        "colab": {
          "base_uri": "https://localhost:8080/",
          "height": 566
        },
        "outputId": "af34d05a-5886-4ec2-c30a-179ab832e712",
        "id": "t9fCgxxjOI6V"
      },
      "execution_count": null,
      "outputs": [
        {
          "name": "stdout",
          "output_type": "stream",
          "text": [
            "Entrer le numéro du département :56\n"
          ]
        },
        {
          "output_type": "execute_result",
          "data": {
            "text/plain": [
              "<function matplotlib.pyplot.show>"
            ]
          },
          "metadata": {},
          "execution_count": 223
        },
        {
          "output_type": "display_data",
          "data": {
            "image/png": "[encoded data removed]",
            "text/plain": [
              "<Figure size 1440x576 with 1 Axes>"
            ]
          },
          "metadata": {
            "needs_background": "light"
          }
        }
      ]
    },
    {
      "cell_type": "markdown",
      "source": [
        "## Taux d'avancement"
      ],
      "metadata": {
        "id": "pJlHKv3jQM-b"
      }
    },
    {
      "cell_type": "code",
      "source": [
        "df_4.date_valeur_initiale.unique()"
      ],
      "metadata": {
        "colab": {
          "base_uri": "https://localhost:8080/"
        },
        "id": "_CJZVg-TSyEz",
        "outputId": "a2820499-4fe7-45ae-9ee9-c45932bea015"
      },
      "execution_count": null,
      "outputs": [
        {
          "output_type": "execute_result",
          "data": {
            "text/plain": [
              "array([2020])"
            ]
          },
          "metadata": {},
          "execution_count": 230
        }
      ]
    },
    {
      "cell_type": "code",
      "source": [
        "df_4.progression_derniere_maj_date.value_counts()"
      ],
      "metadata": {
        "colab": {
          "base_uri": "https://localhost:8080/"
        },
        "id": "oXYUO6vRS7ry",
        "outputId": "f1cc4107-8cc8-40bb-dd58-995c8b0c37eb"
      },
      "execution_count": null,
      "outputs": [
        {
          "output_type": "execute_result",
          "data": {
            "text/plain": [
              "2020    100\n",
              "0         1\n",
              "Name: progression_derniere_maj_date, dtype: int64"
            ]
          },
          "metadata": {},
          "execution_count": 232
        }
      ]
    },
    {
      "cell_type": "code",
      "source": [
        "fig7, ax = plt.subplots(figsize = (30,10))\n",
        "fig7.suptitle('Labellisations France service', fontsize=16)\n",
        "\n",
        "ax1 = plt.subplot(131)\n",
        "ax1 = sns.scatterplot(data = df_4, x = \"valeur_actuelle\", y = \"cible\",color = 'indigo')\n",
        "ax1.set_title(\"Actuellement\")\n",
        "\n",
        "ax2 = plt.subplot(132)\n",
        "ax2 = sns.scatterplot(data = df_4, x = \"progression_derniere_maj\", y = \"cible\", color = 'mediumaquamarine')\n",
        "ax2.set_title(\"En 2020\")\n",
        "\n",
        "ax3 = plt.subplot(133)\n",
        "ax3 = sns.scatterplot(data = df_4, x = \"valeur_initiale\", y = \"cible\",color = 'gold')\n",
        "ax3.set_title(\"En 2020 (valeur initiale)\")\n",
        "\n",
        "fig7.show()"
      ],
      "metadata": {
        "colab": {
          "base_uri": "https://localhost:8080/",
          "height": 669
        },
        "id": "ns5YSKxHRHZs",
        "outputId": "c66103e1-19c5-481d-960e-470dce28a5eb"
      },
      "execution_count": null,
      "outputs": [
        {
          "output_type": "display_data",
          "data": {
            "image/png": "[encoded data removed]",
            "text/plain": [
              "<Figure size 2160x720 with 3 Axes>"
            ]
          },
          "metadata": {
            "needs_background": "light"
          }
        }
      ]
    },
    {
      "cell_type": "code",
      "source": [
        "# quels sont les taux d'avancement\n",
        "\n",
        "fig8, ax = plt.subplots(figsize = (20,8))\n",
        "fig8.suptitle('Labellisations France service', fontsize=16)\n",
        "\n",
        "ax1 = plt.subplot(121)\n",
        "ax1 = sns.histplot(df_4.pourcentage_cible,color = 'indigo',shrink=0.8,  multiple=\"dodge\", kde=True, bins = 20)\n",
        "ax1.set_title(\"Actuellement (1er trimestre 2022)\")\n",
        "ax1.set_ylim(ymax = 19)\n",
        "\n",
        "ax2 = plt.subplot(122)\n",
        "ax2 = sns.histplot(data = df_4[\"progression_derniere_maj\"]/df_4['cible']*100,color = 'mediumaquamarine', shrink=0.8,  multiple=\"dodge\", kde=True, bins = 20)\n",
        "ax2.set_title(\"En 2020\")\n",
        "ax2.set_ylim(ymax = 19)\n",
        "\n",
        "fig8.show()\n"
      ],
      "metadata": {
        "colab": {
          "base_uri": "https://localhost:8080/",
          "height": 554
        },
        "id": "T9FW4UKNUzRx",
        "outputId": "a7a345b1-958d-430d-b533-3a4ce1243859"
      },
      "execution_count": null,
      "outputs": [
        {
          "output_type": "display_data",
          "data": {
            "image/png": "[encoded data removed]",
            "text/plain": [
              "<Figure size 1440x576 with 2 Axes>"
            ]
          },
          "metadata": {
            "needs_background": "light"
          }
        }
      ]
    },
    {
      "cell_type": "code",
      "source": [
        "print(\"Nombre de département ayant un taux d'avancement de plus de 80% :\",len(df_4[df_4['pourcentage_cible']>=80]),'soit',round(len(df_4[df_4['pourcentage_cible']>=80])/len(df_4)*100,2),'% des départements français.')"
      ],
      "metadata": {
        "colab": {
          "base_uri": "https://localhost:8080/"
        },
        "id": "MhCpxGzjV9Bf",
        "outputId": "6d6b81e0-ab4b-41af-b787-99ea2e2c9a16"
      },
      "execution_count": null,
      "outputs": [
        {
          "output_type": "stream",
          "name": "stdout",
          "text": [
            "Nombre de département ayant un taux d'avancement de plus de 80% : 45 soit 44.55 % des départements français.\n"
          ]
        }
      ]
    },
    {
      "cell_type": "markdown",
      "source": [
        "Une évolution que l'on ne peut juger que sur 2 années mais une évolution très rapide puisque 45% des départements ont aujourd'hui un taux d'avancement élevé (+ de 80%).\n",
        "\n",
        "Entre 2020 et 2022, il y a un étalement des valeurs vers des taux plus élevés. On va donc dans le sens d'une convergence des départements pour cette mesure."
      ],
      "metadata": {
        "id": "3VI2bjFVV1Ph"
      }
    },
    {
      "cell_type": "code",
      "source": [
        "detail_4.to_csv('service-detail.csv', index = False)\n",
        "df_4.to_csv('service.csv', index = False)"
      ],
      "metadata": {
        "id": "9tzhT6WVKyrD"
      },
      "execution_count": null,
      "outputs": []
    },
    {
      "cell_type": "markdown",
      "source": [
        "# Simplifier l’accès aux droits des personnes handicapées\n",
        "\n",
        "indicateur : Durée moyenne de traitement pour les demandes d’allocation adulte handicapé"
      ],
      "metadata": {
        "id": "VoOwN_bEQOQT"
      }
    },
    {
      "cell_type": "code",
      "source": [
        "df_5 = df[df['mesure']== 'Simplifier l’accès aux droits des personnes handicapées'].reset_index(drop = True)\n",
        "df_5.head(3)"
      ],
      "metadata": {
        "colab": {
          "base_uri": "https://localhost:8080/",
          "height": 520
        },
        "outputId": "13adad03-0e13-4a5a-9919-c5af7c92f43c",
        "id": "uOHqCy5JQOQT"
      },
      "execution_count": null,
      "outputs": [
        {
          "output_type": "execute_result",
          "data": {
            "text/html": [
              "\n",
              "  <div id=\"df-38d8bca2-3cc2-4a1e-a568-04eb87b2fc58\">\n",
              "    <div class=\"colab-df-container\">\n",
              "      <div>\n",
              "<style scoped>\n",
              "    .dataframe tbody tr th:only-of-type {\n",
              "        vertical-align: middle;\n",
              "    }\n",
              "\n",
              "    .dataframe tbody tr th {\n",
              "        vertical-align: top;\n",
              "    }\n",
              "\n",
              "    .dataframe thead th {\n",
              "        text-align: right;\n",
              "    }\n",
              "</style>\n",
              "<table border=\"1\" class=\"dataframe\">\n",
              "  <thead>\n",
              "    <tr style=\"text-align: right;\">\n",
              "      <th></th>\n",
              "      <th>mesure</th>\n",
              "      <th>indicateur</th>\n",
              "      <th>id_indicateur</th>\n",
              "      <th>code_departement</th>\n",
              "      <th>libelle_departement</th>\n",
              "      <th>valeur_actuelle</th>\n",
              "      <th>date_valeur_actuelle</th>\n",
              "      <th>valeur_initiale</th>\n",
              "      <th>date_valeur_initiale</th>\n",
              "      <th>progression</th>\n",
              "      <th>pourcentage_progression</th>\n",
              "      <th>progression_derniere_maj</th>\n",
              "      <th>pourcentage_progression_derniere_maj</th>\n",
              "      <th>progression_derniere_maj_date</th>\n",
              "      <th>cible</th>\n",
              "      <th>pourcentage_cible</th>\n",
              "      <th>date_cible</th>\n",
              "      <th>unite</th>\n",
              "    </tr>\n",
              "  </thead>\n",
              "  <tbody>\n",
              "    <tr>\n",
              "      <th>0</th>\n",
              "      <td>Simplifier l’accès aux droits des personnes ha...</td>\n",
              "      <td>Durée moyenne de traitement pour les demandes ...</td>\n",
              "      <td>duree-moyenne-traitement-demandes-allocation-a...</td>\n",
              "      <td>01</td>\n",
              "      <td>Ain</td>\n",
              "      <td>4.81</td>\n",
              "      <td>2021-06-30</td>\n",
              "      <td>4.4</td>\n",
              "      <td>2017-12-31</td>\n",
              "      <td>0.0</td>\n",
              "      <td>9.0</td>\n",
              "      <td>6.2</td>\n",
              "      <td>-22.0</td>\n",
              "      <td>2020-09-30</td>\n",
              "      <td>3.0</td>\n",
              "      <td>0.0</td>\n",
              "      <td>2022-12-31</td>\n",
              "      <td>mois de traitement</td>\n",
              "    </tr>\n",
              "    <tr>\n",
              "      <th>1</th>\n",
              "      <td>Simplifier l’accès aux droits des personnes ha...</td>\n",
              "      <td>Durée moyenne de traitement pour les demandes ...</td>\n",
              "      <td>duree-moyenne-traitement-demandes-allocation-a...</td>\n",
              "      <td>02</td>\n",
              "      <td>Aisne</td>\n",
              "      <td>5.33</td>\n",
              "      <td>2021-06-30</td>\n",
              "      <td>4.5</td>\n",
              "      <td>2017-12-31</td>\n",
              "      <td>1.0</td>\n",
              "      <td>18.0</td>\n",
              "      <td>5.9</td>\n",
              "      <td>-10.0</td>\n",
              "      <td>2019-12-31</td>\n",
              "      <td>3.0</td>\n",
              "      <td>0.0</td>\n",
              "      <td>2022-12-31</td>\n",
              "      <td>mois de traitement</td>\n",
              "    </tr>\n",
              "    <tr>\n",
              "      <th>2</th>\n",
              "      <td>Simplifier l’accès aux droits des personnes ha...</td>\n",
              "      <td>Durée moyenne de traitement pour les demandes ...</td>\n",
              "      <td>duree-moyenne-traitement-demandes-allocation-a...</td>\n",
              "      <td>03</td>\n",
              "      <td>Allier</td>\n",
              "      <td>5.10</td>\n",
              "      <td>2021-06-30</td>\n",
              "      <td>4.3</td>\n",
              "      <td>2017-12-31</td>\n",
              "      <td>1.0</td>\n",
              "      <td>19.0</td>\n",
              "      <td>6.9</td>\n",
              "      <td>-26.0</td>\n",
              "      <td>2020-09-30</td>\n",
              "      <td>3.0</td>\n",
              "      <td>0.0</td>\n",
              "      <td>2022-12-31</td>\n",
              "      <td>mois de traitement</td>\n",
              "    </tr>\n",
              "  </tbody>\n",
              "</table>\n",
              "</div>\n",
              "      <button class=\"colab-df-convert\" onclick=\"convertToInteractive('df-38d8bca2-3cc2-4a1e-a568-04eb87b2fc58')\"\n",
              "              title=\"Convert this dataframe to an interactive table.\"\n",
              "              style=\"display:none;\">\n",
              "        \n",
              "  <svg xmlns=\"http://www.w3.org/2000/svg\" height=\"24px\"viewBox=\"0 0 24 24\"\n",
              "       width=\"24px\">\n",
              "    <path d=\"M0 0h24v24H0V0z\" fill=\"none\"/>\n",
              "    <path d=\"M18.56 5.44l.94 2.06.94-2.06 2.06-.94-2.06-.94-.94-2.06-.94 2.06-2.06.94zm-11 1L8.5 8.5l.94-2.06 2.06-.94-2.06-.94L8.5 2.5l-.94 2.06-2.06.94zm10 10l.94 2.06.94-2.06 2.06-.94-2.06-.94-.94-2.06-.94 2.06-2.06.94z\"/><path d=\"M17.41 7.96l-1.37-1.37c-.4-.4-.92-.59-1.43-.59-.52 0-1.04.2-1.43.59L10.3 9.45l-7.72 7.72c-.78.78-.78 2.05 0 2.83L4 21.41c.39.39.9.59 1.41.59.51 0 1.02-.2 1.41-.59l7.78-7.78 2.81-2.81c.8-.78.8-2.07 0-2.86zM5.41 20L4 18.59l7.72-7.72 1.47 1.35L5.41 20z\"/>\n",
              "  </svg>\n",
              "      </button>\n",
              "      \n",
              "  <style>\n",
              "    .colab-df-container {\n",
              "      display:flex;\n",
              "      flex-wrap:wrap;\n",
              "      gap: 12px;\n",
              "    }\n",
              "\n",
              "    .colab-df-convert {\n",
              "      background-color: #E8F0FE;\n",
              "      border: none;\n",
              "      border-radius: 50%;\n",
              "      cursor: pointer;\n",
              "      display: none;\n",
              "      fill: #1967D2;\n",
              "      height: 32px;\n",
              "      padding: 0 0 0 0;\n",
              "      width: 32px;\n",
              "    }\n",
              "\n",
              "    .colab-df-convert:hover {\n",
              "      background-color: #E2EBFA;\n",
              "      box-shadow: 0px 1px 2px rgba(60, 64, 67, 0.3), 0px 1px 3px 1px rgba(60, 64, 67, 0.15);\n",
              "      fill: #174EA6;\n",
              "    }\n",
              "\n",
              "    [theme=dark] .colab-df-convert {\n",
              "      background-color: #3B4455;\n",
              "      fill: #D2E3FC;\n",
              "    }\n",
              "\n",
              "    [theme=dark] .colab-df-convert:hover {\n",
              "      background-color: #434B5C;\n",
              "      box-shadow: 0px 1px 3px 1px rgba(0, 0, 0, 0.15);\n",
              "      filter: drop-shadow(0px 1px 2px rgba(0, 0, 0, 0.3));\n",
              "      fill: #FFFFFF;\n",
              "    }\n",
              "  </style>\n",
              "\n",
              "      <script>\n",
              "        const buttonEl =\n",
              "          document.querySelector('#df-38d8bca2-3cc2-4a1e-a568-04eb87b2fc58 button.colab-df-convert');\n",
              "        buttonEl.style.display =\n",
              "          google.colab.kernel.accessAllowed ? 'block' : 'none';\n",
              "\n",
              "        async function convertToInteractive(key) {\n",
              "          const element = document.querySelector('#df-38d8bca2-3cc2-4a1e-a568-04eb87b2fc58');\n",
              "          const dataTable =\n",
              "            await google.colab.kernel.invokeFunction('convertToInteractive',\n",
              "                                                     [key], {});\n",
              "          if (!dataTable) return;\n",
              "\n",
              "          const docLinkHtml = 'Like what you see? Visit the ' +\n",
              "            '<a target=\"_blank\" href=https://colab.research.google.com/notebooks/data_table.ipynb>data table notebook</a>'\n",
              "            + ' to learn more about interactive tables.';\n",
              "          element.innerHTML = '';\n",
              "          dataTable['output_type'] = 'display_data';\n",
              "          await google.colab.output.renderOutput(dataTable, element);\n",
              "          const docLink = document.createElement('div');\n",
              "          docLink.innerHTML = docLinkHtml;\n",
              "          element.appendChild(docLink);\n",
              "        }\n",
              "      </script>\n",
              "    </div>\n",
              "  </div>\n",
              "  "
            ],
            "text/plain": [
              "                                              mesure  ...               unite\n",
              "0  Simplifier l’accès aux droits des personnes ha...  ...  mois de traitement\n",
              "1  Simplifier l’accès aux droits des personnes ha...  ...  mois de traitement\n",
              "2  Simplifier l’accès aux droits des personnes ha...  ...  mois de traitement\n",
              "\n",
              "[3 rows x 18 columns]"
            ]
          },
          "metadata": {},
          "execution_count": 5
        }
      ]
    },
    {
      "cell_type": "code",
      "source": [
        "detail_5 = detail[detail['mesure']== 'Simplifier l’accès aux droits des personnes handicapées'].reset_index(drop = True)\n",
        "detail_5"
      ],
      "metadata": {
        "colab": {
          "base_uri": "https://localhost:8080/",
          "height": 641
        },
        "outputId": "1538336a-71e2-402d-e3c1-5a1e8327f581",
        "id": "cWGkGdQdQOQU"
      },
      "execution_count": null,
      "outputs": [
        {
          "output_type": "execute_result",
          "data": {
            "text/html": [
              "\n",
              "  <div id=\"df-8b4f951c-62b7-47ca-a2cf-007631ddb0ba\">\n",
              "    <div class=\"colab-df-container\">\n",
              "      <div>\n",
              "<style scoped>\n",
              "    .dataframe tbody tr th:only-of-type {\n",
              "        vertical-align: middle;\n",
              "    }\n",
              "\n",
              "    .dataframe tbody tr th {\n",
              "        vertical-align: top;\n",
              "    }\n",
              "\n",
              "    .dataframe thead th {\n",
              "        text-align: right;\n",
              "    }\n",
              "</style>\n",
              "<table border=\"1\" class=\"dataframe\">\n",
              "  <thead>\n",
              "    <tr style=\"text-align: right;\">\n",
              "      <th></th>\n",
              "      <th>mesure</th>\n",
              "      <th>indicateur</th>\n",
              "      <th>id_indicateur</th>\n",
              "      <th>code_departement</th>\n",
              "      <th>libelle_departement</th>\n",
              "      <th>date</th>\n",
              "      <th>valeur</th>\n",
              "      <th>unite</th>\n",
              "    </tr>\n",
              "  </thead>\n",
              "  <tbody>\n",
              "    <tr>\n",
              "      <th>0</th>\n",
              "      <td>Simplifier l’accès aux droits des personnes ha...</td>\n",
              "      <td>Durée moyenne de traitement pour les demandes ...</td>\n",
              "      <td>duree-moyenne-traitement-demandes-allocation-a...</td>\n",
              "      <td>01</td>\n",
              "      <td>Ain</td>\n",
              "      <td>2017-12-31</td>\n",
              "      <td>4.40</td>\n",
              "      <td>mois de traitement</td>\n",
              "    </tr>\n",
              "    <tr>\n",
              "      <th>1</th>\n",
              "      <td>Simplifier l’accès aux droits des personnes ha...</td>\n",
              "      <td>Durée moyenne de traitement pour les demandes ...</td>\n",
              "      <td>duree-moyenne-traitement-demandes-allocation-a...</td>\n",
              "      <td>01</td>\n",
              "      <td>Ain</td>\n",
              "      <td>2018-12-31</td>\n",
              "      <td>5.10</td>\n",
              "      <td>mois de traitement</td>\n",
              "    </tr>\n",
              "    <tr>\n",
              "      <th>2</th>\n",
              "      <td>Simplifier l’accès aux droits des personnes ha...</td>\n",
              "      <td>Durée moyenne de traitement pour les demandes ...</td>\n",
              "      <td>duree-moyenne-traitement-demandes-allocation-a...</td>\n",
              "      <td>01</td>\n",
              "      <td>Ain</td>\n",
              "      <td>2019-12-31</td>\n",
              "      <td>0.00</td>\n",
              "      <td>mois de traitement</td>\n",
              "    </tr>\n",
              "    <tr>\n",
              "      <th>3</th>\n",
              "      <td>Simplifier l’accès aux droits des personnes ha...</td>\n",
              "      <td>Durée moyenne de traitement pour les demandes ...</td>\n",
              "      <td>duree-moyenne-traitement-demandes-allocation-a...</td>\n",
              "      <td>01</td>\n",
              "      <td>Ain</td>\n",
              "      <td>2020-09-30</td>\n",
              "      <td>6.20</td>\n",
              "      <td>mois de traitement</td>\n",
              "    </tr>\n",
              "    <tr>\n",
              "      <th>4</th>\n",
              "      <td>Simplifier l’accès aux droits des personnes ha...</td>\n",
              "      <td>Durée moyenne de traitement pour les demandes ...</td>\n",
              "      <td>duree-moyenne-traitement-demandes-allocation-a...</td>\n",
              "      <td>01</td>\n",
              "      <td>Ain</td>\n",
              "      <td>2020-12-31</td>\n",
              "      <td>4.80</td>\n",
              "      <td>mois de traitement</td>\n",
              "    </tr>\n",
              "    <tr>\n",
              "      <th>...</th>\n",
              "      <td>...</td>\n",
              "      <td>...</td>\n",
              "      <td>...</td>\n",
              "      <td>...</td>\n",
              "      <td>...</td>\n",
              "      <td>...</td>\n",
              "      <td>...</td>\n",
              "      <td>...</td>\n",
              "    </tr>\n",
              "    <tr>\n",
              "      <th>592</th>\n",
              "      <td>Simplifier l’accès aux droits des personnes ha...</td>\n",
              "      <td>Durée moyenne de traitement pour les demandes ...</td>\n",
              "      <td>duree-moyenne-traitement-demandes-allocation-a...</td>\n",
              "      <td>974</td>\n",
              "      <td>La Réunion</td>\n",
              "      <td>2021-03-31</td>\n",
              "      <td>4.43</td>\n",
              "      <td>mois de traitement</td>\n",
              "    </tr>\n",
              "    <tr>\n",
              "      <th>593</th>\n",
              "      <td>Simplifier l’accès aux droits des personnes ha...</td>\n",
              "      <td>Durée moyenne de traitement pour les demandes ...</td>\n",
              "      <td>duree-moyenne-traitement-demandes-allocation-a...</td>\n",
              "      <td>974</td>\n",
              "      <td>La Réunion</td>\n",
              "      <td>2021-06-30</td>\n",
              "      <td>4.40</td>\n",
              "      <td>mois de traitement</td>\n",
              "    </tr>\n",
              "    <tr>\n",
              "      <th>594</th>\n",
              "      <td>Simplifier l’accès aux droits des personnes ha...</td>\n",
              "      <td>Durée moyenne de traitement pour les demandes ...</td>\n",
              "      <td>duree-moyenne-traitement-demandes-allocation-a...</td>\n",
              "      <td>976</td>\n",
              "      <td>Mayotte</td>\n",
              "      <td>2020-09-30</td>\n",
              "      <td>9.60</td>\n",
              "      <td>mois de traitement</td>\n",
              "    </tr>\n",
              "    <tr>\n",
              "      <th>595</th>\n",
              "      <td>Simplifier l’accès aux droits des personnes ha...</td>\n",
              "      <td>Durée moyenne de traitement pour les demandes ...</td>\n",
              "      <td>duree-moyenne-traitement-demandes-allocation-a...</td>\n",
              "      <td>976</td>\n",
              "      <td>Mayotte</td>\n",
              "      <td>2021-03-31</td>\n",
              "      <td>4.50</td>\n",
              "      <td>mois de traitement</td>\n",
              "    </tr>\n",
              "    <tr>\n",
              "      <th>596</th>\n",
              "      <td>Simplifier l’accès aux droits des personnes ha...</td>\n",
              "      <td>Durée moyenne de traitement pour les demandes ...</td>\n",
              "      <td>duree-moyenne-traitement-demandes-allocation-a...</td>\n",
              "      <td>976</td>\n",
              "      <td>Mayotte</td>\n",
              "      <td>2021-06-30</td>\n",
              "      <td>2.20</td>\n",
              "      <td>mois de traitement</td>\n",
              "    </tr>\n",
              "  </tbody>\n",
              "</table>\n",
              "<p>597 rows × 8 columns</p>\n",
              "</div>\n",
              "      <button class=\"colab-df-convert\" onclick=\"convertToInteractive('df-8b4f951c-62b7-47ca-a2cf-007631ddb0ba')\"\n",
              "              title=\"Convert this dataframe to an interactive table.\"\n",
              "              style=\"display:none;\">\n",
              "        \n",
              "  <svg xmlns=\"http://www.w3.org/2000/svg\" height=\"24px\"viewBox=\"0 0 24 24\"\n",
              "       width=\"24px\">\n",
              "    <path d=\"M0 0h24v24H0V0z\" fill=\"none\"/>\n",
              "    <path d=\"M18.56 5.44l.94 2.06.94-2.06 2.06-.94-2.06-.94-.94-2.06-.94 2.06-2.06.94zm-11 1L8.5 8.5l.94-2.06 2.06-.94-2.06-.94L8.5 2.5l-.94 2.06-2.06.94zm10 10l.94 2.06.94-2.06 2.06-.94-2.06-.94-.94-2.06-.94 2.06-2.06.94z\"/><path d=\"M17.41 7.96l-1.37-1.37c-.4-.4-.92-.59-1.43-.59-.52 0-1.04.2-1.43.59L10.3 9.45l-7.72 7.72c-.78.78-.78 2.05 0 2.83L4 21.41c.39.39.9.59 1.41.59.51 0 1.02-.2 1.41-.59l7.78-7.78 2.81-2.81c.8-.78.8-2.07 0-2.86zM5.41 20L4 18.59l7.72-7.72 1.47 1.35L5.41 20z\"/>\n",
              "  </svg>\n",
              "      </button>\n",
              "      \n",
              "  <style>\n",
              "    .colab-df-container {\n",
              "      display:flex;\n",
              "      flex-wrap:wrap;\n",
              "      gap: 12px;\n",
              "    }\n",
              "\n",
              "    .colab-df-convert {\n",
              "      background-color: #E8F0FE;\n",
              "      border: none;\n",
              "      border-radius: 50%;\n",
              "      cursor: pointer;\n",
              "      display: none;\n",
              "      fill: #1967D2;\n",
              "      height: 32px;\n",
              "      padding: 0 0 0 0;\n",
              "      width: 32px;\n",
              "    }\n",
              "\n",
              "    .colab-df-convert:hover {\n",
              "      background-color: #E2EBFA;\n",
              "      box-shadow: 0px 1px 2px rgba(60, 64, 67, 0.3), 0px 1px 3px 1px rgba(60, 64, 67, 0.15);\n",
              "      fill: #174EA6;\n",
              "    }\n",
              "\n",
              "    [theme=dark] .colab-df-convert {\n",
              "      background-color: #3B4455;\n",
              "      fill: #D2E3FC;\n",
              "    }\n",
              "\n",
              "    [theme=dark] .colab-df-convert:hover {\n",
              "      background-color: #434B5C;\n",
              "      box-shadow: 0px 1px 3px 1px rgba(0, 0, 0, 0.15);\n",
              "      filter: drop-shadow(0px 1px 2px rgba(0, 0, 0, 0.3));\n",
              "      fill: #FFFFFF;\n",
              "    }\n",
              "  </style>\n",
              "\n",
              "      <script>\n",
              "        const buttonEl =\n",
              "          document.querySelector('#df-8b4f951c-62b7-47ca-a2cf-007631ddb0ba button.colab-df-convert');\n",
              "        buttonEl.style.display =\n",
              "          google.colab.kernel.accessAllowed ? 'block' : 'none';\n",
              "\n",
              "        async function convertToInteractive(key) {\n",
              "          const element = document.querySelector('#df-8b4f951c-62b7-47ca-a2cf-007631ddb0ba');\n",
              "          const dataTable =\n",
              "            await google.colab.kernel.invokeFunction('convertToInteractive',\n",
              "                                                     [key], {});\n",
              "          if (!dataTable) return;\n",
              "\n",
              "          const docLinkHtml = 'Like what you see? Visit the ' +\n",
              "            '<a target=\"_blank\" href=https://colab.research.google.com/notebooks/data_table.ipynb>data table notebook</a>'\n",
              "            + ' to learn more about interactive tables.';\n",
              "          element.innerHTML = '';\n",
              "          dataTable['output_type'] = 'display_data';\n",
              "          await google.colab.output.renderOutput(dataTable, element);\n",
              "          const docLink = document.createElement('div');\n",
              "          docLink.innerHTML = docLinkHtml;\n",
              "          element.appendChild(docLink);\n",
              "        }\n",
              "      </script>\n",
              "    </div>\n",
              "  </div>\n",
              "  "
            ],
            "text/plain": [
              "                                                mesure  ...               unite\n",
              "0    Simplifier l’accès aux droits des personnes ha...  ...  mois de traitement\n",
              "1    Simplifier l’accès aux droits des personnes ha...  ...  mois de traitement\n",
              "2    Simplifier l’accès aux droits des personnes ha...  ...  mois de traitement\n",
              "3    Simplifier l’accès aux droits des personnes ha...  ...  mois de traitement\n",
              "4    Simplifier l’accès aux droits des personnes ha...  ...  mois de traitement\n",
              "..                                                 ...  ...                 ...\n",
              "592  Simplifier l’accès aux droits des personnes ha...  ...  mois de traitement\n",
              "593  Simplifier l’accès aux droits des personnes ha...  ...  mois de traitement\n",
              "594  Simplifier l’accès aux droits des personnes ha...  ...  mois de traitement\n",
              "595  Simplifier l’accès aux droits des personnes ha...  ...  mois de traitement\n",
              "596  Simplifier l’accès aux droits des personnes ha...  ...  mois de traitement\n",
              "\n",
              "[597 rows x 8 columns]"
            ]
          },
          "metadata": {},
          "execution_count": 6
        }
      ]
    },
    {
      "cell_type": "code",
      "source": [
        "df_5.indicateur[0]"
      ],
      "metadata": {
        "colab": {
          "base_uri": "https://localhost:8080/",
          "height": 34
        },
        "id": "qePtz2_2Xetm",
        "outputId": "38c975a9-c30d-4dda-903c-f7f602e5582a"
      },
      "execution_count": null,
      "outputs": [
        {
          "output_type": "execute_result",
          "data": {
            "application/vnd.google.colaboratory.intrinsic+json": {
              "type": "string"
            },
            "text/plain": [
              "'Durée moyenne de traitement pour les demandes d’allocation adulte handicapé'"
            ]
          },
          "metadata": {},
          "execution_count": 7
        }
      ]
    },
    {
      "cell_type": "markdown",
      "source": [
        "## Fill na, types"
      ],
      "metadata": {
        "id": "zsT7nC2zXTRJ"
      }
    },
    {
      "cell_type": "code",
      "source": [
        "# Je vérifie les types de données des colonnes\n",
        "df_5.dtypes"
      ],
      "metadata": {
        "colab": {
          "base_uri": "https://localhost:8080/"
        },
        "outputId": "4dfb5b37-1ba0-41e9-a18b-18b4de803f11",
        "id": "LiKdU2_-QOQU"
      },
      "execution_count": null,
      "outputs": [
        {
          "output_type": "execute_result",
          "data": {
            "text/plain": [
              "mesure                                   object\n",
              "indicateur                               object\n",
              "id_indicateur                            object\n",
              "code_departement                         object\n",
              "libelle_departement                      object\n",
              "valeur_actuelle                         float64\n",
              "date_valeur_actuelle                     object\n",
              "valeur_initiale                         float64\n",
              "date_valeur_initiale                     object\n",
              "progression                             float64\n",
              "pourcentage_progression                 float64\n",
              "progression_derniere_maj                float64\n",
              "pourcentage_progression_derniere_maj    float64\n",
              "progression_derniere_maj_date            object\n",
              "cible                                   float64\n",
              "pourcentage_cible                       float64\n",
              "date_cible                               object\n",
              "unite                                    object\n",
              "dtype: object"
            ]
          },
          "metadata": {},
          "execution_count": 254
        }
      ]
    },
    {
      "cell_type": "code",
      "source": [
        "# Je vérifie les types de données des colonnes\n",
        "detail_5.dtypes"
      ],
      "metadata": {
        "colab": {
          "base_uri": "https://localhost:8080/"
        },
        "outputId": "e51a3b70-4e0c-4796-d41b-bf0bdd9c6f0a",
        "id": "-22ywBPhQOQV"
      },
      "execution_count": null,
      "outputs": [
        {
          "output_type": "execute_result",
          "data": {
            "text/plain": [
              "mesure                 object\n",
              "indicateur             object\n",
              "id_indicateur          object\n",
              "code_departement       object\n",
              "libelle_departement    object\n",
              "date                   object\n",
              "valeur                  int64\n",
              "unite                  object\n",
              "dtype: object"
            ]
          },
          "metadata": {},
          "execution_count": 255
        }
      ]
    },
    {
      "cell_type": "code",
      "source": [
        "df_5.isnull().sum()"
      ],
      "metadata": {
        "colab": {
          "base_uri": "https://localhost:8080/"
        },
        "outputId": "5bb3c61d-32f2-43c8-d87b-7126935d3859",
        "id": "43Q-G68iQOQW"
      },
      "execution_count": null,
      "outputs": [
        {
          "output_type": "execute_result",
          "data": {
            "text/plain": [
              "mesure                                  0\n",
              "indicateur                              0\n",
              "id_indicateur                           0\n",
              "code_departement                        0\n",
              "libelle_departement                     0\n",
              "valeur_actuelle                         0\n",
              "date_valeur_actuelle                    0\n",
              "valeur_initiale                         0\n",
              "date_valeur_initiale                    0\n",
              "progression                             0\n",
              "pourcentage_progression                 0\n",
              "progression_derniere_maj                5\n",
              "pourcentage_progression_derniere_maj    5\n",
              "progression_derniere_maj_date           5\n",
              "cible                                   0\n",
              "pourcentage_cible                       1\n",
              "date_cible                              0\n",
              "unite                                   0\n",
              "dtype: int64"
            ]
          },
          "metadata": {},
          "execution_count": 258
        }
      ]
    },
    {
      "cell_type": "code",
      "source": [
        "df_5.fillna(0,inplace = True)"
      ],
      "metadata": {
        "id": "436tkhHEQOQW"
      },
      "execution_count": null,
      "outputs": []
    },
    {
      "cell_type": "code",
      "source": [
        "df_5.cible.value_counts()"
      ],
      "metadata": {
        "colab": {
          "base_uri": "https://localhost:8080/"
        },
        "id": "3Wn6RfLhlYBJ",
        "outputId": "140b17ca-c88a-47d0-a5cd-35367c449475"
      },
      "execution_count": null,
      "outputs": [
        {
          "output_type": "execute_result",
          "data": {
            "text/plain": [
              "3.00    97\n",
              "3.01     3\n",
              "Name: cible, dtype: int64"
            ]
          },
          "metadata": {},
          "execution_count": 9
        }
      ]
    },
    {
      "cell_type": "code",
      "source": [
        "# pour quoi 3 dept à 3.01? sûrement une erreur, je passe tout à 3\n",
        "\n",
        "df_5['cible'] = 3"
      ],
      "metadata": {
        "id": "ZSEnPT9Hlaww"
      },
      "execution_count": null,
      "outputs": []
    },
    {
      "cell_type": "code",
      "source": [
        "df_5['date_valeur_initiale'] = df_5['date_valeur_initiale'].apply(lambda x : datetime.strptime(str(x),'%Y-%m-%d') if x !=0 else 0)\n",
        "df_5['date_valeur_actuelle'] = df_5['date_valeur_actuelle'].apply(lambda x : datetime.strptime(str(x),'%Y-%m-%d')if x !=0 else 0)\n",
        "df_5['progression_derniere_maj_date'] = df_5['progression_derniere_maj_date'].apply(lambda x : datetime.strptime(str(x),'%Y-%m-%d')if x !=0 else 0)\n",
        "df_5['date_valeur_initiale'] = df_5['date_valeur_initiale'].apply(lambda x : x.year if x !=0 else 0)\n",
        "df_5['date_valeur_actuelle'] = df_5['date_valeur_actuelle'].apply(lambda x : x.year if x !=0 else 0)\n",
        "df_5['progression_derniere_maj_date'] = df_5['progression_derniere_maj_date'].apply(lambda x : x.year if x !=0 else 0)"
      ],
      "metadata": {
        "id": "-cc2LgsHQOQX"
      },
      "execution_count": null,
      "outputs": []
    },
    {
      "cell_type": "markdown",
      "source": [
        "## Indicateurs par département"
      ],
      "metadata": {
        "id": "m4j2tyZYX2nC"
      }
    },
    {
      "cell_type": "code",
      "source": [
        "n = input('Entrez le numéro du département :')\n",
        "\n",
        "df_handicap = df_5[df_5['code_departement']==n].reset_index(drop = True)\n",
        "\n",
        "# Taux d'avancement\n",
        "value1 = int(df_handicap['pourcentage_cible'])\n",
        "\n",
        "# progression 20/21\n",
        "value3 = int(df_handicap['pourcentage_progression_derniere_maj'])\n",
        "\n",
        "# Nombre de labellisations\n",
        "dates_a = [df_handicap.loc[0,'date_valeur_initiale'], df_handicap.loc[0,'date_valeur_actuelle'],df_handicap.loc[0,'progression_derniere_maj_date']]\n",
        "\n",
        "values_a = [int(df_handicap.loc[0,'valeur_initiale']), int(df_handicap.loc[0,'valeur_actuelle']),int(df_handicap.loc[0,'progression_derniere_maj'])]"
      ],
      "metadata": {
        "colab": {
          "base_uri": "https://localhost:8080/"
        },
        "outputId": "d84aaa2f-b6d0-469a-ce96-cfd53beb610b",
        "id": "rhBQA09JQOQX"
      },
      "execution_count": null,
      "outputs": [
        {
          "name": "stdout",
          "output_type": "stream",
          "text": [
            "Entrez le numéro du département :69\n"
          ]
        }
      ]
    },
    {
      "cell_type": "code",
      "source": [
        "import plotly.graph_objects as go\n",
        "\n",
        "fig = go.Figure()\n",
        "\n",
        "fig.add_trace(go.Indicator(\n",
        "    value = value1,\n",
        "    title = {'text': \"Taux d'avancement\"},\n",
        "    domain = {'row': 0, 'column': 0},\n",
        "    gauge_axis_range=[-50,100]))\n",
        "\n",
        "\n",
        "fig.update_layout(\n",
        "    grid = {'rows': 1, 'columns': 2, 'pattern': \"independent\"},\n",
        "    title= {'text': 'Simplifier l’accès aux droits des personnes handicapées', 'xanchor':'left'},\n",
        "    template = {'data' : {'indicator': [{\n",
        "                                'mode' : \"number+gauge\",\n",
        "                                'number':{'suffix':'%'}}]},\n",
        "                                })\n",
        "fig.show()"
      ],
      "metadata": {
        "colab": {
          "base_uri": "https://localhost:8080/",
          "height": 542
        },
        "outputId": "ecc20b7b-dd49-48eb-e289-091364a1d5e9",
        "id": "ZPb3TQSNQOQX"
      },
      "execution_count": null,
      "outputs": [
        {
          "output_type": "display_data",
          "data": {
            "text/html": [
              "<html>\n",
              "<head><meta charset=\"utf-8\" /></head>\n",
              "<body>\n",
              "    <div>            <script src=\"https://cdnjs.cloudflare.com/ajax/libs/mathjax/2.7.5/MathJax.js?config=TeX-AMS-MML_SVG\"></script><script type=\"text/javascript\">if (window.MathJax) {MathJax.Hub.Config({SVG: {font: \"STIX-Web\"}});}</script>                <script type=\"text/javascript\">window.PlotlyConfig = {MathJaxConfig: 'local'};</script>\n",
              "        <script src=\"https://cdn.plot.ly/plotly-2.8.3.min.js\"></script>                <div id=\"b06c4574-e11c-4936-8022-d7442eaae053\" class=\"plotly-graph-div\" style=\"height:525px; width:100%;\"></div>            <script type=\"text/javascript\">                                    window.PLOTLYENV=window.PLOTLYENV || {};                                    if (document.getElementById(\"b06c4574-e11c-4936-8022-d7442eaae053\")) {                    Plotly.newPlot(                        \"b06c4574-e11c-4936-8022-d7442eaae053\",                        [{\"domain\":{\"column\":0,\"row\":0},\"gauge\":{\"axis\":{\"range\":[-50,100]}},\"title\":{\"text\":\"Taux d'avancement\"},\"value\":8,\"type\":\"indicator\"}],                        {\"template\":{\"data\":{\"bar\":[{\"error_x\":{\"color\":\"#2a3f5f\"},\"error_y\":{\"color\":\"#2a3f5f\"},\"marker\":{\"line\":{\"color\":\"#E5ECF6\",\"width\":0.5},\"pattern\":{\"fillmode\":\"overlay\",\"size\":10,\"solidity\":0.2}},\"type\":\"bar\"}],\"barpolar\":[{\"marker\":{\"line\":{\"color\":\"#E5ECF6\",\"width\":0.5},\"pattern\":{\"fillmode\":\"overlay\",\"size\":10,\"solidity\":0.2}},\"type\":\"barpolar\"}],\"carpet\":[{\"aaxis\":{\"endlinecolor\":\"#2a3f5f\",\"gridcolor\":\"white\",\"linecolor\":\"white\",\"minorgridcolor\":\"white\",\"startlinecolor\":\"#2a3f5f\"},\"baxis\":{\"endlinecolor\":\"#2a3f5f\",\"gridcolor\":\"white\",\"linecolor\":\"white\",\"minorgridcolor\":\"white\",\"startlinecolor\":\"#2a3f5f\"},\"type\":\"carpet\"}],\"choropleth\":[{\"colorbar\":{\"outlinewidth\":0,\"ticks\":\"\"},\"type\":\"choropleth\"}],\"contour\":[{\"colorbar\":{\"outlinewidth\":0,\"ticks\":\"\"},\"colorscale\":[[0.0,\"#0d0887\"],[0.1111111111111111,\"#46039f\"],[0.2222222222222222,\"#7201a8\"],[0.3333333333333333,\"#9c179e\"],[0.4444444444444444,\"#bd3786\"],[0.5555555555555556,\"#d8576b\"],[0.6666666666666666,\"#ed7953\"],[0.7777777777777778,\"#fb9f3a\"],[0.8888888888888888,\"#fdca26\"],[1.0,\"#f0f921\"]],\"type\":\"contour\"}],\"contourcarpet\":[{\"colorbar\":{\"outlinewidth\":0,\"ticks\":\"\"},\"type\":\"contourcarpet\"}],\"heatmap\":[{\"colorbar\":{\"outlinewidth\":0,\"ticks\":\"\"},\"colorscale\":[[0.0,\"#0d0887\"],[0.1111111111111111,\"#46039f\"],[0.2222222222222222,\"#7201a8\"],[0.3333333333333333,\"#9c179e\"],[0.4444444444444444,\"#bd3786\"],[0.5555555555555556,\"#d8576b\"],[0.6666666666666666,\"#ed7953\"],[0.7777777777777778,\"#fb9f3a\"],[0.8888888888888888,\"#fdca26\"],[1.0,\"#f0f921\"]],\"type\":\"heatmap\"}],\"heatmapgl\":[{\"colorbar\":{\"outlinewidth\":0,\"ticks\":\"\"},\"colorscale\":[[0.0,\"#0d0887\"],[0.1111111111111111,\"#46039f\"],[0.2222222222222222,\"#7201a8\"],[0.3333333333333333,\"#9c179e\"],[0.4444444444444444,\"#bd3786\"],[0.5555555555555556,\"#d8576b\"],[0.6666666666666666,\"#ed7953\"],[0.7777777777777778,\"#fb9f3a\"],[0.8888888888888888,\"#fdca26\"],[1.0,\"#f0f921\"]],\"type\":\"heatmapgl\"}],\"histogram\":[{\"marker\":{\"pattern\":{\"fillmode\":\"overlay\",\"size\":10,\"solidity\":0.2}},\"type\":\"histogram\"}],\"histogram2d\":[{\"colorbar\":{\"outlinewidth\":0,\"ticks\":\"\"},\"colorscale\":[[0.0,\"#0d0887\"],[0.1111111111111111,\"#46039f\"],[0.2222222222222222,\"#7201a8\"],[0.3333333333333333,\"#9c179e\"],[0.4444444444444444,\"#bd3786\"],[0.5555555555555556,\"#d8576b\"],[0.6666666666666666,\"#ed7953\"],[0.7777777777777778,\"#fb9f3a\"],[0.8888888888888888,\"#fdca26\"],[1.0,\"#f0f921\"]],\"type\":\"histogram2d\"}],\"histogram2dcontour\":[{\"colorbar\":{\"outlinewidth\":0,\"ticks\":\"\"},\"colorscale\":[[0.0,\"#0d0887\"],[0.1111111111111111,\"#46039f\"],[0.2222222222222222,\"#7201a8\"],[0.3333333333333333,\"#9c179e\"],[0.4444444444444444,\"#bd3786\"],[0.5555555555555556,\"#d8576b\"],[0.6666666666666666,\"#ed7953\"],[0.7777777777777778,\"#fb9f3a\"],[0.8888888888888888,\"#fdca26\"],[1.0,\"#f0f921\"]],\"type\":\"histogram2dcontour\"}],\"mesh3d\":[{\"colorbar\":{\"outlinewidth\":0,\"ticks\":\"\"},\"type\":\"mesh3d\"}],\"parcoords\":[{\"line\":{\"colorbar\":{\"outlinewidth\":0,\"ticks\":\"\"}},\"type\":\"parcoords\"}],\"pie\":[{\"automargin\":true,\"type\":\"pie\"}],\"scatter\":[{\"marker\":{\"colorbar\":{\"outlinewidth\":0,\"ticks\":\"\"}},\"type\":\"scatter\"}],\"scatter3d\":[{\"line\":{\"colorbar\":{\"outlinewidth\":0,\"ticks\":\"\"}},\"marker\":{\"colorbar\":{\"outlinewidth\":0,\"ticks\":\"\"}},\"type\":\"scatter3d\"}],\"scattercarpet\":[{\"marker\":{\"colorbar\":{\"outlinewidth\":0,\"ticks\":\"\"}},\"type\":\"scattercarpet\"}],\"scattergeo\":[{\"marker\":{\"colorbar\":{\"outlinewidth\":0,\"ticks\":\"\"}},\"type\":\"scattergeo\"}],\"scattergl\":[{\"marker\":{\"colorbar\":{\"outlinewidth\":0,\"ticks\":\"\"}},\"type\":\"scattergl\"}],\"scattermapbox\":[{\"marker\":{\"colorbar\":{\"outlinewidth\":0,\"ticks\":\"\"}},\"type\":\"scattermapbox\"}],\"scatterpolar\":[{\"marker\":{\"colorbar\":{\"outlinewidth\":0,\"ticks\":\"\"}},\"type\":\"scatterpolar\"}],\"scatterpolargl\":[{\"marker\":{\"colorbar\":{\"outlinewidth\":0,\"ticks\":\"\"}},\"type\":\"scatterpolargl\"}],\"scatterternary\":[{\"marker\":{\"colorbar\":{\"outlinewidth\":0,\"ticks\":\"\"}},\"type\":\"scatterternary\"}],\"surface\":[{\"colorbar\":{\"outlinewidth\":0,\"ticks\":\"\"},\"colorscale\":[[0.0,\"#0d0887\"],[0.1111111111111111,\"#46039f\"],[0.2222222222222222,\"#7201a8\"],[0.3333333333333333,\"#9c179e\"],[0.4444444444444444,\"#bd3786\"],[0.5555555555555556,\"#d8576b\"],[0.6666666666666666,\"#ed7953\"],[0.7777777777777778,\"#fb9f3a\"],[0.8888888888888888,\"#fdca26\"],[1.0,\"#f0f921\"]],\"type\":\"surface\"}],\"table\":[{\"cells\":{\"fill\":{\"color\":\"#EBF0F8\"},\"line\":{\"color\":\"white\"}},\"header\":{\"fill\":{\"color\":\"#C8D4E3\"},\"line\":{\"color\":\"white\"}},\"type\":\"table\"}],\"indicator\":[{\"mode\":\"number+gauge\",\"number\":{\"suffix\":\"%\"},\"type\":\"indicator\"}]},\"layout\":{\"annotationdefaults\":{\"arrowcolor\":\"#2a3f5f\",\"arrowhead\":0,\"arrowwidth\":1},\"autotypenumbers\":\"strict\",\"coloraxis\":{\"colorbar\":{\"outlinewidth\":0,\"ticks\":\"\"}},\"colorscale\":{\"diverging\":[[0,\"#8e0152\"],[0.1,\"#c51b7d\"],[0.2,\"#de77ae\"],[0.3,\"#f1b6da\"],[0.4,\"#fde0ef\"],[0.5,\"#f7f7f7\"],[0.6,\"#e6f5d0\"],[0.7,\"#b8e186\"],[0.8,\"#7fbc41\"],[0.9,\"#4d9221\"],[1,\"#276419\"]],\"sequential\":[[0.0,\"#0d0887\"],[0.1111111111111111,\"#46039f\"],[0.2222222222222222,\"#7201a8\"],[0.3333333333333333,\"#9c179e\"],[0.4444444444444444,\"#bd3786\"],[0.5555555555555556,\"#d8576b\"],[0.6666666666666666,\"#ed7953\"],[0.7777777777777778,\"#fb9f3a\"],[0.8888888888888888,\"#fdca26\"],[1.0,\"#f0f921\"]],\"sequentialminus\":[[0.0,\"#0d0887\"],[0.1111111111111111,\"#46039f\"],[0.2222222222222222,\"#7201a8\"],[0.3333333333333333,\"#9c179e\"],[0.4444444444444444,\"#bd3786\"],[0.5555555555555556,\"#d8576b\"],[0.6666666666666666,\"#ed7953\"],[0.7777777777777778,\"#fb9f3a\"],[0.8888888888888888,\"#fdca26\"],[1.0,\"#f0f921\"]]},\"colorway\":[\"#636efa\",\"#EF553B\",\"#00cc96\",\"#ab63fa\",\"#FFA15A\",\"#19d3f3\",\"#FF6692\",\"#B6E880\",\"#FF97FF\",\"#FECB52\"],\"font\":{\"color\":\"#2a3f5f\"},\"geo\":{\"bgcolor\":\"white\",\"lakecolor\":\"white\",\"landcolor\":\"#E5ECF6\",\"showlakes\":true,\"showland\":true,\"subunitcolor\":\"white\"},\"hoverlabel\":{\"align\":\"left\"},\"hovermode\":\"closest\",\"mapbox\":{\"style\":\"light\"},\"paper_bgcolor\":\"white\",\"plot_bgcolor\":\"#E5ECF6\",\"polar\":{\"angularaxis\":{\"gridcolor\":\"white\",\"linecolor\":\"white\",\"ticks\":\"\"},\"bgcolor\":\"#E5ECF6\",\"radialaxis\":{\"gridcolor\":\"white\",\"linecolor\":\"white\",\"ticks\":\"\"}},\"scene\":{\"xaxis\":{\"backgroundcolor\":\"#E5ECF6\",\"gridcolor\":\"white\",\"gridwidth\":2,\"linecolor\":\"white\",\"showbackground\":true,\"ticks\":\"\",\"zerolinecolor\":\"white\"},\"yaxis\":{\"backgroundcolor\":\"#E5ECF6\",\"gridcolor\":\"white\",\"gridwidth\":2,\"linecolor\":\"white\",\"showbackground\":true,\"ticks\":\"\",\"zerolinecolor\":\"white\"},\"zaxis\":{\"backgroundcolor\":\"#E5ECF6\",\"gridcolor\":\"white\",\"gridwidth\":2,\"linecolor\":\"white\",\"showbackground\":true,\"ticks\":\"\",\"zerolinecolor\":\"white\"}},\"shapedefaults\":{\"line\":{\"color\":\"#2a3f5f\"}},\"ternary\":{\"aaxis\":{\"gridcolor\":\"white\",\"linecolor\":\"white\",\"ticks\":\"\"},\"baxis\":{\"gridcolor\":\"white\",\"linecolor\":\"white\",\"ticks\":\"\"},\"bgcolor\":\"#E5ECF6\",\"caxis\":{\"gridcolor\":\"white\",\"linecolor\":\"white\",\"ticks\":\"\"}},\"title\":{\"x\":0.05},\"xaxis\":{\"automargin\":true,\"gridcolor\":\"white\",\"linecolor\":\"white\",\"ticks\":\"\",\"title\":{\"standoff\":15},\"zerolinecolor\":\"white\",\"zerolinewidth\":2},\"yaxis\":{\"automargin\":true,\"gridcolor\":\"white\",\"linecolor\":\"white\",\"ticks\":\"\",\"title\":{\"standoff\":15},\"zerolinecolor\":\"white\",\"zerolinewidth\":2}}},\"grid\":{\"rows\":1,\"columns\":2,\"pattern\":\"independent\"},\"title\":{\"text\":\"Simplifier l\\u2019acc\\u00e8s aux droits des personnes handicap\\u00e9es\",\"xanchor\":\"left\"}},                        {\"responsive\": true}                    ).then(function(){\n",
              "                            \n",
              "var gd = document.getElementById('b06c4574-e11c-4936-8022-d7442eaae053');\n",
              "var x = new MutationObserver(function (mutations, observer) {{\n",
              "        var display = window.getComputedStyle(gd).display;\n",
              "        if (!display || display === 'none') {{\n",
              "            console.log([gd, 'removed!']);\n",
              "            Plotly.purge(gd);\n",
              "            observer.disconnect();\n",
              "        }}\n",
              "}});\n",
              "\n",
              "// Listen for the removal of the full notebook cells\n",
              "var notebookContainer = gd.closest('#notebook-container');\n",
              "if (notebookContainer) {{\n",
              "    x.observe(notebookContainer, {childList: true});\n",
              "}}\n",
              "\n",
              "// Listen for the clearing of the current output cell\n",
              "var outputEl = gd.closest('.output');\n",
              "if (outputEl) {{\n",
              "    x.observe(outputEl, {childList: true});\n",
              "}}\n",
              "\n",
              "                        })                };                            </script>        </div>\n",
              "</body>\n",
              "</html>"
            ]
          },
          "metadata": {}
        }
      ]
    },
    {
      "cell_type": "code",
      "source": [
        "# Evolution du nombre de mois pour le traitement des demandes d'allocation par département\n",
        "\n",
        "n = input('Entrer le numéro du département :')\n",
        "\n",
        "df_det_dept = detail_5[detail_5['code_departement']==n].reset_index(drop = True)\n",
        "\n",
        "fig3 = plt.figure(figsize= (20,8))\n",
        "fig3 = sns.lineplot(data=df_det_dept, x = 'date', y = 'valeur', palette = 'viridis')\n",
        "fig3 = sns.lineplot(data = pd.DataFrame(detail_5.groupby(by='date').valeur.agg('mean')), x = 'date', y = 'valeur' )\n",
        "fig3 = plt.title (f'Evolution temps de traitement des demandes AAH - {n}', size = 16)\n",
        "fig3 = plt.legend([f'{n}','moyenne nationale'])\n",
        "fig3 = plt.xlabel('')\n",
        "fig3 = plt.ylabel('Nombre de mois en moyenne')\n",
        "fig3 = plt.xticks(rotation='vertical')\n",
        "plt.show"
      ],
      "metadata": {
        "colab": {
          "base_uri": "https://localhost:8080/",
          "height": 566
        },
        "id": "sFI-IfFUYk66",
        "outputId": "ca8fe8a0-07df-4ebf-907e-f4231be3e669"
      },
      "execution_count": null,
      "outputs": [
        {
          "name": "stdout",
          "output_type": "stream",
          "text": [
            "Entrer le numéro du département :85\n"
          ]
        },
        {
          "output_type": "execute_result",
          "data": {
            "text/plain": [
              "<function matplotlib.pyplot.show>"
            ]
          },
          "metadata": {},
          "execution_count": 278
        },
        {
          "output_type": "display_data",
          "data": {
            "image/png": "[encoded data removed]",
            "text/plain": [
              "<Figure size 1440x576 with 1 Axes>"
            ]
          },
          "metadata": {
            "needs_background": "light"
          }
        }
      ]
    },
    {
      "cell_type": "markdown",
      "source": [
        "## Taux d'avancement"
      ],
      "metadata": {
        "id": "sZtzDT3OaHzI"
      }
    },
    {
      "cell_type": "code",
      "source": [
        "df_5.date_valeur_initiale.value_counts()"
      ],
      "metadata": {
        "colab": {
          "base_uri": "https://localhost:8080/"
        },
        "id": "iv_U5Bc4alDh",
        "outputId": "1a9e7d05-c5b9-4f40-a285-6dddf38ff903"
      },
      "execution_count": null,
      "outputs": [
        {
          "output_type": "execute_result",
          "data": {
            "text/plain": [
              "2017    82\n",
              "2018     8\n",
              "2021     4\n",
              "2020     3\n",
              "2019     3\n",
              "Name: date_valeur_initiale, dtype: int64"
            ]
          },
          "metadata": {},
          "execution_count": 12
        }
      ]
    },
    {
      "cell_type": "code",
      "source": [
        "df_5.date_valeur_actuelle.value_counts()"
      ],
      "metadata": {
        "colab": {
          "base_uri": "https://localhost:8080/"
        },
        "id": "CcNPN05UbZlD",
        "outputId": "8d22b203-821e-4897-f5bc-139ac49e23a9"
      },
      "execution_count": null,
      "outputs": [
        {
          "output_type": "execute_result",
          "data": {
            "text/plain": [
              "2021    96\n",
              "2019     4\n",
              "Name: date_valeur_actuelle, dtype: int64"
            ]
          },
          "metadata": {},
          "execution_count": 284
        }
      ]
    },
    {
      "cell_type": "code",
      "source": [
        "df_5.progression_derniere_maj_date.value_counts()"
      ],
      "metadata": {
        "colab": {
          "base_uri": "https://localhost:8080/"
        },
        "id": "aUJhF_i1bieC",
        "outputId": "896276a2-50ad-436c-80dd-6cf696766cf7"
      },
      "execution_count": null,
      "outputs": [
        {
          "output_type": "execute_result",
          "data": {
            "text/plain": [
              "2020    60\n",
              "2019    30\n",
              "0        5\n",
              "2018     4\n",
              "2017     1\n",
              "Name: progression_derniere_maj_date, dtype: int64"
            ]
          },
          "metadata": {},
          "execution_count": 285
        }
      ]
    },
    {
      "cell_type": "code",
      "source": [
        "fig9, ax = plt.subplots(figsize = (30,10))\n",
        "fig9.suptitle(\"Durée moyenne de traitement pour les demandes d’allocation adulte handicapé (mois)\", fontsize=16)\n",
        "\n",
        "ax1 = plt.subplot(131)\n",
        "ax1 = sns.histplot(data = df_5, x = \"valeur_actuelle\", color = 'red')\n",
        "ax1.set_title(\"Actuellement\")\n",
        "\n",
        "ax2 = plt.subplot(132)\n",
        "ax2 = sns.histplot(data = df_5, x = \"progression_derniere_maj\", color = 'orangered')\n",
        "ax2.set_title(\"En 2020\")\n",
        "\n",
        "ax3 = plt.subplot(133)\n",
        "ax3 = sns.histplot(data = df_5, x = \"valeur_initiale\", color = 'orange')\n",
        "ax3.set_title(\"En 2017 (ou année valeur initiale)\")\n",
        "\n",
        "fig9.show()"
      ],
      "metadata": {
        "colab": {
          "base_uri": "https://localhost:8080/",
          "height": 669
        },
        "id": "l0kRGgL9aJ4r",
        "outputId": "b2ccf674-4042-4b87-cd36-86cf5437a7d7"
      },
      "execution_count": null,
      "outputs": [
        {
          "output_type": "display_data",
          "data": {
            "image/png": "[encoded data removed]",
            "text/plain": [
              "<Figure size 2160x720 with 3 Axes>"
            ]
          },
          "metadata": {
            "needs_background": "light"
          }
        }
      ]
    },
    {
      "cell_type": "code",
      "source": [
        "# quels sont les taux d'avancement\n",
        "\n",
        "fig10, ax = plt.subplots(figsize = (20,8))\n",
        "fig10.suptitle(\"Répartition des taux d'avancement concernant l'accès aux droits des personnes handicapées\", fontsize=16)\n",
        "\n",
        "ax1 = plt.subplot(121)\n",
        "ax1 = sns.histplot(df_5.pourcentage_cible,color = 'indigo',shrink=0.8,  multiple=\"dodge\", kde=True, bins = 20)\n",
        "ax1.set_title(\"Actuellement (2021)\")\n",
        "\n",
        "ax2 = plt.subplot(122)\n",
        "ax2 = sns.histplot(data = df_5[\"progression_derniere_maj\"]/df_5['cible']*100,color = 'mediumaquamarine', shrink=0.8,  multiple=\"dodge\", kde=True, bins = 20)\n",
        "ax2.set_title(\"Mesure intermédiaire(2019 ou 2020)\")\n",
        "ax2.set_ylim(ymax = 50)\n",
        "\n",
        "fig10.show()"
      ],
      "metadata": {
        "colab": {
          "base_uri": "https://localhost:8080/",
          "height": 554
        },
        "id": "_sdJr0AAbI3x",
        "outputId": "9151cf7a-e848-4f36-d4fc-9ec418c5c6ea"
      },
      "execution_count": null,
      "outputs": [
        {
          "output_type": "display_data",
          "data": {
            "image/png": "[encoded data removed]",
            "text/plain": [
              "<Figure size 1440x576 with 2 Axes>"
            ]
          },
          "metadata": {
            "needs_background": "light"
          }
        }
      ]
    },
    {
      "cell_type": "code",
      "source": [
        "# difficulté à lire ces graphes car valeur peut être positive ou négative. Je vois combien de dpt font mieux que la cible. ACTUELLEMENT\n",
        "\n",
        "mieux = df_5[df_5['cible']>df_5['valeur_actuelle']]\n",
        "bien = df_5[(df_5['pourcentage_cible']>=80)&(df_5['pourcentage_cible']<100)]\n",
        "\n",
        "print ('le nombre de département qui actuellement a des délais de traitement plus court pour atteindre la cible:',len(mieux))\n",
        "print ('le nombre de département qui rempli l\\'objectif à 80% sans atteindre cible :', len(bien))\n",
        "\n",
        "# et les mauvais élèves\n",
        "bas = df_5[(df_5['pourcentage_cible']<=10)]\n",
        "print ('le nombre de département qui actuellement atteind - de 10% de la cible:',len(bas))"
      ],
      "metadata": {
        "colab": {
          "base_uri": "https://localhost:8080/"
        },
        "id": "KBofYdIzctGl",
        "outputId": "95036474-da69-412d-b60a-51c178672b3a"
      },
      "execution_count": null,
      "outputs": [
        {
          "output_type": "stream",
          "name": "stdout",
          "text": [
            "le nombre de département qui actuellement a des délais de traitement plus court pour atteindre la cible: 22\n",
            "le nombre de département qui rempli l'objectif à 80% sans atteindre cible : 9\n",
            "le nombre de département qui actuellement atteind - de 10% de la cible: 49\n"
          ]
        }
      ]
    },
    {
      "cell_type": "code",
      "source": [
        "# IDEM en 2020\n",
        "mieux = df_5[df_5['cible']>df_5['progression_derniere_maj']]\n",
        "bien = df_5[(df_5[\"progression_derniere_maj\"]/df_5['cible']*100>=80)&(df_5[\"progression_derniere_maj\"]/df_5['cible']*100<100)]\n",
        "\n",
        "print ('le nombre de département qui a des délais de traitement plus court pour atteindre la cible:',len(mieux))\n",
        "print ('le nombre de département qui rempli l\\'objectif à 80% sans atteindre cible :', len(bien))\n",
        "\n",
        "# et les mauvais élèves\n",
        "bas = df_5[df_5[\"progression_derniere_maj\"]/df_5['cible']*100<=10]\n",
        "print ('le nombre de département à atteindre - de 10%la cible:',len(bas))\n"
      ],
      "metadata": {
        "colab": {
          "base_uri": "https://localhost:8080/"
        },
        "id": "AOvI0ICJhJX4",
        "outputId": "6b7a12e1-6179-4764-cf0f-b317fa4dc995"
      },
      "execution_count": null,
      "outputs": [
        {
          "output_type": "stream",
          "name": "stdout",
          "text": [
            "le nombre de département qui a des délais de traitement plus court pour atteindre la cible: 19\n",
            "le nombre de département qui rempli l'objectif à 80% sans atteindre cible : 12\n",
            "le nombre de département à atteindre - de 10%la cible: 5\n"
          ]
        }
      ]
    },
    {
      "cell_type": "code",
      "source": [
        "# avec des boxplots pour vérifier que la distribution est de plus en plus normalisée autour de 3/4 mois (objectif national)\n",
        "\n",
        "fig11, ax = plt.subplots(figsize = (30,10))\n",
        "fig11.suptitle(\"Durée moyenne de traitement pour les demandes d’allocation adulte handicapé (mois)\", fontsize=16)\n",
        "\n",
        "ax1 = plt.subplot(131)\n",
        "ax1 = sns.boxplot(data = df_5, y = \"valeur_actuelle\", color = 'red')\n",
        "ax1.set_title(\"Actuellement\")\n",
        "\n",
        "ax2 = plt.subplot(132)\n",
        "ax2 = sns.boxplot(data = df_5, y = \"progression_derniere_maj\", color = 'orangered')\n",
        "ax2.set_title(\"En 2020\")\n",
        "\n",
        "ax3 = plt.subplot(133)\n",
        "ax3 = sns.boxplot(data = df_5, y = \"valeur_initiale\", color = 'orange')\n",
        "ax3.set_title(\"En 2017 (ou année valeur initiale)\")\n",
        "\n",
        "fig11.show()"
      ],
      "metadata": {
        "colab": {
          "base_uri": "https://localhost:8080/",
          "height": 641
        },
        "id": "gS5lhNC3mqW5",
        "outputId": "0f5a90e7-cee4-4597-e465-91245a6ad616"
      },
      "execution_count": null,
      "outputs": [
        {
          "output_type": "display_data",
          "data": {
            "image/png": "[encoded data removed]",
            "text/plain": [
              "<Figure size 2160x720 with 3 Axes>"
            ]
          },
          "metadata": {
            "needs_background": "light"
          }
        }
      ]
    },
    {
      "cell_type": "code",
      "source": [
        "np.std(df_5.valeur_initiale)"
      ],
      "metadata": {
        "colab": {
          "base_uri": "https://localhost:8080/"
        },
        "id": "3F9OT9YX-EAb",
        "outputId": "7363c0be-b741-48ee-d0bb-266d1a78ad4e"
      },
      "execution_count": null,
      "outputs": [
        {
          "output_type": "execute_result",
          "data": {
            "text/plain": [
              "1.7367126964469397"
            ]
          },
          "metadata": {},
          "execution_count": 18
        }
      ]
    },
    {
      "cell_type": "code",
      "source": [
        "np.std(df_5.progression_derniere_maj)"
      ],
      "metadata": {
        "colab": {
          "base_uri": "https://localhost:8080/"
        },
        "id": "859hYXzP9t5r",
        "outputId": "e0c33534-f231-494f-a596-8bcf7895d479"
      },
      "execution_count": null,
      "outputs": [
        {
          "output_type": "execute_result",
          "data": {
            "text/plain": [
              "1.9586349838599326"
            ]
          },
          "metadata": {},
          "execution_count": 16
        }
      ]
    },
    {
      "cell_type": "code",
      "source": [
        "np.std(df_5.valeur_actuelle)"
      ],
      "metadata": {
        "colab": {
          "base_uri": "https://localhost:8080/"
        },
        "id": "Xk0wH-Fm9sxS",
        "outputId": "582b79c6-87d5-4acc-d6c2-64c841c66c9d"
      },
      "execution_count": null,
      "outputs": [
        {
          "output_type": "execute_result",
          "data": {
            "text/plain": [
              "1.6378358006833282"
            ]
          },
          "metadata": {},
          "execution_count": 15
        }
      ]
    },
    {
      "cell_type": "markdown",
      "source": [
        "Il s'agit d'une donnée qu'on ne peut que difficilement comparer à une cible car l'avancement peut varier en positif comme en négatif d'une prise de mesure à l'autre.\n",
        "\n",
        "Si aujourd'hui, il semble y avoir beaucoup de département dont l'objectif est atteint, il y en a aussi beaucoup qui font moins bien qu'avant.\n",
        "Et tout cela peut changer lors de la prochaine mesure courant 2022.\n",
        "\n",
        "Il semble y avoir une sorte de convergence mais avec beaucoup de différence entre les départements."
      ],
      "metadata": {
        "id": "ip5z5Xo0fhtS"
      }
    },
    {
      "cell_type": "code",
      "source": [
        "detail_5.to_csv('handicap-detail.csv', index = False)\n",
        "df_5.to_csv('handicap.csv', index = False)"
      ],
      "metadata": {
        "id": "N0-IDe_UQOQV"
      },
      "execution_count": null,
      "outputs": []
    },
    {
      "cell_type": "markdown",
      "source": [
        "# A suivre\n",
        "\n",
        "- ajouter écart type à indicateurs fibre\n",
        "- revoir indicateurs des centres de santé car pas de maj progression en 2020\n",
        "- revoir les jauges pour atteinte de + de 100%"
      ],
      "metadata": {
        "id": "4GFaFTvAJHPH"
      }
    },
    {
      "cell_type": "markdown",
      "source": [
        "A kernel density estimate (KDE) plot is a method for visualizing the distribution of observations in a dataset, analagous to a histogram. KDE represents the data using a continuous probability density curve in one or more dimensions.\n",
        "estimation par noyau "
      ],
      "metadata": {
        "id": "re7MBikqKvbo"
      }
    }
  ]
}